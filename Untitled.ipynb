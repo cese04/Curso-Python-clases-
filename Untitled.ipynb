{
 "cells": [
  {
   "cell_type": "markdown",
   "metadata": {},
   "source": [
    "# Introducción Python\n",
    "---\n",
    " ## Entorno de programación\n",
    "\n",
    "Para la programación en este curso utilizaremos un entorno llamado Jupyter Notebook, que es un interprete que emplea nuestro explorador *Explicar sobre Jupyter* \n",
    "La versión de Python será la 3.6, sin embargo es posible aplicar parte del curso en Python 2.7\n",
    "El sistema operativo necesario puede ser cualquier versión de Ubuntu superior a la 11.10, o Windows que soporte Anaconda.\n",
    "\n",
    " ### Anaconda\n",
    "Anaconda es una distribución gratuita de Python para ciencia, aplicaciones entorno al aprendizaje automatico y procesamiento de datos. \n",
    "Las liberias y versiones de Python que descargamos de esta distribución tiene compatibilidad entre sí y permiten estabilidad del sistema.\n",
    "Dentro de las versiones descargables de Anaconda tenemos la correspondiente para Windows/Ubuntu en 32 o 64bits.\n",
    " ### Instalación de Python\n",
    "* Descargar distribución adecuada de Anaconda \n",
    "* Abrir una terminal y ejecutar: \"python\" \n",
    "* [usar Windows+R, ejecutar cmd // Ctrl+Alt+T]\n",
    "* En caso de que no esté instalado:\n",
    "    sudo apt-get update\n",
    "    sudo apt-get upgrade\n",
    "    sudo apt-get install python2.7\n",
    "* Mencionar comandos\n",
    "### Ejecutar Jupyter Notebook\n",
    "* Instalar Jupyter Notebook mediante (Anaconda ya otorga una versión de Jupyter Notebook):\n",
    "    pip3 install --upgrade pip\n",
    "    pip3 install jupyter\n",
    "    (o pip para python2 en lugar de pip3)\n",
    "* Abrir el prompt de Anaconda\n",
    "* Ejecutar: \"Jupyter Notebook\"\n",
    "\n",
    "#### Notas finales\n",
    "    Siempre es posible utilizar un Idle o entorno de programación diferente mientras se tenga instalada la base de Python dentro de nuestra computadora. \n",
    "    Todas las interfases que utilicemos emplearán la distribución de interprete actual que tengamos para ejecutar nuestros programas.\n",
    "    "
   ]
  },
  {
   "cell_type": "markdown",
   "metadata": {},
   "source": [
    "# Diferencias con C\n",
    "---\n",
    "## Identación\n",
    "    La programación en Python emplea la identación para la formación de bloques en las estructuras de control e indicar donde termina y empieza cierta secuencia de comandos. \n",
    "    La identación es conocida como el espaciamiento horizontal en una linea de código, por ejemplo:"
   ]
  },
  {
   "cell_type": "code",
   "execution_count": 17,
   "metadata": {},
   "outputs": [
    {
     "name": "stdout",
     "output_type": "stream",
     "text": [
      "z -1\n",
      "Zeta es negativo\n",
      "z 0\n",
      "Zeta es 0\n",
      "z 1\n",
      "Zeta es positivo\n"
     ]
    }
   ],
   "source": [
    "for i in range(-1,2):\n",
    "    print 'z', i\n",
    "    if(i>0):\n",
    "        print 'Zeta es positivo'\n",
    "    else:\n",
    "        if(i<0):\n",
    "            print 'Zeta es negativo'\n",
    "        else:\n",
    "            print 'Zeta es 0'"
   ]
  },
  {
   "cell_type": "markdown",
   "metadata": {},
   "source": [
    "## Interprete vs Compilador\n",
    "    A diferecia de C o C++ que emplean un idle o entorno que compila nuestro código (formar un .exe y ejecutarlo) \n",
    "    Python emplea un interprete, que da una salida directa de nuestro código sin formar un .exe\n",
    "    Otra diferencia es que el compilador realiza una traducción directa y el interprete analiza y corrije\n",
    "    \n",
    "## Variables dinamicas\n",
    "    No es necesario declarar el tipo de variable a utilizar en Python, ya que al leer una entrada esta es \"interpretada\" y se le asigna el tipo de variable capaz de soportar dicha entrada. \n",
    "    \n"
   ]
  },
  {
   "cell_type": "code",
   "execution_count": 29,
   "metadata": {},
   "outputs": [
    {
     "name": "stdout",
     "output_type": "stream",
     "text": [
      "1  °Es de tipo: <type 'int'>\n",
      "1  °Es de tipo: <type 'str'>\n",
      "hola  °Es de tipo: <type 'str'>\n",
      "0.12  °Es de tipo: <type 'float'>\n",
      "[1, 2, 'hola', '2']  °Es de tipo: <type 'list'>\n"
     ]
    }
   ],
   "source": [
    "import numpy as np\n",
    "\n",
    "A= 1\n",
    "B= '1'\n",
    "C=  'hola'\n",
    "D= 0.12\n",
    "E= [1,2,'hola','2']\n",
    "\n",
    "for i in ([A,B,C,D,E]):\n",
    "    print i,' °Es de tipo:',type(i)\n"
   ]
  },
  {
   "cell_type": "markdown",
   "metadata": {},
   "source": [
    "## Paradigma\n",
    "    Python es un lenguaje multiparadigma, dentro de este curso emplearemos programación orientada a objetos y estructurada/secuencial.\n",
    "    Ya que Python está basado en POO la mayoría de las veces nos referiremos a métodos y atributos a lo conocido anteriormente como funciones y variables.\n",
    "    Igual que al programar en C++ es posible tratar de entender el funcionamiento de nuestro código pensando que se trata de programación estructurada, pero debido a la forma de objetos este enfoque debe ser superado.\n",
    "    \n",
    "## Que necesita un cientifico\n",
    "* Adquirir información\n",
    "* Manipular la información\n",
    "* Visualizar la información\n",
    "* Comunicar / Compartir resultados"
   ]
  },
  {
   "cell_type": "markdown",
   "metadata": {},
   "source": [
    "# Tipos de variable de Python\n",
    "---\n",
    "    Pese a que en python nuestras variables pueden ser empleadas sin definirlas es útil conocer los tipos de varible que podemos declarar en Python, en especial como posibles argumentos para métodos/funciones espécificos. Variables comunes son:\n",
    "\n",
    "* Entero\n",
    "* Octal\n",
    "* Hexadecimal\n",
    "* Real\n",
    "* Boleano\n",
    "* Cadena"
   ]
  },
  {
   "cell_type": "code",
   "execution_count": 56,
   "metadata": {},
   "outputs": [
    {
     "name": "stdout",
     "output_type": "stream",
     "text": [
      "20 16 32\n",
      "12.3123\n",
      "True False\n",
      "Nombre de algo\n"
     ]
    }
   ],
   "source": [
    "Edad = 20\n",
    "Edad1 = 020\n",
    "Edad2 = 0x20\n",
    "\n",
    "Fraccion = 12.3123\n",
    "\n",
    "Valor = True\n",
    "Negar = False\n",
    "\n",
    "Cadena1= 'Nombre de algo'\n",
    "\n",
    "print Edad, Edad1, Edad2 \n",
    "print Fraccion\n",
    "print Valor, Negar\n",
    "print Cadena1"
   ]
  },
  {
   "cell_type": "markdown",
   "metadata": {},
   "source": [
    "# Operadores elementales\n",
    "---\n",
    "| Simbolo| Significa |\n",
    "|---|---|\n",
    "| + | Suma  |\n",
    "| - | Resta |\n",
    "| not | Negación |\n",
    "| * | Producto |\n",
    "| ** | Potencia |\n",
    "| /  | División |\n",
    "| // | División entera|\n",
    "| %  | Modulo |\n",
    "|#   | Comentario|\n"
   ]
  },
  {
   "cell_type": "code",
   "execution_count": 72,
   "metadata": {},
   "outputs": [
    {
     "name": "stdout",
     "output_type": "stream",
     "text": [
      "3.0\n",
      "-1.0\n",
      "False\n",
      "True\n",
      "2.0\n",
      "8.0\n",
      "0.666666666667\n",
      "0.0\n",
      "2.0\n"
     ]
    }
   ],
   "source": [
    "A=1\n",
    "B=2.0\n",
    "Bol=False\n",
    "\n",
    "print A+B\n",
    "print A-B\n",
    "print not A\n",
    "print not Bol\n",
    "print A*B\n",
    "print B**3\n",
    "print (B/3)\n",
    "print B//3\n",
    "print B%3\n",
    "\n",
    "# Esto es un comentario, no se ejecuta"
   ]
  },
  {
   "cell_type": "markdown",
   "metadata": {},
   "source": [
    "# Tupla, lista y diccionario\n",
    "---\n",
    "Además de los mencionados, tenemos tipos de datos complejos. Estos datos se componen de más de un elemento y pueden incluir más de un tipo de dato interno, incluido a su vez otro dato complejo:\n",
    "\n",
    "## Tupla\n",
    "    La tupla es un arreglo de datos similar a unn vector, con la caracteristica de que pese a que podemos accedar a los elementos de su arreglo estos elementos no son alterables. Para definir una tupla se emplean los parentesis simples \"()\"\n",
    "    "
   ]
  },
  {
   "cell_type": "code",
   "execution_count": 84,
   "metadata": {},
   "outputs": [
    {
     "name": "stdout",
     "output_type": "stream",
     "text": [
      "1\n",
      "(1, 2, 3, 4)\n",
      "<type 'tuple'>\n"
     ]
    },
    {
     "ename": "TypeError",
     "evalue": "'tuple' object does not support item assignment",
     "output_type": "error",
     "traceback": [
      "\u001b[1;31m---------------------------------------------------------------------------\u001b[0m",
      "\u001b[1;31mTypeError\u001b[0m                                 Traceback (most recent call last)",
      "\u001b[1;32m<ipython-input-84-1cdd3cfc66ca>\u001b[0m in \u001b[0;36m<module>\u001b[1;34m()\u001b[0m\n\u001b[0;32m      4\u001b[0m \u001b[1;32mprint\u001b[0m \u001b[0mtype\u001b[0m\u001b[1;33m(\u001b[0m\u001b[0mTupla1\u001b[0m\u001b[1;33m)\u001b[0m\u001b[1;33m\u001b[0m\u001b[0m\n\u001b[0;32m      5\u001b[0m \u001b[1;33m\u001b[0m\u001b[0m\n\u001b[1;32m----> 6\u001b[1;33m \u001b[0mTupla1\u001b[0m\u001b[1;33m[\u001b[0m\u001b[1;36m0\u001b[0m\u001b[1;33m]\u001b[0m\u001b[1;33m=\u001b[0m\u001b[1;36m2\u001b[0m\u001b[1;33m\u001b[0m\u001b[0m\n\u001b[0m\u001b[0;32m      7\u001b[0m \u001b[1;31m#Mencionar: pese al error el programa interpreta el código linea por linea\u001b[0m\u001b[1;33m\u001b[0m\u001b[1;33m\u001b[0m\u001b[0m\n\u001b[0;32m      8\u001b[0m \u001b[1;31m#Arreglos comienzan con el elemento 0, igual que en C, diferente que en MatLab\u001b[0m\u001b[1;33m\u001b[0m\u001b[1;33m\u001b[0m\u001b[0m\n",
      "\u001b[1;31mTypeError\u001b[0m: 'tuple' object does not support item assignment"
     ]
    }
   ],
   "source": [
    "Tupla1=(1,2,3,4)\n",
    "print Tupla1[0]\n",
    "print Tupla1\n",
    "print type(Tupla1)\n",
    "\n",
    "Tupla1[0]=2\n",
    "#Mencionar: pese al error el programa interpreta el código linea por linea\n",
    "#Arreglos comienzan con el elemento 0, igual que en C, diferente que en MatLab"
   ]
  },
  {
   "cell_type": "markdown",
   "metadata": {},
   "source": [
    "## Lista\n",
    "    Como su nombre lo indica, una lista es un arreglo de otros datos de forma ordenada. Igual que la tupla emplea indices para referirnos a sus elementos. Para definirla se emplean los corchetes rectos: \"[]\"\n",
    "    Además permiten agregar datos\n",
    "\n",
    "  "
   ]
  },
  {
   "cell_type": "code",
   "execution_count": 90,
   "metadata": {},
   "outputs": [
    {
     "name": "stdout",
     "output_type": "stream",
     "text": [
      "[1, 'dos', False, [45, 'cien']]\n",
      "[1, 'dos', False, [45, 'cien'], ('a', 'b', 1, ('Z', 3), ['Z', 2])]\n"
     ]
    }
   ],
   "source": [
    "#Ejemplo de lista multi datos\n",
    "lista = [1, \"dos\", False, [45, \"cien\"]]  \n",
    "print lista\n",
    "    \n",
    "Tupla2=('a','b',1,('Z',3),['Z',2])\n",
    "\n",
    "lista.append(Tupla2)\n",
    "print lista"
   ]
  },
  {
   "cell_type": "markdown",
   "metadata": {},
   "source": [
    "## Diccionario\n",
    "\n",
    "Un diccionario es quivalente a una lista cuya entrada, en lugar de ser el indice determinado para la posición de cada elemento, es una clave determinada para cada unico elemento del diccionario.\n",
    "Es posible eliminar, agregar y modificar cada uno de los valores del diccionario\n",
    "Los diccionarios se crean utilizando los corchetes curvos \"{}\", e incluyendo la clave que apunta hacia cada elemento \n",
    "' Clave:elemento '\n",
    "    "
   ]
  },
  {
   "cell_type": "code",
   "execution_count": 98,
   "metadata": {},
   "outputs": [
    {
     "name": "stdout",
     "output_type": "stream",
     "text": [
      "2\n",
      "Arriba\n",
      "{'Down': 'Abajo', 'Right': 'Derecha', 'Left': 'Izquierda'}\n"
     ]
    }
   ],
   "source": [
    "Diccion={\"Ene\":1,\"Feb\":2,\"Mar\":3,\"Abr\":4,\"May\":5,\"Jun\":6,\"Jul\":7,\"Ago\":8,\"Sep\":9,\"Oct\":10,\"Nov\":11,\"Dic\":12};   \n",
    "print Diccion[\"Feb\"]\n",
    "\n",
    "Diccion2={\"Up\":\"Arriba\",\"Down\":\"Abajo\",\"Left\":\"Izquierda\",\"Right\":\"Derecha\"};\n",
    "print Diccion2[\"Up\"]\n",
    "\n",
    "del(Diccion2[\"Up\"]) #Eliminamos Up:Arriba\n",
    "Diccion2[]\n",
    "print Diccion2\n",
    "\n"
   ]
  },
  {
   "cell_type": "markdown",
   "metadata": {},
   "source": [
    "\n",
    "# Sentencias de Control\n",
    "---\n",
    "A continuación veremos las sentencias de control o funciones de flujo comunmente empleadas en Python\n",
    "\n",
    "* if/else\n",
    "    Sentencia básica que nos permite utilizar el condicional if, con una posible opción else en caso de cumplimiento y no cumplimento de la sentencia a valorar.\n",
    "* elif\n",
    "    Sentencia básica que equivale a colocar un else con un if anidado, permite la reducción del código en ciertos casos.\n",
    "* while\n",
    "    Sentencia de bucle básica, repetira su contenido mientras la sentencia contenida sea verdadera (valor igual a True/1)\n",
    "* for\n",
    "    Sentencia de bucle básica, repetira su contenido mieentras se recorre un indice que apunta a la dirección que contiene cada uno de los elementos almacenados en una lista, arreglo especifico.\n"
   ]
  },
  {
   "cell_type": "code",
   "execution_count": null,
   "metadata": {
    "collapsed": true
   },
   "outputs": [],
   "source": []
  },
  {
   "cell_type": "markdown",
   "metadata": {},
   "source": [
    "# Objeto: Métodos y atributos\n"
   ]
  },
  {
   "cell_type": "code",
   "execution_count": 54,
   "metadata": {},
   "outputs": [
    {
     "name": "stdout",
     "output_type": "stream",
     "text": [
      "__main__.Objeto_perro\n",
      "azul\n",
      "Ejemplo de Método\n"
     ]
    }
   ],
   "source": [
    "class Pelo(): \n",
    "    color = \"cafe\" \n",
    "    textura = \"liso\" \n",
    "    def largo(self):\n",
    "        print \"Ejemplo de Método\"\n",
    "        \n",
    "class Ojo():  \n",
    "    color = \"azul\" \n",
    "    tamanio = \"pequeño\"\n",
    " \n",
    "class Objeto_perro:  \n",
    "    tamanio = \"grande\"\n",
    "    ojos = Ojo()       # propiedad compuesta por el objeto objeto Ojo\n",
    "    pelos = Pelo()     # propiedad compuesta por el objeto objeto Pelo\n",
    "    \n",
    "perro1 = Objeto_perro\n",
    "print perro1\n",
    "print perro1.ojos.color\n",
    "\n",
    "perro1.pelos.largo()\n"
   ]
  },
  {
   "cell_type": "code",
   "execution_count": null,
   "metadata": {
    "collapsed": true
   },
   "outputs": [],
   "source": []
  },
  {
   "cell_type": "code",
   "execution_count": null,
   "metadata": {
    "collapsed": true
   },
   "outputs": [],
   "source": []
  }
 ],
 "metadata": {
  "kernelspec": {
   "display_name": "Python 2",
   "language": "python",
   "name": "python2"
  },
  "language_info": {
   "codemirror_mode": {
    "name": "ipython",
    "version": 2
   },
   "file_extension": ".py",
   "mimetype": "text/x-python",
   "name": "python",
   "nbconvert_exporter": "python",
   "pygments_lexer": "ipython2",
   "version": "2.7.12"
  }
 },
 "nbformat": 4,
 "nbformat_minor": 2
}
