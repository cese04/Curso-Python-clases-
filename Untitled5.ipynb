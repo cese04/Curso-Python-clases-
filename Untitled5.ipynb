{
 "cells": [
  {
   "cell_type": "code",
   "execution_count": 50,
   "metadata": {},
   "outputs": [
    {
     "data": {
      "text/html": [
       "<div>\n",
       "<style scoped>\n",
       "    .dataframe tbody tr th:only-of-type {\n",
       "        vertical-align: middle;\n",
       "    }\n",
       "\n",
       "    .dataframe tbody tr th {\n",
       "        vertical-align: top;\n",
       "    }\n",
       "\n",
       "    .dataframe thead th {\n",
       "        text-align: right;\n",
       "    }\n",
       "</style>\n",
       "<table border=\"1\" class=\"dataframe\">\n",
       "  <thead>\n",
       "    <tr style=\"text-align: right;\">\n",
       "      <th></th>\n",
       "      <th>Gender</th>\n",
       "      <th>Height</th>\n",
       "      <th>Weight</th>\n",
       "    </tr>\n",
       "  </thead>\n",
       "  <tbody>\n",
       "    <tr>\n",
       "      <th>5000</th>\n",
       "      <td>Female</td>\n",
       "      <td>58.910732</td>\n",
       "      <td>102.088326</td>\n",
       "    </tr>\n",
       "    <tr>\n",
       "      <th>5001</th>\n",
       "      <td>Female</td>\n",
       "      <td>65.230013</td>\n",
       "      <td>141.305823</td>\n",
       "    </tr>\n",
       "    <tr>\n",
       "      <th>5002</th>\n",
       "      <td>Female</td>\n",
       "      <td>63.369004</td>\n",
       "      <td>131.041403</td>\n",
       "    </tr>\n",
       "    <tr>\n",
       "      <th>5003</th>\n",
       "      <td>Female</td>\n",
       "      <td>64.479997</td>\n",
       "      <td>128.171511</td>\n",
       "    </tr>\n",
       "    <tr>\n",
       "      <th>5004</th>\n",
       "      <td>Female</td>\n",
       "      <td>61.793096</td>\n",
       "      <td>129.781407</td>\n",
       "    </tr>\n",
       "  </tbody>\n",
       "</table>\n",
       "</div>"
      ],
      "text/plain": [
       "      Gender     Height      Weight\n",
       "5000  Female  58.910732  102.088326\n",
       "5001  Female  65.230013  141.305823\n",
       "5002  Female  63.369004  131.041403\n",
       "5003  Female  64.479997  128.171511\n",
       "5004  Female  61.793096  129.781407"
      ]
     },
     "execution_count": 50,
     "metadata": {},
     "output_type": "execute_result"
    }
   ],
   "source": [
    "import matplotlib.pyplot as plt \n",
    "import pandas as pd\n",
    "import numpy as np\n",
    "\n",
    "D=pd.read_csv('data/weight-height.csv')\n",
    "D[D['Gender']=='Female'].head()\n"
   ]
  },
  {
   "cell_type": "code",
   "execution_count": 28,
   "metadata": {},
   "outputs": [
    {
     "data": {
      "text/plain": [
       "69.02634590621737"
      ]
     },
     "execution_count": 28,
     "metadata": {},
     "output_type": "execute_result"
    }
   ],
   "source": [
    "D.describe()\n",
    "Hom=D[D['Gender']=='Male']\n",
    "Muj=D[D['Gender']=='Female']\n",
    "Hom.Height.mean()"
   ]
  },
  {
   "cell_type": "code",
   "execution_count": 92,
   "metadata": {},
   "outputs": [
    {
     "name": "stdout",
     "output_type": "stream",
     "text": [
      "Hombre: 0.499999963268 \n",
      "Mujer:  3.67316411563e-08\n",
      "Hombre: 0.00021315574263 \n",
      "Mujer:  0.499786844257\n",
      "1.4855856082262684e-05 0.4999851441439177\n",
      "0.398942280401\n"
     ]
    },
    {
     "data": {
      "image/png": "[encoded data removed]",
      "text/plain": [
       "<matplotlib.figure.Figure at 0x22129facd68>"
      ]
     },
     "metadata": {},
     "output_type": "display_data"
    }
   ],
   "source": [
    "from scipy.stats import norm\n",
    "from scipy import stats\n",
    "F1=lambda x: (1/(  np.sqrt(Hom.Height.var() )*np.sqrt(2*np.pi)))  *np.exp(   -((x-Hom.Height.mean())**2/(2*Hom.Height.var()))        )\n",
    "F2=lambda x: (1/(  np.sqrt(Hom.Weight.var() )*np.sqrt(2*np.pi)))  *np.exp(   -((x-Hom.Weight.mean())**2/(2*Hom.Weight.var()))        )\n",
    "\n",
    "\n",
    "F3=lambda x: (1/(  np.sqrt(Muj.Height.var() )*np.sqrt(2*np.pi)))  *np.exp(   -((x-Muj.Height.mean())**2/(2*Muj.Height.var()))        )\n",
    "F4=lambda x: (1/(  np.sqrt(Muj.Weight.var() )*np.sqrt(2*np.pi)))  *np.exp(   -((x-Muj.Weight.mean())**2/(2*Muj.Weight.var()))        )\n",
    "\n",
    "F_Hom =  lambda y,w: 0.5*F1(y)*F2(w)/(F1(y)*F2(w)+F3(y)*F4(w))\n",
    "F_Muj =  lambda y,w: 0.5*F3(y)*F4(w)/(F1(y)*F2(w)+F3(y)*F4(w))\n",
    "\n",
    "print(\"Hombre:\", F_Hom(73,241), \"\\nMujer: \", F_Muj(73,241))\n",
    "\n",
    "print(\"Hombre:\", F_Hom(61,129), \"\\nMujer: \", F_Muj(61,129))\n",
    "\n",
    "print(min(F_Hom(Hom.Height,Hom.Weight)),max(F_Muj(Hom.Height,Hom.Weight)))\n",
    "\n",
    "print(norm.pdf(0,loc=0,scale=1))\n",
    "\n",
    "plt.figure(figsize=(12,12))\n",
    "plt.subplot(221)\n",
    "plt.hist(F_Hom(Hom.Height,Hom.Weight) )\n",
    "plt.subplot(222)\n",
    "plt.hist(F_Muj(Hom.Height,Hom.Weight) )\n",
    "plt.subplot(223)\n",
    "plt.hist(F_Hom(Muj.Height,Muj.Weight) )\n",
    "plt.subplot(224)\n",
    "\n",
    "plt.hist(F_Muj(Muj.Height,Muj.Weight) )\n",
    "plt.show()\n",
    "\n"
   ]
  }
 ],
 "metadata": {
  "kernelspec": {
   "display_name": "Python 3",
   "language": "python",
   "name": "python3"
  },
  "language_info": {
   "codemirror_mode": {
    "name": "ipython",
    "version": 3
   },
   "file_extension": ".py",
   "mimetype": "text/x-python",
   "name": "python",
   "nbconvert_exporter": "python",
   "pygments_lexer": "ipython3",
   "version": "3.6.4"
  }
 },
 "nbformat": 4,
 "nbformat_minor": 2
}
