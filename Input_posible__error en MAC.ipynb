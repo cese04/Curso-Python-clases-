{
 "cells": [
  {
   "cell_type": "markdown",
   "metadata": {},
   "source": [
    "### Codigo que tiene error en Mac"
   ]
  },
  {
   "cell_type": "code",
   "execution_count": 1,
   "metadata": {},
   "outputs": [
    {
     "name": "stdout",
     "output_type": "stream",
     "text": [
      "Introduce el numero:  8\n",
      "{'8'}\n",
      "1\n",
      "2\n",
      "3\n",
      "4\n",
      "5\n",
      "6\n",
      "7\n",
      "8\n"
     ]
    }
   ],
   "source": [
    "A = input(\"Introduce el numero:  \" )\n",
    "\n",
    "print({A})\n",
    "B = int(A)\n",
    "for i in range(1,B+1):\n",
    "    print(i)\n",
    "#C =raw_input(\"4\")"
   ]
  },
  {
   "cell_type": "markdown",
   "metadata": {},
   "source": [
    "### Sobre \\*args y \\*\\*kwargs\n",
    "---\n",
    "Argumentos de longitud de elementos variables\n",
    "\n",
    "* args: set de argumentos que se le envía a una función: [variables no key-words envíadas como lista]\n",
    "* kwargs: set de keywords que se le envia a una función:"
   ]
  },
  {
   "cell_type": "code",
   "execution_count": 50,
   "metadata": {},
   "outputs": [
    {
     "name": "stdout",
     "output_type": "stream",
     "text": [
      "Primer argumento: Palabra1\n",
      "Resto de argumentos en *Set_Arg : python\n",
      "Resto de argumentos en *Set_Arg : 123\n",
      "Resto de argumentos en *Set_Arg : test\n"
     ]
    }
   ],
   "source": [
    "def Argumentos_variables(Argumento1, *Set_Arg):\n",
    "    print (\"Primer argumento:\", Argumento1)\n",
    "    for arg in Set_Arg:\n",
    "        print (\"Resto de argumentos en *Set_Arg :\", arg)\n",
    "\n",
    "Argumentos_variables('Palabra1','python',123,'test')\n"
   ]
  },
  {
   "cell_type": "code",
   "execution_count": 49,
   "metadata": {},
   "outputs": [
    {
     "name": "stdout",
     "output_type": "stream",
     "text": [
      "arg1: A\n",
      "arg2: 5\n",
      "arg3: 1\n",
      "\n",
      "\n",
      "arg1: 1\n",
      "arg2: A\n",
      "arg3: 5\n"
     ]
    }
   ],
   "source": [
    "def test(arg1, arg2, arg3):\n",
    "    print (\"arg1:\", arg1)\n",
    "    print (\"arg2:\", arg2)\n",
    "    print (\"arg3:\", arg3)\n",
    "\n",
    "kwargs = {\"arg3\": 5, \"arg2\": \"A\",\"arg1\":1}\n",
    "args   = (\"A\", 5,1)\n",
    "\n",
    "#test(args)\n",
    "test(*args)\n",
    "print(\"\\n\")\n",
    "test(**kwargs)"
   ]
  }
 ],
 "metadata": {
  "kernelspec": {
   "display_name": "Python 3",
   "language": "python",
   "name": "python3"
  },
  "language_info": {
   "codemirror_mode": {
    "name": "ipython",
    "version": 3
   },
   "file_extension": ".py",
   "mimetype": "text/x-python",
   "name": "python",
   "nbconvert_exporter": "python",
   "pygments_lexer": "ipython3",
   "version": "3.6.4"
  }
 },
 "nbformat": 4,
 "nbformat_minor": 2
}
