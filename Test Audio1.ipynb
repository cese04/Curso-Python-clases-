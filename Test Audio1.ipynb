{
 "cells": [
  {
   "cell_type": "markdown",
   "metadata": {},
   "source": [
    "# Test de Pyaudio\n",
    "---\n",
    "Método de instalación\n",
    "::No disponible en Anaconda cloud ***\n",
    "\n",
    "## Windows:\n",
    "python -m pip install pyaudio\n",
    "\n",
    "## Mac:\n",
    "\n",
    "brew install portaudio \n",
    "pip install pyaudio\n",
    "\n",
    "Requiere instalar Homebrew como prerequisito, y usa ruby*\n",
    "/usr/bin/ruby -e \"$(curl -fsSL https://raw.githubusercontent.com/Homebrew/install/master/install)\"\n",
    "\n",
    "## Linux:\n",
    "\n",
    "sudo apt-get install python-pyaudio python3-pyaudio\n",
    "\n",
    "o\n",
    "\n",
    "pip install pyaudio"
   ]
  },
  {
   "cell_type": "code",
   "execution_count": 2,
   "metadata": {},
   "outputs": [
    {
     "data": {
      "image/png": "[encoded data removed]",
      "text/plain": [
       "<Figure size 432x288 with 1 Axes>"
      ]
     },
     "metadata": {},
     "output_type": "display_data"
    }
   ],
   "source": [
    "\n",
    "import numpy as np\n",
    "import matplotlib.pyplot as plt\n",
    "from scipy.io import wavfile\n",
    "import pyaudio  \n",
    "import wave  \n",
    "\n",
    "#########################\n",
    "#Modificación del archivo, agregado del ruido\n",
    "\n",
    "fs, data = wavfile.read('Another.wav')\n",
    "L = len(data)\n",
    "\n",
    "Noise=np.int16(500*(np.sin(2*np.pi*20000*np.linspace(0,1,L))))\n",
    "Noise=(data+Noise)/2\n",
    "#wavfile.write('another3.wav',fs,Noise)\n",
    "\n",
    "#######################\n",
    "#Reproducir audio de entrada\n",
    "chunk = 1024  \n",
    "p = pyaudio.PyAudio()  \n",
    "#Abrir Stream\n",
    "#f = wave.open(\"Another.wav\",\"rb\")  \n",
    "f = wave.open(\"another3.wav\",\"rb\")  \n",
    "stream = p.open(format = p.get_format_from_width(f.getsampwidth()),  \n",
    "                channels = f.getnchannels(),  \n",
    "                rate = f.getframerate(),  \n",
    "                output = True)  \n",
    "#Leer información\n",
    "data = f.readframes(chunk)\n",
    "  \n",
    "#Reproducir Audio\n",
    "while data:  \n",
    "   stream.write(data)  \n",
    "   data = f.readframes(chunk)  \n",
    "#Cerrar Stream \n",
    "stream.stop_stream()  \n",
    "stream.close()    \n",
    "p.terminate() \n",
    "\n",
    "L = len(Noise)\n",
    "c = np.fft.fft(Noise) # create a list of complex number\n",
    "freq = np.fft.fftfreq(L)\n",
    "freq_en_hertz = abs(freq * fs)\n",
    "plt.plot(freq_en_hertz, abs(c))\n",
    "plt.show()"
   ]
  }
 ],
 "metadata": {
  "kernelspec": {
   "display_name": "Python 3",
   "language": "python",
   "name": "python3"
  },
  "language_info": {
   "codemirror_mode": {
    "name": "ipython",
    "version": 3
   },
   "file_extension": ".py",
   "mimetype": "text/x-python",
   "name": "python",
   "nbconvert_exporter": "python",
   "pygments_lexer": "ipython3",
   "version": "3.6.0"
  }
 },
 "nbformat": 4,
 "nbformat_minor": 2
}
