{
 "cells": [
  {
   "cell_type": "markdown",
   "metadata": {},
   "source": [
    "# Introducción Python\n",
    "---\n",
    " ## Entorno de programación\n",
    "\n",
    "Para la programación en este curso utilizaremos un entorno llamado Jupyter Notebook, que es un interprete que emplea nuestro explorador *Explicar sobre Jupyter*   \n",
    "La versión de Python será la 3.6, sin embargo es posible aplicar parte del curso en Python 2.7  \n",
    "El sistema operativo necesario puede ser cualquier versión de Ubuntu superior a la 11.10, o Windows que soporte Anaconda.\n",
    "\n",
    " ### Anaconda\n",
    "Anaconda es una distribución gratuita de Python para ciencia, aplicaciones entorno al aprendizaje automatico y procesamiento de datos.   \n",
    "Las liberias y versiones de Python que descargamos de esta distribución tiene compatibilidad entre sí y permiten estabilidad del sistema.  \n",
    "Dentro de las versiones descargables de Anaconda tenemos la correspondiente para Windows/Ubuntu en 32 o 64bits.\n",
    " ### Instalación de Python\n",
    "* Descargar distribución adecuada de Anaconda \n",
    "* Abrir una terminal y ejecutar: \"python\" \n",
    "* [usar Windows+R, ejecutar cmd // Ctrl+Alt+T]\n",
    "* En caso de que no esté instalado:  \n",
    "    sudo apt-get update  \n",
    "    sudo apt-get upgrade  \n",
    "    sudo apt-get install python3.6  \n",
    "### Ejecutar Jupyter Notebook\n",
    "* Instalar Jupyter Notebook mediante (Anaconda ya otorga una versión de Jupyter Notebook):  \n",
    "    pip3 install --upgrade pip  \n",
    "    pip3 install jupyter  \n",
    "    (o pip para python2 en lugar de pip3)\n",
    "* Abrir el prompt de Anaconda\n",
    "* Ejecutar: \"Jupyter Notebook\"\n",
    "\n",
    "#### Notas finales\n",
    "    Siempre es posible utilizar un Idle o entorno de programación diferente mientras se tenga instalada la base de Python dentro de nuestra computadora. \n",
    "    Todas las interfases que utilicemos emplearán la distribución de interprete actual que tengamos para ejecutar nuestros programas.\n",
    "    Actualizar: conda update -n base conda\n",
    "    "
   ]
  },
  {
   "cell_type": "markdown",
   "metadata": {},
   "source": [
    "# Sobre Python\n",
    "----\n",
    "\n",
    "## Cómputo científico\n",
    "\n",
    "* No queremos reprogramar cómo plotear una curva o hacer una transformada de Fourier.\n",
    "* Facilidad: las ciencias computacionales no son nuestro enfoque o nuestra preparación.\n",
    "* El código debe ser fácil de comprender\n",
    "* Un código eficiente se ejecuta rápido. Pero esto se vuelve inútil si requerimos dedicar mucho tiempo a la programación del mismo.\n",
    "* Un solo lenguaje para todo.\n",
    "\n",
    "## Alternativas\n",
    "\n",
    "### C++, Fortran\n",
    "* Son rápidas y con el tiempo que llevan, han sido optimizadas para cálculos pesados, es muy difícil superar a estos lenguajes en tiempo de procesamiento.\n",
    "* Existen liberías específicas para cómputo científico muy optimizadas como BLAS, MKL (Exclusivo Intel) y ATLAS.\n",
    "* Desventajas: sintáxis complicada, control manual de memoria, no permiten interactividad durante el desarrollo.\n",
    "\n",
    "### Matlab\n",
    "* Colección completa de librerías para computo científico enfocado a diversas ciencias.\n",
    "* Cada año se optimiza para un mejor rendimiento.\n",
    "* Editor que permite la interacción con variables y fácil debugging. \n",
    "* Soporte comercial\n",
    "* Desventajas: \n",
    "    * Aunque existen muchas funciones integradas puede resultar restrictivo para proyectos más complejos e industriales. \n",
    "    * Es de pago.\n",
    "\n",
    "### R\n",
    "* Open-Source y una gran comunidad _#RStats_ que aporta códigos ejemplo y desarrollos para nuevas librerías (mayoría de usuarios: matemáticos y actuarios).\n",
    "* Funciones estadísticas de muy alto nivel.\n",
    "* Fácil conexión a Bases de Datos y análisis rápido.\n",
    "* Diversos paquetes de graficación.\n",
    "* Desventajas:\n",
    "    * Limitado a funciones de análisis. \n",
    "    * Limitado soporte para conexión con hardware. \n",
    "    * Diversas librerías que hacen lo mismo publicadas por diferentes usuarios.\n",
    "\n",
    "\n",
    "## Python\n",
    "* Open-Source y una gran comunidad enfocada a mejorar las librerías (proyectos) actualmente existentes (mayoría de usuarios: ingenieros y computólogos).\n",
    "* Desarrollado con el principio de una sintaxis sencilla y fácilmente legible.\n",
    "* Diversas librerías para cómputo científico gratuitas apoyadas por universidades o empresas.\n",
    "* Frameworks para desarrollar diversos proyectos:\n",
    "    * Django: Desarrollo Web.\n",
    "    * Beautiful Soup y Requests: Usados para REST API y data mining.\n",
    "    * GPIO: Usada en computadoras de placa reducidad (Raspeberry Pi, Orange Pi, etc.) para controlar  puertos y PWM.\n",
    "    * PySerial: Control de dispositivos por puerto serial.\n",
    "* Desventajas: \n",
    "    * Editores más sencillos que Matlab.\n",
    "    * Alto nivel: no todos las funciones están optimizadas y pueden resultar lentas en algunos casos.\n",
    "\n",
    "### Historia\n",
    "* Python 1.0 - Enero 1994\n",
    "    * Python 1.6 Septiembre 2000\n",
    "* Python 2.0 Octubre 2000\n",
    "    * Python 2.6 Octubre 2006\n",
    "    * Python 2.7 Julio 2010 (todavía muy usado y activo)\n",
    "* Python 3.0 Diciembre 2008\n",
    "    * Python 3.6 Diciembre 2016"
   ]
  },
  {
   "cell_type": "markdown",
   "metadata": {},
   "source": [
    "# Diferencias con C\n",
    "---\n",
    "## Identación\n",
    "    La programación en Python emplea la identación para la formación de bloques en las estructuras de control e indicar donde termina y empieza cierta secuencia de comandos. \n",
    "    La identación es conocida como el espaciamiento horizontal en una linea de código, por ejemplo:"
   ]
  },
  {
   "cell_type": "markdown",
   "metadata": {},
   "source": [
    "### Receta de cocina\n",
    "\n",
    "*Ingredientes*  \n",
    "-        Tomate  \n",
    "-   Pasta  \n",
    "-  Azucar  \n",
    "\n",
    "*Procedimiento*  \n",
    " -   Cortar  \n",
    " -  Batir  \n",
    " - Servir  \n",
    " - Decorar  \n",
    "    \n"
   ]
  },
  {
   "cell_type": "code",
   "execution_count": null,
   "metadata": {
    "scrolled": true
   },
   "outputs": [],
   "source": [
    "#Codigo\n",
    "for i in range(-1,2):\n",
    "    print ('z:'), i\n",
    "    if(i>0):\n",
    "        print ('Zeta es positivo')\n",
    "    else:\n",
    "        if(i<0):\n",
    "            print ('Zeta es negativo')\n",
    "        else:\n",
    "            print ('Zeta es 0')"
   ]
  },
  {
   "cell_type": "markdown",
   "metadata": {},
   "source": [
    "## Interprete vs Compilador\n",
    "    A diferecia de C o C++ que emplean un idle o entorno que compila nuestro código (formar un .exe y ejecutarlo) \n",
    "    Python emplea un interprete, que da una salida directa de nuestro código sin formar un .exe\n",
    "    Otra diferencia es que el compilador realiza una traducción directa y el interprete analiza y corrije\n",
    "    \n",
    "## Variables dinamicas\n",
    "    No es necesario declarar el tipo de variable a utilizar en Python, ya que al leer una entrada esta es \"interpretada\" y se le asigna el tipo de variable capaz de soportar dicha entrada. \n",
    "    \n"
   ]
  },
  {
   "cell_type": "code",
   "execution_count": null,
   "metadata": {},
   "outputs": [],
   "source": [
    "import numpy as np\n",
    "\n",
    "A= 1\n",
    "B= '1'\n",
    "C=  'hola'\n",
    "D= 0.12\n",
    "E= [1,2,'hola','2']\n",
    "\n",
    "for i in ([A,B,C,D,E]):\n",
    "    print (i,' °Es de tipo:',type(i))\n"
   ]
  },
  {
   "cell_type": "markdown",
   "metadata": {},
   "source": [
    "## Paradigma\n",
    "    Python es un lenguaje multiparadigma, dentro de este curso emplearemos programación orientada a objetos y estructurada/secuencial.\n",
    "    Ya que Python está basado en POO la mayoría de las veces nos referiremos a métodos y atributos a lo conocido anteriormente como funciones y variables.\n",
    "    Igual que al programar en C++ es posible tratar de entender el funcionamiento de nuestro código pensando que se trata de programación estructurada, pero debido a la forma de objetos este enfoque debe ser superado.\n",
    "    \n",
    "## Que necesita un cientifico\n",
    "* Adquirir información\n",
    "* Manipular la información\n",
    "* Visualizar la información\n",
    "* Comunicar / Compartir resultados"
   ]
  },
  {
   "cell_type": "markdown",
   "metadata": {},
   "source": [
    "# Tipos de variable de Python\n",
    "---\n",
    "    Pese a que en python nuestras variables pueden ser empleadas sin definirlas es útil conocer los tipos de varible que podemos declarar en Python, en especial como posibles argumentos para métodos/funciones espécificos. Variables comunes son:\n",
    "\n",
    "* Entero\n",
    "* Octal\n",
    "* Hexadecimal\n",
    "* Real\n",
    "* Boleano\n",
    "* Cadena"
   ]
  },
  {
   "cell_type": "code",
   "execution_count": null,
   "metadata": {},
   "outputs": [],
   "source": [
    "Edad = 20\n",
    "Edad1 = 0o20\n",
    "Edad2 = 0x20\n",
    "\n",
    "Fraccion = 12.3123\n",
    "\n",
    "Valor = True\n",
    "Negar = False\n",
    "\n",
    "Cadena1= 'Nombre de algo'\n",
    "\n",
    "print (Edad, Edad1, Edad2 )\n",
    "print (Fraccion)\n",
    "print( Valor, Negar)\n",
    "print (Cadena1)"
   ]
  },
  {
   "cell_type": "markdown",
   "metadata": {},
   "source": [
    "# Operadores elementales\n",
    "---\n",
    "| Simbolo| Significa | Simbolo | Significa | Simbolo |Significa\n",
    "|---|---|---|---|---|---\n",
    "| + | Suma  | == | Igual que | and | operador lógico AND\n",
    "| - | Resta | != | Distinto que | or | operador lógico OR\n",
    "| not | Negación | <| Menor que | xor| operador lógico XOR \n",
    "| * | Producto | > | Mayor que\n",
    "| ** | Potencia | <= | Menor o igual que\n",
    "| /  | División | >= | Mayor o igual que\n",
    "| // | División entera| \n",
    "| %  | Modulo | \n",
    "|#   | Comentario| \n"
   ]
  },
  {
   "cell_type": "code",
   "execution_count": null,
   "metadata": {},
   "outputs": [],
   "source": [
    "A=1\n",
    "B=2.0\n",
    "Bol=False\n",
    "\n",
    "print (A+B)\n",
    "print (A-B)\n",
    "print (not A)\n",
    "print (not Bol)\n",
    "print (A*B)\n",
    "print (B**3)\n",
    "print (B/3)\n",
    "print (B//3)\n",
    "print (B%3)\n",
    "\n",
    "# Esto es un comentario, no se ejecuta"
   ]
  },
  {
   "cell_type": "markdown",
   "metadata": {},
   "source": [
    "# Tupla, lista y diccionario\n",
    "---\n",
    "Además de los mencionados, tenemos tipos de datos complejos. Estos datos se componen de más de un elemento y pueden incluir más de un tipo de dato interno, incluido a su vez otro dato complejo:\n",
    "\n",
    "## Tupla\n",
    "    La tupla es un arreglo de datos similar a un vector, con la caracteristica de que pese a que podemos accedar a los elementos de su arreglo estos elementos no son alterables. Para definir una tupla se emplean los parentesis simples \"()\"\n",
    "    "
   ]
  },
  {
   "cell_type": "code",
   "execution_count": null,
   "metadata": {},
   "outputs": [],
   "source": [
    "Tupla1=(1,2,3,4)\n",
    "print (Tupla1[0])\n",
    "print (Tupla1)\n",
    "print (type(Tupla1))\n",
    "\n",
    "Tupla1[0]=2\n",
    "#Mencionar: pese al error el programa interpreta el código linea por linea\n",
    "#Arreglos comienzan con el elemento 0, igual que en C, diferente que en MatLab"
   ]
  },
  {
   "cell_type": "markdown",
   "metadata": {},
   "source": [
    "## Lista\n",
    "    Como su nombre lo indica, una lista es un arreglo de otros datos de forma ordenada. Igual que la tupla emplea indices para referirnos a sus elementos. Para definirla se emplean los corchetes rectos: \"[]\"\n",
    "    Además permiten agregar datos\n",
    "\n",
    "  "
   ]
  },
  {
   "cell_type": "code",
   "execution_count": null,
   "metadata": {},
   "outputs": [],
   "source": [
    "#Ejemplo de lista multi datos\n",
    "lista = [1, \"dos\", False, [45, \"cien\"]]  \n",
    "print (lista)\n",
    "    \n",
    "Tupla2=('a','b',1,('Z',3),['Z',2])\n",
    "\n",
    "lista.append(Tupla2)\n",
    "print (lista)"
   ]
  },
  {
   "cell_type": "markdown",
   "metadata": {},
   "source": [
    "## Diccionario\n",
    "\n",
    "Un diccionario es quivalente a una lista cuya entrada, en lugar de ser el indice determinado para la posición de cada elemento, es una clave determinada para cada unico elemento del diccionario.\n",
    "Es posible eliminar, agregar y modificar cada uno de los valores del diccionario\n",
    "Los diccionarios se crean utilizando los corchetes curvos \"{}\", e incluyendo la clave que apunta hacia cada elemento \n",
    "' Clave:elemento '\n",
    "    "
   ]
  },
  {
   "cell_type": "code",
   "execution_count": null,
   "metadata": {},
   "outputs": [],
   "source": [
    "Diccion={\"Ene\":1,\"Feb\":2,\"Mar\":3,\"Abr\":4,\"May\":5,\"Jun\":6,\"Jul\":7,\"Ago\":8,\"Sep\":9,\"Oct\":10,\"Nov\":11,\"Dic\":12};   \n",
    "print (Diccion[\"Feb\"])\n",
    "\n",
    "Diccion2={\"Up\":\"Arriba\",\"Down\":\"Abajo\",\"Left\":\"Izquierda\",\"Right\":\"Derecha\"};\n",
    "print (Diccion2[\"Up\"])\n",
    "\n",
    "del(Diccion2[\"Up\"]) #Eliminamos Up:Arriba\n",
    "Diccion2[\"In\"]=\"Dentro\"\n",
    "print (Diccion2)\n",
    "\n",
    "#El orden de los elementos del diccionario NO sigue la forma en la que son agregados, sino un orden alfabenumerico \n",
    "#correspondiente a los elementos del mismo: A,D,D,I etc ~"
   ]
  },
  {
   "cell_type": "markdown",
   "metadata": {},
   "source": [
    "\n",
    "# Sentencias de Control\n",
    "---\n",
    "A continuación veremos las sentencias de control o funciones de flujo comunmente empleadas en Python\n",
    "\n",
    "* if/else  \n",
    "      Sentencia condicional básica que nos permite utilizar el condicional if, con una posible opción else en caso de cumplimiento y no cumplimento de la sentencia a valorar.\n",
    "* elif  \n",
    "      Sentencia condicional que equivale a colocar un else con un if anidado,\n",
    "      permite la reducción del código en ciertos casos.\n",
    "* while  \n",
    "      Sentencia de bucle, repetira su contenido mientras la sentencia contenida sea verdadera (valor igual a True/1)\n",
    "* for  \n",
    "      Sentencia de bucle, repetira su contenido mientras se recorre un indice que apunta a la dirección que contiene cada uno de los elementos almacenados en una lista, arreglo especifico.\n"
   ]
  },
  {
   "cell_type": "code",
   "execution_count": null,
   "metadata": {},
   "outputs": [],
   "source": [
    "#Ejemplo de if, else.\n",
    "Variable=True;\n",
    "\n",
    "if Variable == True: \n",
    "    print (\"Se cumple el la condición\")\n",
    "else: \n",
    "    print (\"La condición es negada\")\n",
    "\n",
    "Variable=23;\n",
    "\n",
    "if Variable == True: \n",
    "    print (\"Se cumple el la condición\")\n",
    "else: \n",
    "    print (\"La condición es negada\"  )  "
   ]
  },
  {
   "cell_type": "code",
   "execution_count": null,
   "metadata": {},
   "outputs": [],
   "source": [
    "#Ejemplo de elif, tomando el ejemplo anterior\n",
    "for i in range(-1,2):\n",
    "    print( 'z:', i)\n",
    "    if(i>0):\n",
    "        print ('Zeta es positivo')\n",
    "    elif(i<0):\n",
    "        print ('Zeta es negativo')\n",
    "    else:\n",
    "        print ('Zeta es 0')\n",
    "    "
   ]
  },
  {
   "cell_type": "code",
   "execution_count": null,
   "metadata": {},
   "outputs": [],
   "source": [
    "#Ejemplo de for más claro\n",
    "for i in range(0,5):\n",
    "    print (i)"
   ]
  },
  {
   "cell_type": "code",
   "execution_count": null,
   "metadata": {},
   "outputs": [],
   "source": [
    "#Ejemplo de for de lista\n",
    "Lista= ['Paco', 'Luis', 'Juan', 12, ('Zeta',2)]\n",
    "for i in Lista:\n",
    "    print (i)"
   ]
  },
  {
   "cell_type": "code",
   "execution_count": null,
   "metadata": {},
   "outputs": [],
   "source": [
    "#Ejemplo simple de while\n",
    "Number=12;\n",
    "while Number>10:\n",
    "    print( \"Mayor!\")\n",
    "    Number=Number-1;\n",
    "\n",
    "#¿Por qué solo ha impreso dos veces la expresión \"Mayor!\"?"
   ]
  },
  {
   "cell_type": "code",
   "execution_count": null,
   "metadata": {},
   "outputs": [],
   "source": [
    "#Ejemplo de while elaborado con recursión\n",
    "#Ejemplo COMPLICADO\n",
    " \n",
    "def persistence(n):\n",
    "    n2=1\n",
    "    if(n<10):\n",
    "        return 0\n",
    "    while(n>0):\n",
    "        n2=n2*(n%10)\n",
    "        n=n//10\n",
    "    return(1+persistence(n2))\n",
    "\n",
    "\n",
    "\n",
    "#data= (2,20,99,269,77)\n",
    "#for i in data:\n",
    "#    print (persistence(i))\n",
    "\n",
    "\n",
    "#¿Qué hace esta función?"
   ]
  },
  {
   "cell_type": "markdown",
   "metadata": {},
   "source": [
    "# Objeto: Métodos y atributos\n",
    "\n",
    "Para entender el concepto de objeto basta con referirnos a como hablamos coloquialmente de nuestro entorno:\n",
    "Cierta entidad (objeto) posee las caracteristicas (atributos) \n",
    "y es capaz de realizar las acciones (métodos)\n",
    "\n",
    "Como sabemos hay diferentes entidades que poseen una misma clase de caracteristica, por ejemplo color. \n",
    "Aunque no todos las entidades sean del mismo color (polimorfismo).\n",
    "\n",
    "Además, hay entidades compuestas de entidades más 'pequeñas' (hijos), estos por definición \n",
    "reciben caracteristicas (herencia) de la entidad de origen (padre)."
   ]
  },
  {
   "cell_type": "code",
   "execution_count": null,
   "metadata": {
    "scrolled": true
   },
   "outputs": [],
   "source": [
    "class Pelo(): \n",
    "    color = \"\" \n",
    "    textura = \"\" \n",
    "    def largo(self):\n",
    "        print \"Ejemplo de Método\"\n",
    "        \n",
    "class Ojo():  \n",
    "    color = \"\" \n",
    "    tamanio = \"\"\n",
    " \n",
    "class perro:  \n",
    "    tamanio = \"\"\n",
    "    nombre = \"\"\n",
    "    ojos = Ojo()       # propiedad compuesta por el objeto objeto Ojo\n",
    "    pelos = Pelo()     # propiedad compuesta por el objeto objeto Pelo\n",
    "    def nadar(self,N):\n",
    "        if(N>0): print \"El perro puede nadar\"\n",
    "        else: print \"El perro no nada\"\n",
    "            \n",
    "perro1 = perro #Generacion del objeto\n",
    "print perro1   \n",
    "perro1.ojos.color = \"cafe\"\n",
    "print perro1.ojos.color\n",
    "\n",
    "perro1.pelos.largo() \n",
    "\n",
    "Nadara=perro1(); #Equivale a ojos/Ojo() de la parte de declaración de perro\n",
    "Nadara.nadar(1)\n",
    "\n",
    "perro1.nombre = \"TerrY\"\n",
    "\n",
    "    #métodos comunes aplicables a strings\n",
    "perro1.nombre.lower()\n",
    "#perro1.nombre.isdigit()\n",
    "#perro1.nombre.swapcase()"
   ]
  },
  {
   "cell_type": "markdown",
   "metadata": {},
   "source": [
    "## Pandas\n",
    "\n",
    "Pandas es la librería para manejo de datos más usadas para Python, esta incorpora funciones estilo Excel y diréctamente puede dar descripciones y datos generales."
   ]
  },
  {
   "cell_type": "code",
   "execution_count": null,
   "metadata": {},
   "outputs": [],
   "source": [
    "%matplotlib inline\n",
    "import pandas as pd\n",
    "import matplotlib.pyplot as plt\n",
    "df = pd.read_csv('data/wines.csv')"
   ]
  },
  {
   "cell_type": "code",
   "execution_count": null,
   "metadata": {},
   "outputs": [],
   "source": [
    "# Ver las primeras cinco filas\n",
    "df.head()"
   ]
  },
  {
   "cell_type": "code",
   "execution_count": null,
   "metadata": {},
   "outputs": [],
   "source": [
    "# Descripción general de los datos\n",
    "df.describe()"
   ]
  },
  {
   "cell_type": "markdown",
   "metadata": {},
   "source": [
    "Incorpora diversas funciones que permiten incluso graficar fácilmente para un análisis exploratorio."
   ]
  },
  {
   "cell_type": "code",
   "execution_count": null,
   "metadata": {
    "scrolled": true
   },
   "outputs": [],
   "source": [
    "df.hist(figsize=(12,12), bins=20)\n",
    "plt.show()"
   ]
  },
  {
   "cell_type": "markdown",
   "metadata": {},
   "source": [
    "# EJERCICIOS  I escritura elemental\n",
    "\n",
    "### For simple\n",
    "* Escribir una lista, una tupla y una cadena de caracteres sin espacio.\n",
    "* Realizar un for que contenga otro for que imprima cada elemento de cada uno de los arreglos previos\n",
    "* Alternativamente formar una lista compuesta de los tres arreglos anteriores y repetir la operación con un único for, pero empleando resultados previos u otras instrucciones a elección del usuario.\n",
    "\n",
    "### Bucles infinitos\n",
    "* Ejecutar un while cuyo argumento sea True, sus sentencias internas pueden ser omitidas\n",
    "* Dada una cifra (ingresada o declarada), imprimir los elementos de dicha cifra de menor a mayor representatividad (unidades, decenas, centenas...) \n",
    "\n",
    "### Operaciones básicas\n",
    "* Escribir un código que nos indique si un número es múltiplo de 3, empleando la función modulo.\n",
    "* Repetir lo anterior SIN utilizar la función modulo (tip: utiliza / y // sobre flotantes)\n",
    "\n",
    "### Argumentos complejos\n",
    "* Escribir un código que imprima un nombre si dadas dos variables A,B son ambas pares\n",
    "* Repetir lo anterior pero ahora A y B deben ser de diferente paridad entre sí.\n",
    "\n",
    "* Imprimir una lista de los primeros N números naturales seguida de el valor de la suma de dichos N números\n",
    "* Elaborar el código anterior con la definición de una nueva función.\n",
    " \n"
   ]
  },
  {
   "cell_type": "code",
   "execution_count": null,
   "metadata": {},
   "outputs": [],
   "source": [
    "#Ayuda breve de input's utilizando input\n",
    "a=input(\"Ingrese el número perengano:\")\n",
    "a=float(a)\n",
    "print(a**3)"
   ]
  },
  {
   "cell_type": "markdown",
   "metadata": {
    "collapsed": true
   },
   "source": [
    "\n",
    "| N |suma de los primeros N elementos|\n",
    "      |---|---|\n",
    "      | 1 | 1 |\n",
    "      | 2 | 3 |\n",
    "      | 3 | 6 |\n",
    "      |...|...|\n",
    "      | N | $$ \\Sigma_{i=1}^{N} i = \\frac{N(N+1)}{2} $$ | "
   ]
  },
  {
   "cell_type": "markdown",
   "metadata": {
    "collapsed": true
   },
   "source": [
    " \n",
    "# EJERCICIOS  II problemas lógicos \n",
    "\n",
    "* Escribir una lista de los primeros N primos [sin optimizar]\n",
    "* Indicar si cierto número N es o no primo    [optimizado]\n",
    "* Función factorial  (usando recursividad)\n",
    "* Dada una lista de N números ordenarlos de menor a mayor [burbuja]\n",
    "* Muestra de quick short e interpretación del código "
   ]
  },
  {
   "cell_type": "code",
   "execution_count": null,
   "metadata": {},
   "outputs": [],
   "source": [
    "#Ejemplo de burbuja\n",
    "Secuencia=[3,1,4,2,6,1,2,6,3,6,4,2,67,5,4,78,23,6,233,7,3,623,824,68,-3,0]\n",
    "def Burbuja(unaLista):\n",
    "    for j in range(len(unaLista)-1,0,-1):\n",
    "        for i in range(j):\n",
    "            if unaLista[i]>unaLista[i+1]:\n",
    "                temp = unaLista[i]\n",
    "                unaLista[i] = unaLista[i+1]\n",
    "                unaLista[i+1] = temp\n",
    "Burbuja(Secuencia)              \n",
    "print(Secuencia)"
   ]
  },
  {
   "cell_type": "code",
   "execution_count": null,
   "metadata": {},
   "outputs": [],
   "source": [
    "#Ejemplo quick short\n",
    "import random\n",
    "Secuencia=[3,1,4,2,6,1,2,6,3,6,4,2,67,5,4,78,23,6,233,7,3,623,824,68,-3,0]\n",
    "\n",
    "def Burbuja(unaLista):\n",
    "    for j in range(len(unaLista)-1,0,-1):\n",
    "        for i in range(j):\n",
    "            if unaLista[i]>unaLista[i+1]:\n",
    "                temp = unaLista[i]\n",
    "                unaLista[i] = unaLista[i+1]\n",
    "                unaLista[i+1] = temp\n",
    "    return unaLista\n",
    "\n",
    "\n",
    "def Quiki(unaLista):\n",
    "    #Elemento random de la lista\n",
    "    Pivo=random.randrange( len(unaLista))\n",
    "    Lista2=[unaLista[Pivo]]\n",
    "    ListaSup=[];\n",
    "    ListaInf=[];\n",
    "    #Comparar vs Pivo\n",
    "    if(len(unaLista)>3): #Si hay menos de 5 elementos en la lista actual ejecutar otro algoritmo\n",
    "        \n",
    "        for j in range(len(unaLista)):\n",
    "            if(j!=Pivo):                         #Evitar repetición\n",
    "                if (unaLista[j]>unaLista[Pivo]):\n",
    "                    ListaSup.append(unaLista[j])\n",
    "                else:\n",
    "                    ListaInf.insert(0,unaLista[j])\n",
    "        if(len(ListaSup)>3):\n",
    "            A=Quiki(ListaSup)\n",
    "            Lista2.extend(A)\n",
    "        else:\n",
    "            #Burbuja y agregar\n",
    "            ListaSup=Burbuja(ListaSup)\n",
    "            Lista2.extend(ListaSup) #Agregar al final \n",
    "        if(len(ListaInf)>3):\n",
    "            A=Quiki(ListaInf)\n",
    "            A.extend(Lista2)\n",
    "            Lista2=A\n",
    "        else:\n",
    "            #Burbuja y agregar\n",
    "            ListaInf=Burbuja(ListaInf)\n",
    "            ListaInf.extend(Lista2)\n",
    "            Lista2=ListaInf \n",
    "        \n",
    "\n",
    "        return Lista2\n",
    "    else:\n",
    "        Lista2 = Burbuja(Lista2)\n",
    "        #lista corta, aplicar burbuja\n",
    "        return Lista2\n",
    "        \n",
    "\n",
    "print(Quiki(Secuencia))\n",
    "    "
   ]
  },
  {
   "cell_type": "markdown",
   "metadata": {},
   "source": [
    "## Ejemplo de red neuronal\n",
    "\n",
    "Uno de los grandes puntos a favor de Python ha sido su buena recepción como lenguaje de análisis de datos. Lo cual ha permitido que empresas como Google desarrollen su software enfocado a Python."
   ]
  },
  {
   "cell_type": "code",
   "execution_count": null,
   "metadata": {},
   "outputs": [],
   "source": [
    "from sklearn.datasets import load_boston\n",
    "\n",
    "boston = load_boston()"
   ]
  },
  {
   "cell_type": "code",
   "execution_count": null,
   "metadata": {},
   "outputs": [],
   "source": [
    "print(boston.DESCR)"
   ]
  },
  {
   "cell_type": "code",
   "execution_count": null,
   "metadata": {},
   "outputs": [],
   "source": [
    "data = boston.data\n",
    "target = boston.target"
   ]
  },
  {
   "cell_type": "code",
   "execution_count": null,
   "metadata": {},
   "outputs": [],
   "source": [
    "import numpy as np\n",
    "from sklearn.model_selection import learning_curve\n",
    "from sklearn.model_selection import ShuffleSplit\n",
    "\n",
    "\n",
    "def plot_learning_curve(estimator, title, X, y, ylim=None, cv=None,\n",
    "                        n_jobs=1, train_sizes=np.linspace(.1, 1.0, 5)):\n",
    "    \"\"\"\n",
    "    Generate a simple plot of the test and training learning curve.\n",
    "\n",
    "    Parameters\n",
    "    ----------\n",
    "    estimator : object type that implements the \"fit\" and \"predict\" methods\n",
    "        An object of that type which is cloned for each validation.\n",
    "\n",
    "    title : string\n",
    "        Title for the chart.\n",
    "\n",
    "    X : array-like, shape (n_samples, n_features)\n",
    "        Training vector, where n_samples is the number of samples and\n",
    "        n_features is the number of features.\n",
    "\n",
    "    y : array-like, shape (n_samples) or (n_samples, n_features), optional\n",
    "        Target relative to X for classification or regression;\n",
    "        None for unsupervised learning.\n",
    "\n",
    "    ylim : tuple, shape (ymin, ymax), optional\n",
    "        Defines minimum and maximum yvalues plotted.\n",
    "\n",
    "    cv : int, cross-validation generator or an iterable, optional\n",
    "        Determines the cross-validation splitting strategy.\n",
    "        Possible inputs for cv are:\n",
    "          - None, to use the default 3-fold cross-validation,\n",
    "          - integer, to specify the number of folds.\n",
    "          - An object to be used as a cross-validation generator.\n",
    "          - An iterable yielding train/test splits.\n",
    "\n",
    "        For integer/None inputs, if ``y`` is binary or multiclass,\n",
    "        :class:`StratifiedKFold` used. If the estimator is not a classifier\n",
    "        or if ``y`` is neither binary nor multiclass, :class:`KFold` is used.\n",
    "\n",
    "        Refer :ref:`User Guide <cross_validation>` for the various\n",
    "        cross-validators that can be used here.\n",
    "\n",
    "    n_jobs : integer, optional\n",
    "        Number of jobs to run in parallel (default 1).\n",
    "    \"\"\"\n",
    "    plt.figure()\n",
    "    plt.title(title)\n",
    "    if ylim is not None:\n",
    "        plt.ylim(*ylim)\n",
    "    plt.xlabel(\"Training examples\")\n",
    "    plt.ylabel(\"Score\")\n",
    "    train_sizes, train_scores, test_scores = learning_curve(\n",
    "        estimator, X, y, cv=cv, n_jobs=n_jobs, train_sizes=train_sizes)\n",
    "    train_scores_mean = np.mean(train_scores, axis=1)\n",
    "    train_scores_std = np.std(train_scores, axis=1)\n",
    "    test_scores_mean = np.mean(test_scores, axis=1)\n",
    "    test_scores_std = np.std(test_scores, axis=1)\n",
    "    plt.grid()\n",
    "\n",
    "    plt.fill_between(train_sizes, train_scores_mean - train_scores_std,\n",
    "                     train_scores_mean + train_scores_std, alpha=0.1,\n",
    "                     color=\"r\")\n",
    "    plt.fill_between(train_sizes, test_scores_mean - test_scores_std,\n",
    "                     test_scores_mean + test_scores_std, alpha=0.1, color=\"g\")\n",
    "    plt.plot(train_sizes, train_scores_mean, 'o-', color=\"r\",\n",
    "             label=\"Training score\")\n",
    "    plt.plot(train_sizes, test_scores_mean, 'o-', color=\"g\",\n",
    "             label=\"Cross-validation score\")\n",
    "\n",
    "    plt.legend(loc=\"best\")\n",
    "    return plt"
   ]
  },
  {
   "cell_type": "code",
   "execution_count": null,
   "metadata": {},
   "outputs": [],
   "source": [
    "from sklearn.neural_network import MLPRegressor\n",
    "\n",
    "NeuralNetwork = MLPRegressor(hidden_layer_sizes=(100,100), max_iter=500, verbose=True, learning_rate_init=0.05,\n",
    "                            # solver='lbfgs')\n",
    "                             solver='adam')\n",
    "                            \n",
    "NeuralNetwork.fit(data, target)\n"
   ]
  },
  {
   "cell_type": "code",
   "execution_count": null,
   "metadata": {},
   "outputs": [],
   "source": [
    "predicted_target = NeuralNetwork.predict(data)\n",
    "plt.figure(figsize=(12,8))\n",
    "plt.plot(target)\n",
    "plt.plot(predicted_target)\n",
    "plt.legend(['Original', 'Red Neuronal'])\n",
    "plt.show()"
   ]
  }
 ],
 "metadata": {
  "kernelspec": {
   "display_name": "Python 3",
   "language": "python",
   "name": "python3"
  },
  "language_info": {
   "codemirror_mode": {
    "name": "ipython",
    "version": 3
   },
   "file_extension": ".py",
   "mimetype": "text/x-python",
   "name": "python",
   "nbconvert_exporter": "python",
   "pygments_lexer": "ipython3",
   "version": "3.6.4"
  }
 },
 "nbformat": 4,
 "nbformat_minor": 2
}
