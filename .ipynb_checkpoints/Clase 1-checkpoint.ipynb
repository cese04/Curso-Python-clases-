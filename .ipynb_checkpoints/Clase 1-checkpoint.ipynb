{
 "cells": [
  {
   "cell_type": "markdown",
   "metadata": {},
   "source": [
    "# Introducción Python\n",
    "---\n",
    " ## Entorno de programación\n",
    "\n",
    "Para la programación en este curso utilizaremos un entorno llamado Jupyter Notebook, que es un interprete que emplea nuestro explorador *Explicar sobre Jupyter*   \n",
    "La versión de Python será la 3.6, sin embargo es posible aplicar parte del curso en Python 2.7  \n",
    "El sistema operativo necesario puede ser cualquier versión de Ubuntu superior a la 11.10, o Windows que soporte Anaconda.\n",
    "\n",
    " ### Anaconda\n",
    "Anaconda es una distribución gratuita de Python para ciencia, aplicaciones entorno al aprendizaje automatico y procesamiento de datos.   \n",
    "Las liberias y versiones de Python que descargamos de esta distribución tiene compatibilidad entre sí y permiten estabilidad del sistema.  \n",
    "Dentro de las versiones descargables de Anaconda tenemos la correspondiente para Windows/Ubuntu en 32 o 64bits.\n",
    " ### Instalación de Python\n",
    "* Descargar distribución adecuada de Anaconda \n",
    "* Abrir una terminal y ejecutar: \"python\" \n",
    "* [usar Windows+R, ejecutar cmd // Ctrl+Alt+T]\n",
    "* En caso de que no esté instalado:  \n",
    "    sudo apt-get update  \n",
    "    sudo apt-get upgrade  \n",
    "    sudo apt-get install python3.6  \n",
    "### Ejecutar Jupyter Notebook\n",
    "* Instalar Jupyter Notebook mediante (Anaconda ya otorga una versión de Jupyter Notebook):  \n",
    "    pip3 install --upgrade pip  \n",
    "    pip3 install jupyter  \n",
    "    (o pip para python2 en lugar de pip3)\n",
    "* Abrir el prompt de Anaconda\n",
    "* Ejecutar: \"Jupyter Notebook\"\n",
    "\n",
    "#### Notas finales\n",
    "    Siempre es posible utilizar un Idle o entorno de programación diferente mientras se tenga instalada la base de Python dentro de nuestra computadora. \n",
    "    Todas las interfases que utilicemos emplearán la distribución de interprete actual que tengamos para ejecutar nuestros programas.\n",
    "    Actualizar: conda update -n base conda\n",
    "    "
   ]
  },
  {
   "cell_type": "markdown",
   "metadata": {},
   "source": [
    "# Sobre Python\n",
    "----\n",
    "\n",
    "## Cómputo científico\n",
    "\n",
    "* No queremos reprogramar cómo plotear una curva o hacer una transformada de Fourier.\n",
    "* Facilidad: las ciencias computacionales no son nuestro enfoque o nuestra preparación.\n",
    "* El código debe ser fácil de comprender\n",
    "* Un código eficiente se ejecuta rápido. Pero esto se vuelve inútil si requerimos dedicar mucho tiempo a la programación del mismo.\n",
    "* Un solo lenguaje para todo.\n",
    "\n",
    "## Alternativas\n",
    "\n",
    "### C++, Fortran\n",
    "* Son rápidas y con el tiempo que llevan, han sido optimizadas para cálculos pesados, es muy difícil superar a estos lenguajes en tiempo de procesamiento.\n",
    "* Existen liberías específicas para cómputo científico muy optimizadas como BLAS, MKL (Exclusivo Intel) y ATLAS.\n",
    "* Desventajas: sintáxis complicada, control manual de memoria, no permiten interactividad durante el desarrollo.\n",
    "\n",
    "### Matlab\n",
    "* Colección completa de librerías para computo científico enfocado a diversas ciencias.\n",
    "* Cada año se optimiza para un mejor rendimiento.\n",
    "* Editor que permite la interacción con variables y fácil debugging. \n",
    "* Soporte comercial\n",
    "* Desventajas: \n",
    "    * Aunque existen muchas funciones integradas puede resultar restrictivo para proyectos más complejos e industriales. \n",
    "    * Es de pago.\n",
    "\n",
    "### R\n",
    "* Open-Source y una gran comunidad _#RStats_ que aporta códigos ejemplo y desarrollos para nuevas librerías (mayoría de usuarios: matemáticos y actuarios).\n",
    "* Funciones estadísticas de muy alto nivel.\n",
    "* Fácil conexión a Bases de Datos y análisis rápido.\n",
    "* Diversos paquetes de graficación.\n",
    "* Desventajas:\n",
    "    * Limitado a funciones de análisis. \n",
    "    * Limitado soporte para conexión con hardware. \n",
    "    * Diversas librerías que hacen lo mismo publicadas por diferentes usuarios.\n",
    "\n",
    "\n",
    "## Python\n",
    "* Open-Source y una gran comunidad enfocada a mejorar las librerías (proyectos) actualmente existentes (mayoría de usuarios: ingenieros y computólogos).\n",
    "* Desarrollado con el principio de una sintaxis sencilla y fácilmente legible.\n",
    "* Diversas librerías para cómputo científico gratuitas apoyadas por universidades o empresas.\n",
    "* Frameworks para desarrollar diversos proyectos:\n",
    "    * Django: Desarrollo Web.\n",
    "    * Beautiful Soup y Requests: Usados para REST API y data mining.\n",
    "    * GPIO: Usada en computadoras de placa reducidad (Raspeberry Pi, Orange Pi, etc.) para controlar  puertos y PWM.\n",
    "    * PySerial: Control de dispositivos por puerto serial.\n",
    "* Desventajas: \n",
    "    * Editores más sencillos que Matlab.\n",
    "    * Alto nivel: no todos las funciones están optimizadas y pueden resultar lentas en algunos casos.\n",
    "\n",
    "### Historia\n",
    "* Python 1.0 - Enero 1994\n",
    "    * Python 1.6 Septiembre 2000\n",
    "* Python 2.0 Octubre 2000\n",
    "    * Python 2.6 Octubre 2006\n",
    "    * Python 2.7 Julio 2010 (todavía muy usado y activo)\n",
    "* Python 3.0 Diciembre 2008\n",
    "    * Python 3.6 Diciembre 2016"
   ]
  },
  {
   "cell_type": "markdown",
   "metadata": {},
   "source": [
    "# Diferencias con C\n",
    "---\n",
    "## Identación\n",
    "    La programación en Python emplea la identación para la formación de bloques en las estructuras de control e indicar donde termina y empieza cierta secuencia de comandos. \n",
    "    La identación es conocida como el espaciamiento horizontal en una linea de código, por ejemplo:"
   ]
  },
  {
   "cell_type": "markdown",
   "metadata": {},
   "source": [
    "### Receta de cocina\n",
    "\n",
    "*Ingredientes*  \n",
    "-        Tomate  \n",
    "-   Pasta  \n",
    "-  Azucar  \n",
    "\n",
    "*Procedimiento*  \n",
    " -   Cortar  \n",
    " -  Batir  \n",
    " - Servir  \n",
    " - Decorar  \n",
    "    \n"
   ]
  },
  {
   "cell_type": "code",
   "execution_count": 2,
   "metadata": {
    "scrolled": true
   },
   "outputs": [
    {
     "name": "stdout",
     "output_type": "stream",
     "text": [
      "z:\n",
      "Zeta es negativo\n",
      "z:\n",
      "Zeta es 0\n",
      "z:\n",
      "Zeta es positivo\n"
     ]
    }
   ],
   "source": [
    "#Codigo\n",
    "for i in range(-1,2):\n",
    "    print ('z:'), i\n",
    "    if(i>0):\n",
    "        print ('Zeta es positivo')\n",
    "    else:\n",
    "        if(i<0):\n",
    "            print ('Zeta es negativo')\n",
    "        else:\n",
    "            print ('Zeta es 0')"
   ]
  },
  {
   "cell_type": "markdown",
   "metadata": {},
   "source": [
    "## Interprete vs Compilador\n",
    "    A diferecia de C o C++ que emplean un idle o entorno que compila nuestro código (formar un .exe y ejecutarlo) \n",
    "    Python emplea un interprete, que da una salida directa de nuestro código sin formar un .exe\n",
    "    Otra diferencia es que el compilador realiza una traducción directa y el interprete analiza y corrije\n",
    "    \n",
    "## Variables dinamicas\n",
    "    No es necesario declarar el tipo de variable a utilizar en Python, ya que al leer una entrada esta es \"interpretada\" y se le asigna el tipo de variable capaz de soportar dicha entrada. \n",
    "    \n"
   ]
  },
  {
   "cell_type": "code",
   "execution_count": 3,
   "metadata": {},
   "outputs": [
    {
     "name": "stdout",
     "output_type": "stream",
     "text": [
      "1  °Es de tipo: <class 'int'>\n",
      "1  °Es de tipo: <class 'str'>\n",
      "hola  °Es de tipo: <class 'str'>\n",
      "0.12  °Es de tipo: <class 'float'>\n",
      "[1, 2, 'hola', '2']  °Es de tipo: <class 'list'>\n"
     ]
    }
   ],
   "source": [
    "import numpy as np\n",
    "\n",
    "A= 1\n",
    "B= '1'\n",
    "C=  'hola'\n",
    "D= 0.12\n",
    "E= [1,2,'hola','2']\n",
    "\n",
    "for i in ([A,B,C,D,E]):\n",
    "    print (i,' °Es de tipo:',type(i))\n"
   ]
  },
  {
   "cell_type": "markdown",
   "metadata": {},
   "source": [
    "## Paradigma\n",
    "    Python es un lenguaje multiparadigma, dentro de este curso emplearemos programación orientada a objetos y estructurada/secuencial.\n",
    "    Ya que Python está basado en POO la mayoría de las veces nos referiremos a métodos y atributos a lo conocido anteriormente como funciones y variables.\n",
    "    Igual que al programar en C++ es posible tratar de entender el funcionamiento de nuestro código pensando que se trata de programación estructurada, pero debido a la forma de objetos este enfoque debe ser superado.\n",
    "    \n",
    "## Que necesita un cientifico\n",
    "* Adquirir información\n",
    "* Manipular la información\n",
    "* Visualizar la información\n",
    "* Comunicar / Compartir resultados"
   ]
  },
  {
   "cell_type": "markdown",
   "metadata": {},
   "source": [
    "# Tipos de variable de Python\n",
    "---\n",
    "    Pese a que en python nuestras variables pueden ser empleadas sin definirlas es útil conocer los tipos de varible que podemos declarar en Python, en especial como posibles argumentos para métodos/funciones espécificos. Variables comunes son:\n",
    "\n",
    "* Entero\n",
    "* Octal\n",
    "* Hexadecimal\n",
    "* Real\n",
    "* Boleano\n",
    "* Cadena"
   ]
  },
  {
   "cell_type": "code",
   "execution_count": 5,
   "metadata": {},
   "outputs": [
    {
     "name": "stdout",
     "output_type": "stream",
     "text": [
      "20 16 32\n",
      "12.3123\n",
      "True False\n",
      "Nombre de algo\n"
     ]
    }
   ],
   "source": [
    "Edad = 20\n",
    "Edad1 = 0o20\n",
    "Edad2 = 0x20\n",
    "\n",
    "Fraccion = 12.3123\n",
    "\n",
    "Valor = True\n",
    "Negar = False\n",
    "\n",
    "Cadena1= 'Nombre de algo'\n",
    "\n",
    "print (Edad, Edad1, Edad2 )\n",
    "print (Fraccion)\n",
    "print( Valor, Negar)\n",
    "print (Cadena1)"
   ]
  },
  {
   "cell_type": "markdown",
   "metadata": {},
   "source": [
    "# Operadores elementales\n",
    "---\n",
    "| Simbolo| Significa | Simbolo | Significa | Simbolo |Significa\n",
    "|---|---|---|---|---|---\n",
    "| + | Suma  | == | Igual que | and | operador lógico AND\n",
    "| - | Resta | != | Distinto que | or | operador lógico OR\n",
    "| not | Negación | <| Menor que | xor| operador lógico XOR \n",
    "| * | Producto | > | Mayor que\n",
    "| ** | Potencia | <= | Menor o igual que\n",
    "| /  | División | >= | Mayor o igual que\n",
    "| // | División entera| \n",
    "| %  | Modulo | \n",
    "|#   | Comentario| \n"
   ]
  },
  {
   "cell_type": "code",
   "execution_count": 8,
   "metadata": {},
   "outputs": [
    {
     "name": "stdout",
     "output_type": "stream",
     "text": [
      "3.0\n",
      "-1.0\n",
      "False\n",
      "True\n",
      "2.0\n",
      "8.0\n",
      "0.6666666666666666\n",
      "0.0\n",
      "2.0\n"
     ]
    }
   ],
   "source": [
    "A=1\n",
    "B=2.0\n",
    "Bol=False\n",
    "\n",
    "print (A+B)\n",
    "print (A-B)\n",
    "print (not A)\n",
    "print (not Bol)\n",
    "print (A*B)\n",
    "print (B**3)\n",
    "print (B/3)\n",
    "print (B//3)\n",
    "print (B%3)\n",
    "\n",
    "# Esto es un comentario, no se ejecuta"
   ]
  },
  {
   "cell_type": "markdown",
   "metadata": {},
   "source": [
    "# Tupla, lista y diccionario\n",
    "---\n",
    "Además de los mencionados, tenemos tipos de datos complejos. Estos datos se componen de más de un elemento y pueden incluir más de un tipo de dato interno, incluido a su vez otro dato complejo:\n",
    "\n",
    "## Tupla\n",
    "    La tupla es un arreglo de datos similar a un vector, con la caracteristica de que pese a que podemos accedar a los elementos de su arreglo estos elementos no son alterables. Para definir una tupla se emplean los parentesis simples \"()\"\n",
    "    "
   ]
  },
  {
   "cell_type": "code",
   "execution_count": 9,
   "metadata": {},
   "outputs": [
    {
     "name": "stdout",
     "output_type": "stream",
     "text": [
      "1\n",
      "(1, 2, 3, 4)\n",
      "<class 'tuple'>\n"
     ]
    },
    {
     "ename": "TypeError",
     "evalue": "'tuple' object does not support item assignment",
     "output_type": "error",
     "traceback": [
      "\u001b[1;31m---------------------------------------------------------------------------\u001b[0m",
      "\u001b[1;31mTypeError\u001b[0m                                 Traceback (most recent call last)",
      "\u001b[1;32m<ipython-input-9-faa7e161abfe>\u001b[0m in \u001b[0;36m<module>\u001b[1;34m()\u001b[0m\n\u001b[0;32m      4\u001b[0m \u001b[0mprint\u001b[0m \u001b[1;33m(\u001b[0m\u001b[0mtype\u001b[0m\u001b[1;33m(\u001b[0m\u001b[0mTupla1\u001b[0m\u001b[1;33m)\u001b[0m\u001b[1;33m)\u001b[0m\u001b[1;33m\u001b[0m\u001b[0m\n\u001b[0;32m      5\u001b[0m \u001b[1;33m\u001b[0m\u001b[0m\n\u001b[1;32m----> 6\u001b[1;33m \u001b[0mTupla1\u001b[0m\u001b[1;33m[\u001b[0m\u001b[1;36m0\u001b[0m\u001b[1;33m]\u001b[0m\u001b[1;33m=\u001b[0m\u001b[1;36m2\u001b[0m\u001b[1;33m\u001b[0m\u001b[0m\n\u001b[0m\u001b[0;32m      7\u001b[0m \u001b[1;31m#Mencionar: pese al error el programa interpreta el código linea por linea\u001b[0m\u001b[1;33m\u001b[0m\u001b[1;33m\u001b[0m\u001b[0m\n\u001b[0;32m      8\u001b[0m \u001b[1;31m#Arreglos comienzan con el elemento 0, igual que en C, diferente que en MatLab\u001b[0m\u001b[1;33m\u001b[0m\u001b[1;33m\u001b[0m\u001b[0m\n",
      "\u001b[1;31mTypeError\u001b[0m: 'tuple' object does not support item assignment"
     ]
    }
   ],
   "source": [
    "Tupla1=(1,2,3,4)\n",
    "print (Tupla1[0])\n",
    "print (Tupla1)\n",
    "print (type(Tupla1))\n",
    "\n",
    "Tupla1[0]=2\n",
    "#Mencionar: pese al error el programa interpreta el código linea por linea\n",
    "#Arreglos comienzan con el elemento 0, igual que en C, diferente que en MatLab"
   ]
  },
  {
   "cell_type": "markdown",
   "metadata": {},
   "source": [
    "## Lista\n",
    "    Como su nombre lo indica, una lista es un arreglo de otros datos de forma ordenada. Igual que la tupla emplea indices para referirnos a sus elementos. Para definirla se emplean los corchetes rectos: \"[]\"\n",
    "    Además permiten agregar datos\n",
    "\n",
    "  "
   ]
  },
  {
   "cell_type": "code",
   "execution_count": 11,
   "metadata": {},
   "outputs": [
    {
     "name": "stdout",
     "output_type": "stream",
     "text": [
      "[1, 'dos', False, [45, 'cien']]\n",
      "[1, 'dos', False, [45, 'cien'], ('a', 'b', 1, ('Z', 3), ['Z', 2])]\n"
     ]
    }
   ],
   "source": [
    "#Ejemplo de lista multi datos\n",
    "lista = [1, \"dos\", False, [45, \"cien\"]]  \n",
    "print (lista)\n",
    "    \n",
    "Tupla2=('a','b',1,('Z',3),['Z',2])\n",
    "\n",
    "lista.append(Tupla2)\n",
    "print (lista)"
   ]
  },
  {
   "cell_type": "markdown",
   "metadata": {},
   "source": [
    "## Diccionario\n",
    "\n",
    "Un diccionario es quivalente a una lista cuya entrada, en lugar de ser el indice determinado para la posición de cada elemento, es una clave determinada para cada unico elemento del diccionario.\n",
    "Es posible eliminar, agregar y modificar cada uno de los valores del diccionario\n",
    "Los diccionarios se crean utilizando los corchetes curvos \"{}\", e incluyendo la clave que apunta hacia cada elemento \n",
    "' Clave:elemento '\n",
    "    "
   ]
  },
  {
   "cell_type": "code",
   "execution_count": 12,
   "metadata": {},
   "outputs": [
    {
     "name": "stdout",
     "output_type": "stream",
     "text": [
      "2\n",
      "Arriba\n",
      "{'Down': 'Abajo', 'Left': 'Izquierda', 'Right': 'Derecha', 'In': 'Dentro'}\n"
     ]
    }
   ],
   "source": [
    "Diccion={\"Ene\":1,\"Feb\":2,\"Mar\":3,\"Abr\":4,\"May\":5,\"Jun\":6,\"Jul\":7,\"Ago\":8,\"Sep\":9,\"Oct\":10,\"Nov\":11,\"Dic\":12};   \n",
    "print (Diccion[\"Feb\"])\n",
    "\n",
    "Diccion2={\"Up\":\"Arriba\",\"Down\":\"Abajo\",\"Left\":\"Izquierda\",\"Right\":\"Derecha\"};\n",
    "print (Diccion2[\"Up\"])\n",
    "\n",
    "del(Diccion2[\"Up\"]) #Eliminamos Up:Arriba\n",
    "Diccion2[\"In\"]=\"Dentro\"\n",
    "print (Diccion2)\n",
    "\n",
    "#El orden de los elementos del diccionario NO sigue la forma en la que son agregados, sino un orden alfabenumerico \n",
    "#correspondiente a los elementos del mismo: A,D,D,I etc ~"
   ]
  },
  {
   "cell_type": "markdown",
   "metadata": {},
   "source": [
    "\n",
    "# Sentencias de Control\n",
    "---\n",
    "A continuación veremos las sentencias de control o funciones de flujo comunmente empleadas en Python\n",
    "\n",
    "* if/else  \n",
    "      Sentencia condicional básica que nos permite utilizar el condicional if, con una posible opción else en caso de cumplimiento y no cumplimento de la sentencia a valorar.\n",
    "* elif  \n",
    "      Sentencia condicional que equivale a colocar un else con un if anidado,\n",
    "      permite la reducción del código en ciertos casos.\n",
    "* while  \n",
    "      Sentencia de bucle, repetira su contenido mientras la sentencia contenida sea verdadera (valor igual a True/1)\n",
    "* for  \n",
    "      Sentencia de bucle, repetira su contenido mientras se recorre un indice que apunta a la dirección que contiene cada uno de los elementos almacenados en una lista, arreglo especifico.\n"
   ]
  },
  {
   "cell_type": "code",
   "execution_count": 13,
   "metadata": {},
   "outputs": [
    {
     "name": "stdout",
     "output_type": "stream",
     "text": [
      "Se cumple el la condición\n",
      "La condición es negada\n"
     ]
    }
   ],
   "source": [
    "#Ejemplo de if, else.\n",
    "Variable=True;\n",
    "\n",
    "if Variable == True: \n",
    "    print (\"Se cumple el la condición\")\n",
    "else: \n",
    "    print (\"La condición es negada\")\n",
    "\n",
    "Variable=23;\n",
    "\n",
    "if Variable == True: \n",
    "    print (\"Se cumple el la condición\")\n",
    "else: \n",
    "    print (\"La condición es negada\"  )  "
   ]
  },
  {
   "cell_type": "code",
   "execution_count": 16,
   "metadata": {},
   "outputs": [
    {
     "name": "stdout",
     "output_type": "stream",
     "text": [
      "z: -1\n",
      "Zeta es negativo\n",
      "z: 0\n",
      "Zeta es 0\n",
      "z: 1\n",
      "Zeta es positivo\n"
     ]
    }
   ],
   "source": [
    "#Ejemplo de elif, tomando el ejemplo anterior\n",
    "for i in range(-1,2):\n",
    "    print( 'z:', i)\n",
    "    if(i>0):\n",
    "        print ('Zeta es positivo')\n",
    "    elif(i<0):\n",
    "        print ('Zeta es negativo')\n",
    "    else:\n",
    "        print ('Zeta es 0')\n",
    "    "
   ]
  },
  {
   "cell_type": "code",
   "execution_count": 18,
   "metadata": {},
   "outputs": [
    {
     "name": "stdout",
     "output_type": "stream",
     "text": [
      "0\n",
      "1\n",
      "2\n",
      "3\n",
      "4\n"
     ]
    }
   ],
   "source": [
    "#Ejemplo de for más claro\n",
    "for i in range(0,5):\n",
    "    print (i)"
   ]
  },
  {
   "cell_type": "code",
   "execution_count": 19,
   "metadata": {},
   "outputs": [
    {
     "name": "stdout",
     "output_type": "stream",
     "text": [
      "Paco\n",
      "Luis\n",
      "Juan\n",
      "12\n",
      "('Zeta', 2)\n"
     ]
    }
   ],
   "source": [
    "#Ejemplo de for de lista\n",
    "Lista= ['Paco', 'Luis', 'Juan', 12, ('Zeta',2)]\n",
    "for i in Lista:\n",
    "    print (i)"
   ]
  },
  {
   "cell_type": "code",
   "execution_count": 20,
   "metadata": {},
   "outputs": [
    {
     "name": "stdout",
     "output_type": "stream",
     "text": [
      "Mayor!\n",
      "Mayor!\n"
     ]
    }
   ],
   "source": [
    "#Ejemplo simple de while\n",
    "Number=12;\n",
    "while Number>10:\n",
    "    print( \"Mayor!\")\n",
    "    Number=Number-1;\n",
    "\n",
    "#¿Por qué solo ha impreso dos veces la expresión \"Mayor!\"?"
   ]
  },
  {
   "cell_type": "code",
   "execution_count": 95,
   "metadata": {},
   "outputs": [],
   "source": [
    "#Ejemplo de while elaborado con recursión\n",
    "#Ejemplo COMPLICADO\n",
    " \n",
    "def persistence(n):\n",
    "    n2=1\n",
    "    if(n<10):\n",
    "        return 0\n",
    "    while(n>0):\n",
    "        n2=n2*(n%10)\n",
    "        n=n//10\n",
    "    return(1+persistence(n2))\n",
    "\n",
    "\n",
    "\n",
    "#data= (2,20,99,269,77)\n",
    "#for i in data:\n",
    "#    print (persistence(i))\n",
    "\n",
    "\n",
    "#¿Qué hace esta función?"
   ]
  },
  {
   "cell_type": "markdown",
   "metadata": {},
   "source": [
    "# Objeto: Métodos y atributos\n",
    "\n",
    "Para entender el concepto de objeto basta con referirnos a como hablamos coloquialmente de nuestro entorno:\n",
    "Cierta entidad (objeto) posee las caracteristicas (atributos) \n",
    "y es capaz de realizar las acciones (métodos)\n",
    "\n",
    "Como sabemos hay diferentes entidades que poseen una misma clase de caracteristica, por ejemplo color. \n",
    "Aunque no todos las entidades sean del mismo color (polimorfismo).\n",
    "\n",
    "Además, hay entidades compuestas de entidades más 'pequeñas' (hijos), estos por definición \n",
    "reciben caracteristicas (herencia) de la entidad de origen (padre)."
   ]
  },
  {
   "cell_type": "code",
   "execution_count": 28,
   "metadata": {
    "scrolled": true
   },
   "outputs": [
    {
     "name": "stdout",
     "output_type": "stream",
     "text": [
      "__main__.perro\n",
      "cafe\n",
      "Ejemplo de Método\n",
      "El perro puede nadar\n"
     ]
    },
    {
     "data": {
      "text/plain": [
       "'terry'"
      ]
     },
     "execution_count": 28,
     "metadata": {},
     "output_type": "execute_result"
    }
   ],
   "source": [
    "class Pelo(): \n",
    "    color = \"\" \n",
    "    textura = \"\" \n",
    "    def largo(self):\n",
    "        print \"Ejemplo de Método\"\n",
    "        \n",
    "class Ojo():  \n",
    "    color = \"\" \n",
    "    tamanio = \"\"\n",
    " \n",
    "class perro:  \n",
    "    tamanio = \"\"\n",
    "    nombre = \"\"\n",
    "    ojos = Ojo()       # propiedad compuesta por el objeto objeto Ojo\n",
    "    pelos = Pelo()     # propiedad compuesta por el objeto objeto Pelo\n",
    "    def nadar(self,N):\n",
    "        if(N>0): print \"El perro puede nadar\"\n",
    "        else: print \"El perro no nada\"\n",
    "            \n",
    "perro1 = perro #Generacion del objeto\n",
    "print perro1   \n",
    "perro1.ojos.color = \"cafe\"\n",
    "print perro1.ojos.color\n",
    "\n",
    "perro1.pelos.largo() \n",
    "\n",
    "Nadara=perro1(); #Equivale a ojos/Ojo() de la parte de declaración de perro\n",
    "Nadara.nadar(1)\n",
    "\n",
    "perro1.nombre = \"TerrY\"\n",
    "\n",
    "    #métodos comunes aplicables a strings\n",
    "perro1.nombre.lower()\n",
    "#perro1.nombre.isdigit()\n",
    "#perro1.nombre.swapcase()"
   ]
  },
  {
   "cell_type": "markdown",
   "metadata": {},
   "source": [
    "## Pandas\n",
    "\n",
    "Pandas es la librería para manejo de datos más usadas para Python, esta incorpora funciones estilo Excel y diréctamente puede dar descripciones y datos generales."
   ]
  },
  {
   "cell_type": "code",
   "execution_count": 96,
   "metadata": {},
   "outputs": [],
   "source": [
    "%matplotlib inline\n",
    "import pandas as pd\n",
    "import matplotlib.pyplot as plt\n",
    "df = pd.read_csv('data/wines.csv')"
   ]
  },
  {
   "cell_type": "code",
   "execution_count": 97,
   "metadata": {},
   "outputs": [
    {
     "data": {
      "text/html": [
       "<div>\n",
       "<style scoped>\n",
       "    .dataframe tbody tr th:only-of-type {\n",
       "        vertical-align: middle;\n",
       "    }\n",
       "\n",
       "    .dataframe tbody tr th {\n",
       "        vertical-align: top;\n",
       "    }\n",
       "\n",
       "    .dataframe thead th {\n",
       "        text-align: right;\n",
       "    }\n",
       "</style>\n",
       "<table border=\"1\" class=\"dataframe\">\n",
       "  <thead>\n",
       "    <tr style=\"text-align: right;\">\n",
       "      <th></th>\n",
       "      <th>Class</th>\n",
       "      <th>Alcohol</th>\n",
       "      <th>Malic_acid</th>\n",
       "      <th>Ash</th>\n",
       "      <th>Alcalinity_of_ash</th>\n",
       "      <th>Magnesium</th>\n",
       "      <th>Total_phenols</th>\n",
       "      <th>Flavanoids</th>\n",
       "      <th>Nonflavanoid_phenols</th>\n",
       "      <th>Proanthocyanins</th>\n",
       "      <th>Color_intensity</th>\n",
       "      <th>Hue</th>\n",
       "      <th>OD280-OD315_of_diluted_wines</th>\n",
       "      <th>Proline</th>\n",
       "    </tr>\n",
       "  </thead>\n",
       "  <tbody>\n",
       "    <tr>\n",
       "      <th>0</th>\n",
       "      <td>1</td>\n",
       "      <td>14.23</td>\n",
       "      <td>1.71</td>\n",
       "      <td>2.43</td>\n",
       "      <td>15.6</td>\n",
       "      <td>127</td>\n",
       "      <td>2.80</td>\n",
       "      <td>3.06</td>\n",
       "      <td>0.28</td>\n",
       "      <td>2.29</td>\n",
       "      <td>5.64</td>\n",
       "      <td>1.04</td>\n",
       "      <td>3.92</td>\n",
       "      <td>1065</td>\n",
       "    </tr>\n",
       "    <tr>\n",
       "      <th>1</th>\n",
       "      <td>1</td>\n",
       "      <td>13.20</td>\n",
       "      <td>1.78</td>\n",
       "      <td>2.14</td>\n",
       "      <td>11.2</td>\n",
       "      <td>100</td>\n",
       "      <td>2.65</td>\n",
       "      <td>2.76</td>\n",
       "      <td>0.26</td>\n",
       "      <td>1.28</td>\n",
       "      <td>4.38</td>\n",
       "      <td>1.05</td>\n",
       "      <td>3.40</td>\n",
       "      <td>1050</td>\n",
       "    </tr>\n",
       "    <tr>\n",
       "      <th>2</th>\n",
       "      <td>1</td>\n",
       "      <td>13.16</td>\n",
       "      <td>2.36</td>\n",
       "      <td>2.67</td>\n",
       "      <td>18.6</td>\n",
       "      <td>101</td>\n",
       "      <td>2.80</td>\n",
       "      <td>3.24</td>\n",
       "      <td>0.30</td>\n",
       "      <td>2.81</td>\n",
       "      <td>5.68</td>\n",
       "      <td>1.03</td>\n",
       "      <td>3.17</td>\n",
       "      <td>1185</td>\n",
       "    </tr>\n",
       "    <tr>\n",
       "      <th>3</th>\n",
       "      <td>1</td>\n",
       "      <td>14.37</td>\n",
       "      <td>1.95</td>\n",
       "      <td>2.50</td>\n",
       "      <td>16.8</td>\n",
       "      <td>113</td>\n",
       "      <td>3.85</td>\n",
       "      <td>3.49</td>\n",
       "      <td>0.24</td>\n",
       "      <td>2.18</td>\n",
       "      <td>7.80</td>\n",
       "      <td>0.86</td>\n",
       "      <td>3.45</td>\n",
       "      <td>1480</td>\n",
       "    </tr>\n",
       "    <tr>\n",
       "      <th>4</th>\n",
       "      <td>1</td>\n",
       "      <td>13.24</td>\n",
       "      <td>2.59</td>\n",
       "      <td>2.87</td>\n",
       "      <td>21.0</td>\n",
       "      <td>118</td>\n",
       "      <td>2.80</td>\n",
       "      <td>2.69</td>\n",
       "      <td>0.39</td>\n",
       "      <td>1.82</td>\n",
       "      <td>4.32</td>\n",
       "      <td>1.04</td>\n",
       "      <td>2.93</td>\n",
       "      <td>735</td>\n",
       "    </tr>\n",
       "  </tbody>\n",
       "</table>\n",
       "</div>"
      ],
      "text/plain": [
       "   Class  Alcohol  Malic_acid   Ash  Alcalinity_of_ash  Magnesium  \\\n",
       "0      1    14.23        1.71  2.43               15.6        127   \n",
       "1      1    13.20        1.78  2.14               11.2        100   \n",
       "2      1    13.16        2.36  2.67               18.6        101   \n",
       "3      1    14.37        1.95  2.50               16.8        113   \n",
       "4      1    13.24        2.59  2.87               21.0        118   \n",
       "\n",
       "   Total_phenols  Flavanoids  Nonflavanoid_phenols  Proanthocyanins  \\\n",
       "0           2.80        3.06                  0.28             2.29   \n",
       "1           2.65        2.76                  0.26             1.28   \n",
       "2           2.80        3.24                  0.30             2.81   \n",
       "3           3.85        3.49                  0.24             2.18   \n",
       "4           2.80        2.69                  0.39             1.82   \n",
       "\n",
       "   Color_intensity   Hue  OD280-OD315_of_diluted_wines  Proline  \n",
       "0             5.64  1.04                          3.92     1065  \n",
       "1             4.38  1.05                          3.40     1050  \n",
       "2             5.68  1.03                          3.17     1185  \n",
       "3             7.80  0.86                          3.45     1480  \n",
       "4             4.32  1.04                          2.93      735  "
      ]
     },
     "execution_count": 97,
     "metadata": {},
     "output_type": "execute_result"
    }
   ],
   "source": [
    "# Ver las primeras cinco filas\n",
    "df.head()"
   ]
  },
  {
   "cell_type": "code",
   "execution_count": 98,
   "metadata": {},
   "outputs": [
    {
     "data": {
      "text/html": [
       "<div>\n",
       "<style scoped>\n",
       "    .dataframe tbody tr th:only-of-type {\n",
       "        vertical-align: middle;\n",
       "    }\n",
       "\n",
       "    .dataframe tbody tr th {\n",
       "        vertical-align: top;\n",
       "    }\n",
       "\n",
       "    .dataframe thead th {\n",
       "        text-align: right;\n",
       "    }\n",
       "</style>\n",
       "<table border=\"1\" class=\"dataframe\">\n",
       "  <thead>\n",
       "    <tr style=\"text-align: right;\">\n",
       "      <th></th>\n",
       "      <th>Class</th>\n",
       "      <th>Alcohol</th>\n",
       "      <th>Malic_acid</th>\n",
       "      <th>Ash</th>\n",
       "      <th>Alcalinity_of_ash</th>\n",
       "      <th>Magnesium</th>\n",
       "      <th>Total_phenols</th>\n",
       "      <th>Flavanoids</th>\n",
       "      <th>Nonflavanoid_phenols</th>\n",
       "      <th>Proanthocyanins</th>\n",
       "      <th>Color_intensity</th>\n",
       "      <th>Hue</th>\n",
       "      <th>OD280-OD315_of_diluted_wines</th>\n",
       "      <th>Proline</th>\n",
       "    </tr>\n",
       "  </thead>\n",
       "  <tbody>\n",
       "    <tr>\n",
       "      <th>count</th>\n",
       "      <td>178.000000</td>\n",
       "      <td>178.000000</td>\n",
       "      <td>178.000000</td>\n",
       "      <td>178.000000</td>\n",
       "      <td>178.000000</td>\n",
       "      <td>178.000000</td>\n",
       "      <td>178.000000</td>\n",
       "      <td>178.000000</td>\n",
       "      <td>178.000000</td>\n",
       "      <td>178.000000</td>\n",
       "      <td>178.000000</td>\n",
       "      <td>178.000000</td>\n",
       "      <td>178.000000</td>\n",
       "      <td>178.000000</td>\n",
       "    </tr>\n",
       "    <tr>\n",
       "      <th>mean</th>\n",
       "      <td>1.938202</td>\n",
       "      <td>13.000618</td>\n",
       "      <td>2.336348</td>\n",
       "      <td>2.366517</td>\n",
       "      <td>19.494944</td>\n",
       "      <td>99.741573</td>\n",
       "      <td>2.295112</td>\n",
       "      <td>2.029270</td>\n",
       "      <td>0.361854</td>\n",
       "      <td>1.590899</td>\n",
       "      <td>5.058090</td>\n",
       "      <td>0.957449</td>\n",
       "      <td>2.611685</td>\n",
       "      <td>746.893258</td>\n",
       "    </tr>\n",
       "    <tr>\n",
       "      <th>std</th>\n",
       "      <td>0.775035</td>\n",
       "      <td>0.811827</td>\n",
       "      <td>1.117146</td>\n",
       "      <td>0.274344</td>\n",
       "      <td>3.339564</td>\n",
       "      <td>14.282484</td>\n",
       "      <td>0.625851</td>\n",
       "      <td>0.998859</td>\n",
       "      <td>0.124453</td>\n",
       "      <td>0.572359</td>\n",
       "      <td>2.318286</td>\n",
       "      <td>0.228572</td>\n",
       "      <td>0.709990</td>\n",
       "      <td>314.907474</td>\n",
       "    </tr>\n",
       "    <tr>\n",
       "      <th>min</th>\n",
       "      <td>1.000000</td>\n",
       "      <td>11.030000</td>\n",
       "      <td>0.740000</td>\n",
       "      <td>1.360000</td>\n",
       "      <td>10.600000</td>\n",
       "      <td>70.000000</td>\n",
       "      <td>0.980000</td>\n",
       "      <td>0.340000</td>\n",
       "      <td>0.130000</td>\n",
       "      <td>0.410000</td>\n",
       "      <td>1.280000</td>\n",
       "      <td>0.480000</td>\n",
       "      <td>1.270000</td>\n",
       "      <td>278.000000</td>\n",
       "    </tr>\n",
       "    <tr>\n",
       "      <th>25%</th>\n",
       "      <td>1.000000</td>\n",
       "      <td>12.362500</td>\n",
       "      <td>1.602500</td>\n",
       "      <td>2.210000</td>\n",
       "      <td>17.200000</td>\n",
       "      <td>88.000000</td>\n",
       "      <td>1.742500</td>\n",
       "      <td>1.205000</td>\n",
       "      <td>0.270000</td>\n",
       "      <td>1.250000</td>\n",
       "      <td>3.220000</td>\n",
       "      <td>0.782500</td>\n",
       "      <td>1.937500</td>\n",
       "      <td>500.500000</td>\n",
       "    </tr>\n",
       "    <tr>\n",
       "      <th>50%</th>\n",
       "      <td>2.000000</td>\n",
       "      <td>13.050000</td>\n",
       "      <td>1.865000</td>\n",
       "      <td>2.360000</td>\n",
       "      <td>19.500000</td>\n",
       "      <td>98.000000</td>\n",
       "      <td>2.355000</td>\n",
       "      <td>2.135000</td>\n",
       "      <td>0.340000</td>\n",
       "      <td>1.555000</td>\n",
       "      <td>4.690000</td>\n",
       "      <td>0.965000</td>\n",
       "      <td>2.780000</td>\n",
       "      <td>673.500000</td>\n",
       "    </tr>\n",
       "    <tr>\n",
       "      <th>75%</th>\n",
       "      <td>3.000000</td>\n",
       "      <td>13.677500</td>\n",
       "      <td>3.082500</td>\n",
       "      <td>2.557500</td>\n",
       "      <td>21.500000</td>\n",
       "      <td>107.000000</td>\n",
       "      <td>2.800000</td>\n",
       "      <td>2.875000</td>\n",
       "      <td>0.437500</td>\n",
       "      <td>1.950000</td>\n",
       "      <td>6.200000</td>\n",
       "      <td>1.120000</td>\n",
       "      <td>3.170000</td>\n",
       "      <td>985.000000</td>\n",
       "    </tr>\n",
       "    <tr>\n",
       "      <th>max</th>\n",
       "      <td>3.000000</td>\n",
       "      <td>14.830000</td>\n",
       "      <td>5.800000</td>\n",
       "      <td>3.230000</td>\n",
       "      <td>30.000000</td>\n",
       "      <td>162.000000</td>\n",
       "      <td>3.880000</td>\n",
       "      <td>5.080000</td>\n",
       "      <td>0.660000</td>\n",
       "      <td>3.580000</td>\n",
       "      <td>13.000000</td>\n",
       "      <td>1.710000</td>\n",
       "      <td>4.000000</td>\n",
       "      <td>1680.000000</td>\n",
       "    </tr>\n",
       "  </tbody>\n",
       "</table>\n",
       "</div>"
      ],
      "text/plain": [
       "            Class     Alcohol  Malic_acid         Ash  Alcalinity_of_ash  \\\n",
       "count  178.000000  178.000000  178.000000  178.000000         178.000000   \n",
       "mean     1.938202   13.000618    2.336348    2.366517          19.494944   \n",
       "std      0.775035    0.811827    1.117146    0.274344           3.339564   \n",
       "min      1.000000   11.030000    0.740000    1.360000          10.600000   \n",
       "25%      1.000000   12.362500    1.602500    2.210000          17.200000   \n",
       "50%      2.000000   13.050000    1.865000    2.360000          19.500000   \n",
       "75%      3.000000   13.677500    3.082500    2.557500          21.500000   \n",
       "max      3.000000   14.830000    5.800000    3.230000          30.000000   \n",
       "\n",
       "        Magnesium  Total_phenols  Flavanoids  Nonflavanoid_phenols  \\\n",
       "count  178.000000     178.000000  178.000000            178.000000   \n",
       "mean    99.741573       2.295112    2.029270              0.361854   \n",
       "std     14.282484       0.625851    0.998859              0.124453   \n",
       "min     70.000000       0.980000    0.340000              0.130000   \n",
       "25%     88.000000       1.742500    1.205000              0.270000   \n",
       "50%     98.000000       2.355000    2.135000              0.340000   \n",
       "75%    107.000000       2.800000    2.875000              0.437500   \n",
       "max    162.000000       3.880000    5.080000              0.660000   \n",
       "\n",
       "       Proanthocyanins  Color_intensity         Hue  \\\n",
       "count       178.000000       178.000000  178.000000   \n",
       "mean          1.590899         5.058090    0.957449   \n",
       "std           0.572359         2.318286    0.228572   \n",
       "min           0.410000         1.280000    0.480000   \n",
       "25%           1.250000         3.220000    0.782500   \n",
       "50%           1.555000         4.690000    0.965000   \n",
       "75%           1.950000         6.200000    1.120000   \n",
       "max           3.580000        13.000000    1.710000   \n",
       "\n",
       "       OD280-OD315_of_diluted_wines      Proline  \n",
       "count                    178.000000   178.000000  \n",
       "mean                       2.611685   746.893258  \n",
       "std                        0.709990   314.907474  \n",
       "min                        1.270000   278.000000  \n",
       "25%                        1.937500   500.500000  \n",
       "50%                        2.780000   673.500000  \n",
       "75%                        3.170000   985.000000  \n",
       "max                        4.000000  1680.000000  "
      ]
     },
     "execution_count": 98,
     "metadata": {},
     "output_type": "execute_result"
    }
   ],
   "source": [
    "# Descripción general de los datos\n",
    "df.describe()"
   ]
  },
  {
   "cell_type": "markdown",
   "metadata": {},
   "source": [
    "Incorpora diversas funciones que permiten incluso graficar fácilmente para un análisis exploratorio."
   ]
  },
  {
   "cell_type": "code",
   "execution_count": 106,
   "metadata": {
    "scrolled": true
   },
   "outputs": [
    {
     "data": {
      "image/png": "[encoded data removed]",
      "text/plain": [
       "<matplotlib.figure.Figure at 0x13da98dc278>"
      ]
     },
     "metadata": {},
     "output_type": "display_data"
    }
   ],
   "source": [
    "df.hist(figsize=(12,12), bins=20)\n",
    "plt.show()"
   ]
  },
  {
   "cell_type": "markdown",
   "metadata": {},
   "source": [
    "# EJERCICIOS  I escritura elemental\n",
    "\n",
    "### For simple\n",
    "* Escribir una lista, una tupla y una cadena de caracteres sin espacio.\n",
    "* Realizar un for que contenga otro for que imprima cada elemento de cada uno de los arreglos previos\n",
    "* Alternativamente formar una lista compuesta de los tres arreglos anteriores y repetir la operación con un único for, pero empleando resultados previos u otras instrucciones a elección del usuario.\n",
    "\n",
    "### Bucles infinitos\n",
    "* Ejecutar un while cuyo argumento sea True, sus sentencias internas pueden ser omitidas\n",
    "* Dada una cifra (ingresada o declarada), imprimir los elementos de dicha cifra de menor a mayor representatividad (unidades, decenas, centenas...) \n",
    "\n",
    "### Operaciones básicas\n",
    "* Escribir un código que nos indique si un número es múltiplo de 3, empleando la función modulo.\n",
    "* Repetir lo anterior SIN utilizar la función modulo (tip: utiliza / y // sobre flotantes)\n",
    "\n",
    "### Argumentos complejos\n",
    "* Escribir un código que imprima un nombre si dadas dos variables A,B son ambas pares\n",
    "* Repetir lo anterior pero ahora A y B deben ser de diferente paridad entre sí.\n",
    "\n",
    "* Imprimir una lista de los primeros N números naturales seguida de el valor de la suma de dichos N números\n",
    "* Elaborar el código anterior con la definición de una nueva función.\n",
    " \n"
   ]
  },
  {
   "cell_type": "code",
   "execution_count": 122,
   "metadata": {},
   "outputs": [
    {
     "name": "stdout",
     "output_type": "stream",
     "text": [
      "Ingrese el número perengano:3\n",
      "27.0\n"
     ]
    }
   ],
   "source": [
    "#Ayuda breve de input's utilizando input\n",
    "a=input(\"Ingrese el número perengano:\")\n",
    "a=float(a)\n",
    "print(a**3)"
   ]
  },
  {
   "cell_type": "markdown",
   "metadata": {
    "collapsed": true
   },
   "source": [
    "\n",
    "| N |suma de los primeros N elementos|\n",
    "      |---|---|\n",
    "      | 1 | 1 |\n",
    "      | 2 | 3 |\n",
    "      | 3 | 6 |\n",
    "      |...|...|\n",
    "      | N | $$ \\Sigma_{i=1}^{N} i = \\frac{N(N+1)}{2} $$ | "
   ]
  },
  {
   "cell_type": "markdown",
   "metadata": {
    "collapsed": true
   },
   "source": [
    " \n",
    "# EJERCICIOS  II problemas lógicos \n",
    "\n",
    "* Escribir una lista de los primeros N primos [sin optimizar]\n",
    "* Indicar si cierto número N es o no primo    [optimizado]\n",
    "* Función factorial  (usando recursividad)\n",
    "* Dada una lista de N números ordenarlos de menor a mayor [burbuja]\n",
    "* Muestra de quick short e interpretación del código "
   ]
  },
  {
   "cell_type": "code",
   "execution_count": 123,
   "metadata": {},
   "outputs": [
    {
     "name": "stdout",
     "output_type": "stream",
     "text": [
      "[-3, 0, 1, 1, 2, 2, 2, 3, 3, 3, 4, 4, 4, 5, 6, 6, 6, 6, 7, 23, 67, 68, 78, 233, 623, 824]\n"
     ]
    }
   ],
   "source": [
    "#Ejemplo de burbuja\n",
    "Secuencia=[3,1,4,2,6,1,2,6,3,6,4,2,67,5,4,78,23,6,233,7,3,623,824,68,-3,0]\n",
    "def Burbuja(unaLista):\n",
    "    for j in range(len(unaLista)-1,0,-1):\n",
    "        for i in range(j):\n",
    "            if unaLista[i]>unaLista[i+1]:\n",
    "                temp = unaLista[i]\n",
    "                unaLista[i] = unaLista[i+1]\n",
    "                unaLista[i+1] = temp\n",
    "Burbuja(Secuencia)              \n",
    "print(Secuencia)"
   ]
  },
  {
   "cell_type": "code",
   "execution_count": 125,
   "metadata": {},
   "outputs": [
    {
     "name": "stdout",
     "output_type": "stream",
     "text": [
      "[-3, 0, 1, 1, 2, 2, 2, 3, 3, 3, 4, 4, 4, 5, 6, 6, 6, 6, 7, 23, 67, 68, 78, 233, 623, 824]\n"
     ]
    }
   ],
   "source": [
    "#Ejemplo quick short\n",
    "import random\n",
    "Secuencia=[3,1,4,2,6,1,2,6,3,6,4,2,67,5,4,78,23,6,233,7,3,623,824,68,-3,0]\n",
    "\n",
    "def Burbuja(unaLista):\n",
    "    for j in range(len(unaLista)-1,0,-1):\n",
    "        for i in range(j):\n",
    "            if unaLista[i]>unaLista[i+1]:\n",
    "                temp = unaLista[i]\n",
    "                unaLista[i] = unaLista[i+1]\n",
    "                unaLista[i+1] = temp\n",
    "    return unaLista\n",
    "\n",
    "\n",
    "def Quiki(unaLista):\n",
    "    #Elemento random de la lista\n",
    "    Pivo=random.randrange( len(unaLista))\n",
    "    Lista2=[unaLista[Pivo]]\n",
    "    ListaSup=[];\n",
    "    ListaInf=[];\n",
    "    #Comparar vs Pivo\n",
    "    if(len(unaLista)>3): #Si hay menos de 5 elementos en la lista actual ejecutar otro algoritmo\n",
    "        \n",
    "        for j in range(len(unaLista)):\n",
    "            if(j!=Pivo):                         #Evitar repetición\n",
    "                if (unaLista[j]>unaLista[Pivo]):\n",
    "                    ListaSup.append(unaLista[j])\n",
    "                else:\n",
    "                    ListaInf.insert(0,unaLista[j])\n",
    "        if(len(ListaSup)>3):\n",
    "            A=Quiki(ListaSup)\n",
    "            Lista2.extend(A)\n",
    "        else:\n",
    "            #Burbuja y agregar\n",
    "            ListaSup=Burbuja(ListaSup)\n",
    "            Lista2.extend(ListaSup) #Agregar al final \n",
    "        if(len(ListaInf)>3):\n",
    "            A=Quiki(ListaInf)\n",
    "            A.extend(Lista2)\n",
    "            Lista2=A\n",
    "        else:\n",
    "            #Burbuja y agregar\n",
    "            ListaInf=Burbuja(ListaInf)\n",
    "            ListaInf.extend(Lista2)\n",
    "            Lista2=ListaInf \n",
    "        \n",
    "\n",
    "        return Lista2\n",
    "    else:\n",
    "        Lista2 = Burbuja(Lista2)\n",
    "        #lista corta, aplicar burbuja\n",
    "        return Lista2\n",
    "        \n",
    "\n",
    "print(Quiki(Secuencia))\n",
    "    "
   ]
  },
  {
   "cell_type": "markdown",
   "metadata": {},
   "source": [
    "## Ejemplo de red neuronal\n",
    "\n",
    "Uno de los grandes puntos a favor de Python ha sido su buena recepción como lenguaje de análisis de datos. Lo cual ha permitido que empresas como Google desarrollen su software enfocado a Python."
   ]
  },
  {
   "cell_type": "code",
   "execution_count": 126,
   "metadata": {},
   "outputs": [],
   "source": [
    "from sklearn.datasets import load_boston\n",
    "\n",
    "boston = load_boston()"
   ]
  },
  {
   "cell_type": "code",
   "execution_count": 128,
   "metadata": {},
   "outputs": [
    {
     "name": "stdout",
     "output_type": "stream",
     "text": [
      "Boston House Prices dataset\n",
      "===========================\n",
      "\n",
      "Notes\n",
      "------\n",
      "Data Set Characteristics:  \n",
      "\n",
      "    :Number of Instances: 506 \n",
      "\n",
      "    :Number of Attributes: 13 numeric/categorical predictive\n",
      "    \n",
      "    :Median Value (attribute 14) is usually the target\n",
      "\n",
      "    :Attribute Information (in order):\n",
      "        - CRIM     per capita crime rate by town\n",
      "        - ZN       proportion of residential land zoned for lots over 25,000 sq.ft.\n",
      "        - INDUS    proportion of non-retail business acres per town\n",
      "        - CHAS     Charles River dummy variable (= 1 if tract bounds river; 0 otherwise)\n",
      "        - NOX      nitric oxides concentration (parts per 10 million)\n",
      "        - RM       average number of rooms per dwelling\n",
      "        - AGE      proportion of owner-occupied units built prior to 1940\n",
      "        - DIS      weighted distances to five Boston employment centres\n",
      "        - RAD      index of accessibility to radial highways\n",
      "        - TAX      full-value property-tax rate per $10,000\n",
      "        - PTRATIO  pupil-teacher ratio by town\n",
      "        - B        1000(Bk - 0.63)^2 where Bk is the proportion of blacks by town\n",
      "        - LSTAT    % lower status of the population\n",
      "        - MEDV     Median value of owner-occupied homes in $1000's\n",
      "\n",
      "    :Missing Attribute Values: None\n",
      "\n",
      "    :Creator: Harrison, D. and Rubinfeld, D.L.\n",
      "\n",
      "This is a copy of UCI ML housing dataset.\n",
      "http://archive.ics.uci.edu/ml/datasets/Housing\n",
      "\n",
      "\n",
      "This dataset was taken from the StatLib library which is maintained at Carnegie Mellon University.\n",
      "\n",
      "The Boston house-price data of Harrison, D. and Rubinfeld, D.L. 'Hedonic\n",
      "prices and the demand for clean air', J. Environ. Economics & Management,\n",
      "vol.5, 81-102, 1978.   Used in Belsley, Kuh & Welsch, 'Regression diagnostics\n",
      "...', Wiley, 1980.   N.B. Various transformations are used in the table on\n",
      "pages 244-261 of the latter.\n",
      "\n",
      "The Boston house-price data has been used in many machine learning papers that address regression\n",
      "problems.   \n",
      "     \n",
      "**References**\n",
      "\n",
      "   - Belsley, Kuh & Welsch, 'Regression diagnostics: Identifying Influential Data and Sources of Collinearity', Wiley, 1980. 244-261.\n",
      "   - Quinlan,R. (1993). Combining Instance-Based and Model-Based Learning. In Proceedings on the Tenth International Conference of Machine Learning, 236-243, University of Massachusetts, Amherst. Morgan Kaufmann.\n",
      "   - many more! (see http://archive.ics.uci.edu/ml/datasets/Housing)\n",
      "\n"
     ]
    }
   ],
   "source": [
    "print(boston.DESCR)"
   ]
  },
  {
   "cell_type": "code",
   "execution_count": 129,
   "metadata": {},
   "outputs": [],
   "source": [
    "data = boston.data\n",
    "target = boston.target"
   ]
  },
  {
   "cell_type": "code",
   "execution_count": 130,
   "metadata": {},
   "outputs": [],
   "source": [
    "import numpy as np\n",
    "from sklearn.model_selection import learning_curve\n",
    "from sklearn.model_selection import ShuffleSplit\n",
    "\n",
    "\n",
    "def plot_learning_curve(estimator, title, X, y, ylim=None, cv=None,\n",
    "                        n_jobs=1, train_sizes=np.linspace(.1, 1.0, 5)):\n",
    "    \"\"\"\n",
    "    Generate a simple plot of the test and training learning curve.\n",
    "\n",
    "    Parameters\n",
    "    ----------\n",
    "    estimator : object type that implements the \"fit\" and \"predict\" methods\n",
    "        An object of that type which is cloned for each validation.\n",
    "\n",
    "    title : string\n",
    "        Title for the chart.\n",
    "\n",
    "    X : array-like, shape (n_samples, n_features)\n",
    "        Training vector, where n_samples is the number of samples and\n",
    "        n_features is the number of features.\n",
    "\n",
    "    y : array-like, shape (n_samples) or (n_samples, n_features), optional\n",
    "        Target relative to X for classification or regression;\n",
    "        None for unsupervised learning.\n",
    "\n",
    "    ylim : tuple, shape (ymin, ymax), optional\n",
    "        Defines minimum and maximum yvalues plotted.\n",
    "\n",
    "    cv : int, cross-validation generator or an iterable, optional\n",
    "        Determines the cross-validation splitting strategy.\n",
    "        Possible inputs for cv are:\n",
    "          - None, to use the default 3-fold cross-validation,\n",
    "          - integer, to specify the number of folds.\n",
    "          - An object to be used as a cross-validation generator.\n",
    "          - An iterable yielding train/test splits.\n",
    "\n",
    "        For integer/None inputs, if ``y`` is binary or multiclass,\n",
    "        :class:`StratifiedKFold` used. If the estimator is not a classifier\n",
    "        or if ``y`` is neither binary nor multiclass, :class:`KFold` is used.\n",
    "\n",
    "        Refer :ref:`User Guide <cross_validation>` for the various\n",
    "        cross-validators that can be used here.\n",
    "\n",
    "    n_jobs : integer, optional\n",
    "        Number of jobs to run in parallel (default 1).\n",
    "    \"\"\"\n",
    "    plt.figure()\n",
    "    plt.title(title)\n",
    "    if ylim is not None:\n",
    "        plt.ylim(*ylim)\n",
    "    plt.xlabel(\"Training examples\")\n",
    "    plt.ylabel(\"Score\")\n",
    "    train_sizes, train_scores, test_scores = learning_curve(\n",
    "        estimator, X, y, cv=cv, n_jobs=n_jobs, train_sizes=train_sizes)\n",
    "    train_scores_mean = np.mean(train_scores, axis=1)\n",
    "    train_scores_std = np.std(train_scores, axis=1)\n",
    "    test_scores_mean = np.mean(test_scores, axis=1)\n",
    "    test_scores_std = np.std(test_scores, axis=1)\n",
    "    plt.grid()\n",
    "\n",
    "    plt.fill_between(train_sizes, train_scores_mean - train_scores_std,\n",
    "                     train_scores_mean + train_scores_std, alpha=0.1,\n",
    "                     color=\"r\")\n",
    "    plt.fill_between(train_sizes, test_scores_mean - test_scores_std,\n",
    "                     test_scores_mean + test_scores_std, alpha=0.1, color=\"g\")\n",
    "    plt.plot(train_sizes, train_scores_mean, 'o-', color=\"r\",\n",
    "             label=\"Training score\")\n",
    "    plt.plot(train_sizes, test_scores_mean, 'o-', color=\"g\",\n",
    "             label=\"Cross-validation score\")\n",
    "\n",
    "    plt.legend(loc=\"best\")\n",
    "    return plt"
   ]
  },
  {
   "cell_type": "code",
   "execution_count": 151,
   "metadata": {},
   "outputs": [
    {
     "name": "stdout",
     "output_type": "stream",
     "text": [
      "Iteration 1, loss = 284221.70659528\n",
      "Iteration 2, loss = 2947.87267135\n",
      "Iteration 3, loss = 674.76441668\n",
      "Iteration 4, loss = 183.15873093\n",
      "Iteration 5, loss = 231.34396938\n",
      "Iteration 6, loss = 171.02619204\n",
      "Iteration 7, loss = 72.38620286\n",
      "Iteration 8, loss = 53.09096247\n",
      "Iteration 9, loss = 48.48809426\n",
      "Iteration 10, loss = 40.02283484\n",
      "Iteration 11, loss = 40.57791296\n",
      "Iteration 12, loss = 35.77604084\n",
      "Iteration 13, loss = 35.05833541\n",
      "Iteration 14, loss = 34.04141305\n",
      "Iteration 15, loss = 32.65361615\n",
      "Iteration 16, loss = 30.73391591\n",
      "Iteration 17, loss = 29.63968643\n",
      "Iteration 18, loss = 28.88614038\n",
      "Iteration 19, loss = 28.36615112\n",
      "Iteration 20, loss = 27.32785758\n",
      "Iteration 21, loss = 26.35629476\n",
      "Iteration 22, loss = 25.67856918\n",
      "Iteration 23, loss = 24.60398317\n",
      "Iteration 24, loss = 23.68297907\n",
      "Iteration 25, loss = 22.80783554\n",
      "Iteration 26, loss = 23.07684484\n",
      "Iteration 27, loss = 25.95506350\n",
      "Iteration 28, loss = 22.94123262\n",
      "Training loss did not improve more than tol=0.000100 for two consecutive epochs. Stopping.\n"
     ]
    },
    {
     "data": {
      "text/plain": [
       "MLPRegressor(activation='relu', alpha=0.0001, batch_size='auto', beta_1=0.9,\n",
       "       beta_2=0.999, early_stopping=False, epsilon=1e-08,\n",
       "       hidden_layer_sizes=(100, 100), learning_rate='constant',\n",
       "       learning_rate_init=0.05, max_iter=500, momentum=0.9,\n",
       "       nesterovs_momentum=True, power_t=0.5, random_state=None,\n",
       "       shuffle=True, solver='adam', tol=0.0001, validation_fraction=0.1,\n",
       "       verbose=True, warm_start=False)"
      ]
     },
     "execution_count": 151,
     "metadata": {},
     "output_type": "execute_result"
    }
   ],
   "source": [
    "from sklearn.neural_network import MLPRegressor\n",
    "\n",
    "NeuralNetwork = MLPRegressor(hidden_layer_sizes=(100,100), max_iter=500, verbose=True, learning_rate_init=0.05,\n",
    "                            # solver='lbfgs')\n",
    "                             solver='adam')\n",
    "                            \n",
    "NeuralNetwork.fit(data, target)\n"
   ]
  },
  {
   "cell_type": "code",
   "execution_count": 152,
   "metadata": {},
   "outputs": [
    {
     "data": {
      "image/png": "[encoded data removed]",
      "text/plain": [
       "<matplotlib.figure.Figure at 0x13da7efb4e0>"
      ]
     },
     "metadata": {},
     "output_type": "display_data"
    }
   ],
   "source": [
    "predicted_target = NeuralNetwork.predict(data)\n",
    "plt.figure(figsize=(12,8))\n",
    "plt.plot(target)\n",
    "plt.plot(predicted_target)\n",
    "plt.legend(['Original', 'Red Neuronal'])\n",
    "plt.show()"
   ]
  }
 ],
 "metadata": {
  "kernelspec": {
   "display_name": "Python 3",
   "language": "python",
   "name": "python3"
  },
  "language_info": {
   "codemirror_mode": {
    "name": "ipython",
    "version": 3
   },
   "file_extension": ".py",
   "mimetype": "text/x-python",
   "name": "python",
   "nbconvert_exporter": "python",
   "pygments_lexer": "ipython3",
   "version": "3.6.4"
  }
 },
 "nbformat": 4,
 "nbformat_minor": 2
}
