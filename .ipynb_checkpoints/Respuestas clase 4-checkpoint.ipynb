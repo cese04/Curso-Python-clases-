{
 "cells": [
  {
   "cell_type": "markdown",
   "metadata": {},
   "source": [
    "Soluciones de ejercicios de la clase 4\n",
    "\n",
    "Ejercicios I:\n",
    "---\n"
   ]
  },
  {
   "cell_type": "code",
   "execution_count": null,
   "metadata": {},
   "outputs": [],
   "source": [
    "%matplotlib inline\n",
    "from __future__ import print_function, division\n",
    "import numpy as np\n",
    "import matplotlib.pyplot as plt\n",
    "plt.style.use('default')\n",
    "# Libreria de scipy para procesamiento de señales\n",
    "from scipy import signal\n",
    "\n",
    "from scipy.io import wavfile\n",
    "from IPython.display import Audio\n",
    "\n",
    "import pywt\n",
    "\n",
    "from scipy import ndimage\n",
    "\n",
    "from matplotlib import colors\n",
    "\n",
    "import ipywidgets as widgets \n",
    "from IPython.display import display"
   ]
  },
  {
   "cell_type": "code",
   "execution_count": null,
   "metadata": {},
   "outputs": [],
   "source": [
    "fsA = [5,10,100]\n",
    "T = 1\n",
    "f = 5\n",
    "for fs in fsA:\n",
    "    t = np.linspace(0, T, fs)\n",
    "    senoidal = np.sin(2 * np.pi * f * t)\n",
    "    diente = signal.sawtooth(2 * np.pi * f * t, width=0.5)\n",
    "    cuadrada = signal.square(2 * np.pi * f * t, duty=0.5)\n",
    "\n",
    "    signals = (senoidal, diente, cuadrada)\n",
    "    nombres = ('senoidal', 'diente','cuadrada')\n",
    "    plt.figure()\n",
    "    for i, c in enumerate(signals):\n",
    "        plt.subplot(len(signals), 1, i+1)\n",
    "        plt.title(nombres[i])\n",
    "        plt.plot(t, c)"
   ]
  },
  {
   "cell_type": "code",
   "execution_count": null,
   "metadata": {},
   "outputs": [],
   "source": [
    "for fs in fsA:\n",
    "    t = np.linspace(0, T, fs)\n",
    "    s = np.sin(2 * np.pi * f * t)\n",
    "    \n",
    "    plt.figure()\n",
    "    ff = np.fft.fft(s-s.mean())\n",
    "    plt.subplots()\n",
    "    plt.stem(np.abs(ff[:int(len(ff)/2)]))\n",
    "    plt.title('Magnitud')\n",
    "    plt.subplots()\n",
    "    plt.stem(np.angle(ff[:int(len(ff)/2)]))\n",
    "    plt.title('Fase')"
   ]
  },
  {
   "cell_type": "code",
   "execution_count": null,
   "metadata": {},
   "outputs": [],
   "source": [
    "fs, senal = wavfile.read('another3.wav')\n",
    "Audio(data=senal, rate=fs)"
   ]
  },
  {
   "cell_type": "code",
   "execution_count": null,
   "metadata": {},
   "outputs": [],
   "source": [
    "for i in np.linspace(10,1000,5):\n",
    "    plt.figure()\n",
    "    plt.title(i)\n",
    "    psd = plt.psd(senal, detrend='mean',Fs=fs,NFFT=np.int(i))"
   ]
  },
  {
   "cell_type": "code",
   "execution_count": null,
   "metadata": {},
   "outputs": [],
   "source": [
    "for i in np.linspace(10,1000,2):\n",
    "    plt.figure()\n",
    "    ff = np.fft.fft(senal-senal.mean(),n=np.int(i))\n",
    "    plt.stem(np.abs(ff[:int(len(ff)/2)]))\n",
    "    plt.title('Magnitud')"
   ]
  },
  {
   "cell_type": "code",
   "execution_count": null,
   "metadata": {},
   "outputs": [],
   "source": [
    "plt.figure()\n",
    "psd = plt.psd(senal, detrend='mean',Fs=fs)\n",
    "\n"
   ]
  },
  {
   "cell_type": "code",
   "execution_count": null,
   "metadata": {},
   "outputs": [],
   "source": [
    "plt.figure()\n",
    "ff = np.fft.fft(senal-senal.mean(),n=1000)\n",
    "w  = np.fft.fftfreq(n=1000,d=1/fs)\n",
    "plt.stem(w[:int(len(w)/2)],np.abs(ff[:int(len(ff)/2)]))\n",
    "plt.axvline(4000,color='green')\n",
    "plt.axvline(5000,color='green')\n",
    "plt.axvline(8000,color='green')\n",
    "#Frecuencias a retirar aproximadas "
   ]
  },
  {
   "cell_type": "code",
   "execution_count": null,
   "metadata": {},
   "outputs": [],
   "source": [
    "coeffs = pywt.wavedec(senal, 'db2', level=3)\n",
    "for i, c in enumerate(coeffs):\n",
    "    plt.subplot(len(coeffs), 1, int(i+1))\n",
    "    plt.plot(c)"
   ]
  },
  {
   "cell_type": "code",
   "execution_count": null,
   "metadata": {},
   "outputs": [],
   "source": [
    "order = 10\n",
    "freq = 60\n",
    "rs1 = 0.01 #Colocar un riso bajo mejora el comportamiento de la banda pasante del filtro eliptico\n",
    "rs2 = 60\n",
    "b, a = signal.ellip(order, rs1, rs2, freq, analog=True, btype='high') \n",
    "plt.figure()\n",
    "w, h = signal.freqs(b, a, worN=1000)\n",
    "plt.semilogx(w, 20 * np.log10(abs(h)))\n",
    "plt.ylabel('Amplitud [dB]')\n",
    "plt.xlabel('Frecuencia [Hz]')\n",
    "plt.grid(which='both', axis='both')\n",
    "plt.axvline(freq,color='black',alpha=0.7)\n",
    "\n",
    "plt.figure()\n",
    "plt.semilogx(w, np.angle(h))\n",
    "plt.ylabel('Fase [°]')\n",
    "plt.xlabel('Frecuencia [Hz]')\n",
    "plt.grid(which='both', axis='both')\n",
    "plt.axvline(freq,color='black',alpha=0.7)\n",
    "\n",
    "\n",
    "    "
   ]
  },
  {
   "cell_type": "code",
   "execution_count": null,
   "metadata": {},
   "outputs": [],
   "source": [
    "order = 10\n",
    "freq = 60\n",
    "rs1 = 0.01 #Colocar un riso bajo mejora el comportamiento de la banda pasante del filtro eliptico\n",
    "rs2 = 60\n",
    "fs=600     #Al menos 10 veces mayor\n",
    "f0=freq/(fs/2)\n",
    "B, A = signal.ellip(order, rs1, rs2, f0, analog=False,btype='high') \n",
    "plt.figure()\n",
    "w, h = signal.freqz(B, A, worN=1000)  #freqz puesto que es un filtro digital, analogico\n",
    "#funciona con la transformada Z en lugar de con la transformada de laplace (espacio en unidades S)\n",
    "# freqz = Z, freqs = S\n",
    "\n",
    "w = w*fs/(2*np.pi)       #Normalización del espacio de frecuencia usado para probar el filtro\n",
    "plt.semilogx(w, 20 * np.log10(abs(h)))\n",
    "plt.ylabel('Amplitud [dB]')\n",
    "plt.xlabel('Frecuencia [Hz]')\n",
    "plt.grid(which='both', axis='both')\n",
    "plt.axvline(freq,color='black',alpha=0.7)\n",
    "\n",
    "plt.figure()\n",
    "plt.semilogx(w, np.angle(h))\n",
    "plt.ylabel('Fase [°]')\n",
    "plt.xlabel('Frecuencia [Hz]')\n",
    "plt.grid(which='both', axis='both')\n",
    "plt.axvline(freq,color='black',alpha=0.7)\n"
   ]
  },
  {
   "cell_type": "code",
   "execution_count": null,
   "metadata": {},
   "outputs": [],
   "source": [
    "print(\"Valores del filtro 'analogico':\\n\",a,' \\n',b)\n",
    "print(\"Longitud del númerador:\\n\",len(a),\"\\nLongitud del denominador:\\n\",len(b) )\n",
    "print(\"Valores del filtro 'digital':\\n\",A,' \\n',B)\n",
    "print(\"Longitud del númerador:\\n\",len(a),\"\\nLongitud del denominador:\\n\",len(b) )"
   ]
  },
  {
   "cell_type": "code",
   "execution_count": null,
   "metadata": {},
   "outputs": [],
   "source": [
    "ima = plt.imread('Class3D/canasta.jpg')\n",
    "plt.figure(figsize=(12,8))\n",
    "plt.imshow(ima)\n",
    "plt.axis('off')\n",
    "plt.title('Imagen original')\n",
    "\n",
    "ima_hsv = colors.rgb_to_hsv(ima)\n",
    "plt.figure(figsize=(12,8))\n",
    "plt.imshow(ima_hsv)\n",
    "plt.axis('off')\n",
    "plt.title('Imagen HSV')\n"
   ]
  },
  {
   "cell_type": "code",
   "execution_count": null,
   "metadata": {},
   "outputs": [],
   "source": [
    "ima_hsv2=ima_hsv;"
   ]
  },
  {
   "cell_type": "code",
   "execution_count": null,
   "metadata": {},
   "outputs": [],
   "source": [
    "a=ima_hsv2[:,:,0]\n",
    "ima_hsv2[:,:,0]=ima_hsv2[:,:,0]/a.max() #Ya que deben estar normalizados todos sus valores entre 0 y 1\n",
    "a=ima_hsv2[:,:,1]\n",
    "ima_hsv2[:,:,1]=ima_hsv2[:,:,1]/a.max() #Ya que deben estar normalizados todos sus valores entre 0 y 1\n",
    "a=ima_hsv2[:,:,2]\n",
    "ima_hsv2[:,:,2]=ima_hsv2[:,:,2]/a.max() #Ya que deben estar normalizados todos sus valores entre 0 y 1\n"
   ]
  },
  {
   "cell_type": "code",
   "execution_count": null,
   "metadata": {},
   "outputs": [],
   "source": [
    "def HSV_variation(tono):\n",
    "    plt.figure(1, figsize=(12,8))\n",
    "    ima_hsv2[:,:,0]=tono/33.0\n",
    "    ima_rgb2 = colors.hsv_to_rgb(ima_hsv2)\n",
    "    plt.imshow(ima_rgb2)\n",
    "    plt.axis('off')\n",
    "    plt.show()\n",
    "\n",
    "interactive_plot = widgets.interactive(HSV_variation, tono=(0,33))\n",
    "output=interactive_plot.children[-1]\n",
    "interactive_plot\n",
    "#Probar valores 0, 11, 22, 33"
   ]
  },
  {
   "cell_type": "code",
   "execution_count": null,
   "metadata": {},
   "outputs": [],
   "source": [
    "plt.figure()\n",
    "plt.title('Complemento del tono de hsv')\n",
    "ima_hsv = colors.rgb_to_hsv(ima)\n",
    "ima_hsv2[:,:,0]=np.mod(ima_hsv[:,:,0]+0.5,1) #Rotación de 180° en el disco de color: 0 va a 0.5 y 0.5 va a 0\n",
    "ima_rgb2 = colors.hsv_to_rgb(ima_hsv2)\n",
    "plt.imshow(ima_rgb2)\n",
    "plt.axis('off')\n",
    "plt.show()"
   ]
  },
  {
   "cell_type": "code",
   "execution_count": null,
   "metadata": {},
   "outputs": [],
   "source": [
    "from scipy import ndimage\n",
    "from skimage import exposure\n",
    "\n",
    "ima_g = ndimage.imread('Class3D/canasta.jpg', flatten=True)\n",
    "ima_eq = exposure.equalize_hist(ima_g) * 255\n",
    "k_sobel_v = [[1, 2, 1],\n",
    "             [0, 0, 0],\n",
    "             [-1, -2, -1]]\n",
    "k_sobel_h = [[1, 0, -1],\n",
    "             [2, 0, -2],\n",
    "             [1, 0, -1]]\n",
    "\n",
    "bordes1 = ndimage.convolve(ima_eq, k_sobel_v, output='int32')\n",
    "bordes2 = ndimage.convolve(ima_g, k_sobel_h, output='int32')\n",
    "\n",
    "\n",
    "bordes=np.sqrt(bordes1**2+bordes2**2)\n",
    "plt.figure()\n",
    "plt.imshow(abs(bordes), cmap='gray',vmin=0, vmax=255)\n",
    "plt.axis('off')\n",
    "\n",
    "plt.figure()\n",
    "plt.imshow(abs(bordes)+ima_g,cmap='gray',vmin=0,vmax=255)\n",
    "plt.axis('off')\n",
    "\n",
    "plt.figure()\n",
    "plt.imshow(ima_g,cmap='gray',vmin=0,vmax=255)\n",
    "plt.axis('off')"
   ]
  },
  {
   "cell_type": "markdown",
   "metadata": {},
   "source": [
    "# Ejercicios parte II:\n",
    "---\n"
   ]
  },
  {
   "cell_type": "markdown",
   "metadata": {},
   "source": [
    "#### Retiraremos las frecuencias de 4K, 5K y 8K Hz ya que son aproximadamente las frecuencias que corresponden al ruído.\n",
    "El filtro fue ajustado mediante la repetición de variar el filtro"
   ]
  },
  {
   "cell_type": "code",
   "execution_count": null,
   "metadata": {},
   "outputs": [],
   "source": [
    "fs, senal = wavfile.read('another3.wav')\n",
    "#Diseño de filtros\n",
    "order = 8\n",
    "freq  = 3500\n",
    "rs1   = 0.01 #Colocar un riso bajo mejora el comportamiento de la banda pasante del filtro eliptico\n",
    "rs2   = 60\n",
    "fs    = 44100\n",
    "b, a = signal.ellip(order, rs1, rs2, freq/(fs/2)) \n",
    "plt.figure()\n",
    "w, h = signal.freqz(b, a,1000)\n",
    "plt.semilogx(w*fs/(2*np.pi), 20 * np.log10(abs(h)))\n",
    "plt.ylabel('Amplitud [dB]')\n",
    "plt.xlabel('Frecuencia [Hz]')\n",
    "plt.grid(which='both', axis='both')\n",
    "plt.axvline(freq,color='black',alpha=0.7)\n",
    "\n",
    "plt.figure()\n",
    "plt.semilogx(w*fs/(2*np.pi), np.angle(h))\n",
    "plt.ylabel('Fase [°]')\n",
    "plt.xlabel('Frecuencia [Hz]')\n",
    "plt.grid(which='both', axis='both')\n",
    "plt.axvline(freq,color='black',alpha=0.7)\n"
   ]
  },
  {
   "cell_type": "code",
   "execution_count": null,
   "metadata": {},
   "outputs": [],
   "source": [
    "fs, senal = wavfile.read('another3.wav')\n",
    "#Diseño de filtros\n",
    "order = 8\n",
    "freq1  = 4000-500\n",
    "freq2  = 8000+800\n",
    "Wid   = 5\n",
    "B, A = signal.butter(order, [freq1/(fs/2),freq2/(fs/2)], btype='bandstop') \n",
    "plt.figure()\n",
    "w, h = signal.freqz(B, A, worN=1000)\n",
    "plt.semilogx(w*fs/(2*np.pi), 20 * np.log10(abs(h)))\n",
    "plt.ylabel('Amplitud [dB]')\n",
    "plt.xlabel('Frecuencia [Hz]')\n",
    "plt.grid(which='both', axis='both')\n",
    "plt.axvline(freq1,color='black',alpha=0.7)\n",
    "plt.axvline(freq2,color='black',alpha=0.7)\n",
    "\n",
    "plt.figure()\n",
    "plt.semilogx(w*fs/(2*np.pi), np.angle(h))\n",
    "plt.ylabel('Fase [°]')\n",
    "plt.xlabel('Frecuencia [Hz]')\n",
    "plt.grid(which='both', axis='both')\n",
    "plt.axvline(freq1,color='black',alpha=0.7)\n",
    "plt.axvline(freq2,color='black',alpha=0.7)\n"
   ]
  },
  {
   "cell_type": "code",
   "execution_count": null,
   "metadata": {},
   "outputs": [],
   "source": [
    "# Filtros butter notch\n",
    "fs, senal = wavfile.read('another3.wav')\n",
    "#Diseño de filtros\n",
    "order = 2\n",
    "freq1  = 4000\n",
    "freq2  = 5000\n",
    "freq3  = 8000\n",
    "Wid    = 200\n",
    "Nb1, Na1 = signal.butter(order, [(freq1-Wid)/(fs/2),(freq1+Wid)/(fs/2)], 'bandstop') \n",
    "Nb2, Na2 = signal.butter(order, [(freq2-Wid)/(fs/2),(freq2+Wid)/(fs/2)], 'bandstop') \n",
    "Nb3, Na3 = signal.butter(order, [(freq3-Wid)/(fs/2),(freq3+Wid)/(fs/2)], 'bandstop') \n",
    "\n",
    "plt.figure()\n",
    "w, h = signal.freqz(Nb1, Na1, worN=1000)\n",
    "plt.semilogx(w*fs/(2*np.pi), 20 * np.log10(abs(h)))\n",
    "plt.ylabel('Amplitud [dB]')\n",
    "plt.xlabel('Frecuencia [Hz]')\n",
    "plt.grid(which='both', axis='both')\n",
    "\n",
    "plt.figure()\n",
    "plt.semilogx(w*fs/(2*np.pi), np.angle(h))\n",
    "plt.ylabel('Fase [°]')\n",
    "plt.xlabel('Frecuencia [Hz]')\n",
    "plt.grid(which='both', axis='both')"
   ]
  },
  {
   "cell_type": "code",
   "execution_count": null,
   "metadata": {},
   "outputs": [],
   "source": [
    "fs, senal = wavfile.read('another3.wav')\n",
    "plt.plot(senal)\n",
    "#Aplicación de limpieza con butterworth rechazabanda\n",
    "senal1 = signal.filtfilt(B, A, senal)\n",
    "plt.figure()\n",
    "ff = np.fft.fft(senal1-senal1.mean(),n=1000)\n",
    "w  = np.fft.fftfreq(n=1000,d=1/fs)\n",
    "plt.stem(w[:int(len(w)/2)],np.abs(ff[:int(len(ff)/2)]))\n",
    "\n",
    "#Platillos alterados\n",
    "Audio(data=senal1, rate=fs)"
   ]
  },
  {
   "cell_type": "code",
   "execution_count": null,
   "metadata": {},
   "outputs": [],
   "source": [
    "fs, senal = wavfile.read('another3.wav')\n",
    "plt.plot(senal)\n",
    "#Aplicación de limpieza con eliptico pasa bajos\n",
    "senal1 = signal.filtfilt(b, a, senal)\n",
    "plt.figure()\n",
    "ff = np.fft.fft(senal1-senal1.mean(),n=1000)\n",
    "w  = np.fft.fftfreq(n=1000,d=1/fs)\n",
    "plt.stem(w[:int(len(w)/2)],np.abs(ff[:int(len(ff)/2)]))\n",
    "\n",
    "#Discos opagados y agravados *\n",
    "Audio(data=senal1, rate=fs)"
   ]
  },
  {
   "cell_type": "code",
   "execution_count": null,
   "metadata": {},
   "outputs": [],
   "source": [
    "#audio original para comparar\n",
    "fs, senal = wavfile.read('Another.wav')\n",
    "Audio(data=Out, rate=fs)"
   ]
  },
  {
   "cell_type": "code",
   "execution_count": null,
   "metadata": {},
   "outputs": [],
   "source": [
    "#audio limpio\n",
    "fs, senal = wavfile.read('another3.wav')\n",
    "plt.plot(senal)\n",
    "#Aplicación de limpieza con butterworth rechazabanda\n",
    "senal1 = signal.filtfilt(Nb1, Na1, senal)\n",
    "senal2 = signal.filtfilt(Nb2, Na2, senal1)\n",
    "senal3 = signal.filtfilt(Nb3, Na3, senal2)\n",
    "\n",
    "\n",
    "Out=senal3\n",
    "plt.figure()\n",
    "ff = np.fft.fft(Out-Out.mean(),n=1000)\n",
    "w  = np.fft.fftfreq(n=1000,d=1/fs)\n",
    "plt.stem(w[:int(len(w)/2)],np.abs(ff[:int(len(ff)/2)]))\n",
    "\n",
    "\n",
    "Audio(data=Out, rate=fs)"
   ]
  },
  {
   "cell_type": "code",
   "execution_count": null,
   "metadata": {},
   "outputs": [],
   "source": [
    "wavfile.write('Another_limpio.wav',fs,Out)\n"
   ]
  },
  {
   "cell_type": "code",
   "execution_count": null,
   "metadata": {},
   "outputs": [],
   "source": [
    "#Solución espectograma"
   ]
  },
  {
   "cell_type": "code",
   "execution_count": null,
   "metadata": {},
   "outputs": [],
   "source": [
    "#Solución imagen*"
   ]
  }
 ],
 "metadata": {
  "kernelspec": {
   "display_name": "Python 3",
   "language": "python",
   "name": "python3"
  },
  "language_info": {
   "codemirror_mode": {
    "name": "ipython",
    "version": 3
   },
   "file_extension": ".py",
   "mimetype": "text/x-python",
   "name": "python",
   "nbconvert_exporter": "python",
   "pygments_lexer": "ipython3",
   "version": "3.6.3"
  }
 },
 "nbformat": 4,
 "nbformat_minor": 2
}
