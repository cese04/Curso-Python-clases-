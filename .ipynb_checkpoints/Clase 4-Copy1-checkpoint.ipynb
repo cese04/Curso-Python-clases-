{
 "cells": [
  {
   "cell_type": "markdown",
   "metadata": {},
   "source": [
    "# Clase 4: Procesamiento de señales e imágenes\n",
    "----"
   ]
  },
  {
   "cell_type": "markdown",
   "metadata": {},
   "source": [
    "En el campo de la ciencia de datos es necesario caracterizar a lo que se está estudiando (libros, datos biomédicos, datos financieros etc.). Para esto se realizan mediciones de propiedades sobre cada observación. Existen dos tipos de datos para representar estas observaciones, estos son:\n",
    "\n",
    "* Datos estructurados\n",
    "    * Sensores\n",
    "    * Precios\n",
    "    * Edad\n",
    "    * Género\n",
    "    * Dimensiones\n",
    "* Datos no estructurados\n",
    "    * Texto\n",
    "    * Señales\n",
    "    * Imágenes\n",
    "\n",
    "Para poder analizar los datos no estructurados es necesario primero realizar un procesamiento para poder reducir los datos, así como filtrar poible ruido y elementos no necesarios o mejorar la calidad de los mismos. Finalmente se realiza la extracción de características."
   ]
  },
  {
   "cell_type": "markdown",
   "metadata": {},
   "source": [
    "## Señales\n",
    "\n",
    "Las señales son mediciones variantes en el tiempo de algún fenómeno a estudiar. Es decir representan una variable cuyo valor no es constante y la información de la misma se encuentra en el comportamiento de esta.\n",
    "\n",
    "Las señales se pueden catalogar en dos grupos, los cuales son:\n",
    "* Señales determinísticas: Están definidas por una función en el tiempo (e.g. senoidal, triangular).\n",
    "* Señales estocásticas: Son resultado de procesos complejos (e.g. sonido, ECG)."
   ]
  },
  {
   "cell_type": "code",
   "execution_count": null,
   "metadata": {},
   "outputs": [],
   "source": [
    "%matplotlib inline\n",
    "from __future__ import print_function, division\n",
    "import numpy as np\n",
    "import matplotlib.pyplot as plt\n",
    "plt.style.use('default')\n",
    "# Libreria de scipy para procesamiento de señales\n",
    "from scipy import signal\n",
    "\n",
    "# Frecuencia de muestreo (Hz)\n",
    "fs = 100000 \n",
    "# Duración total (segundos)\n",
    "T = 1\n",
    "# Frecuencia\n",
    "f = 5\n",
    "\n",
    "t = np.linspace(0, T, fs)\n",
    "senoidal = np.sin(2 * np.pi * f * t)\n",
    "diente = signal.sawtooth(2 * np.pi * f * t, width=0.5)\n",
    "cuadrada = signal.square(2 * np.pi * f * t, duty=0.5)\n",
    "\n",
    "signals = (senoidal, diente, cuadrada)\n",
    "nombres = ('senoidal', 'diente','cuadrada')\n",
    "for i, c in enumerate(signals):\n",
    "    plt.subplot(len(signals), 1, i+1)\n",
    "    plt.title(nombres[i])\n",
    "    plt.plot(t, c)"
   ]
  },
  {
   "cell_type": "code",
   "execution_count": null,
   "metadata": {},
   "outputs": [],
   "source": [
    "Y = np.random.randn(1000)\n",
    "plt.plot(Y)\n",
    "plt.title('Ruido gaussiano')"
   ]
  },
  {
   "cell_type": "markdown",
   "metadata": {},
   "source": [
    "## Analisis de tendencias\n",
    "Otros tipos de mediciones pueden ser transformados como señales cuando se tiene una medición en el tiempo de estos para así obtener características de los mismos."
   ]
  },
  {
   "cell_type": "code",
   "execution_count": null,
   "metadata": {},
   "outputs": [],
   "source": [
    "import pandas as pd\n",
    "df = pd.read_csv('data/international-airline-passengers.csv')\n",
    "df['Month'] = pd.to_datetime(df['Month'])"
   ]
  },
  {
   "cell_type": "code",
   "execution_count": null,
   "metadata": {},
   "outputs": [],
   "source": [
    "df.head()"
   ]
  },
  {
   "cell_type": "code",
   "execution_count": null,
   "metadata": {},
   "outputs": [],
   "source": [
    "# Se toma el valor de pasajeros por mes para cada periodo \n",
    "ps = df['Thousand Passengers']"
   ]
  },
  {
   "cell_type": "code",
   "execution_count": null,
   "metadata": {},
   "outputs": [],
   "source": [
    "df.plot(x='Month')"
   ]
  },
  {
   "cell_type": "code",
   "execution_count": null,
   "metadata": {},
   "outputs": [],
   "source": [
    "# Transformada rapida de Fourier\n",
    "ff = np.fft.fft(ps-ps.mean())\n",
    "plt.subplots()\n",
    "plt.stem(np.abs(ff[:int(len(ff)/2)]))\n",
    "plt.title('Magnitud')\n",
    "plt.subplots()\n",
    "plt.stem(np.angle(ff[:int(len(ff)/2)]))\n",
    "plt.title('Fase')"
   ]
  },
  {
   "cell_type": "code",
   "execution_count": null,
   "metadata": {},
   "outputs": [],
   "source": [
    "# Power Spectral Density\n",
    "psd = plt.psd(ps,\n",
    "             detrend='mean',\n",
    "             )"
   ]
  },
  {
   "cell_type": "code",
   "execution_count": null,
   "metadata": {},
   "outputs": [],
   "source": [
    "# Transformada continua wavelet\n",
    "b = 0.5\n",
    "w = 5\n",
    "width = np.arange(b,w)\n",
    "psW = signal.cwt(ps-ps.mean(), signal.ricker, width)\n",
    "\n",
    "# Mostrar espectrograma\n",
    "plt.imshow(psW, extent=[-1, 1, w, b], aspect='auto',\n",
    "            vmax=abs(psW).max(), vmin=-abs(psW).max())"
   ]
  },
  {
   "cell_type": "markdown",
   "metadata": {},
   "source": [
    "### Transformada Discreta Wavelet \n",
    "\n",
    "La transformada discreta wavelet (DWT) permite usar un banco de filtros dependiente de una _mother wavelet_ para obtener la energía de la señal en momentos específicos de la misma y en diferentes rangos de frecuencia.\n",
    "\n",
    "Los datos resultantes se llaman aproximación y detalles, donde la aproximación contiene los datos de menor frecuencia y los detalles de mayo frecuencia sucesivamente. "
   ]
  },
  {
   "cell_type": "code",
   "execution_count": null,
   "metadata": {},
   "outputs": [],
   "source": [
    "# Libreria de wavelets\n",
    "import pywt\n",
    "# Descomposición de 2 niveles\n",
    "(cA, cD) = pywt.dwt(ps, 'db2')"
   ]
  },
  {
   "cell_type": "code",
   "execution_count": null,
   "metadata": {},
   "outputs": [],
   "source": [
    "print(np.shape(cA))\n",
    "print(np.shape(cD))"
   ]
  },
  {
   "cell_type": "code",
   "execution_count": null,
   "metadata": {},
   "outputs": [],
   "source": [
    "titulos = ['Aproximación', 'Detalle']\n",
    "for i, c in enumerate((cA, cD)):\n",
    "    plt.subplot(2, 1, int(i+1))\n",
    "    plt.title(titulos[i])\n",
    "    plt.plot(c)"
   ]
  },
  {
   "cell_type": "code",
   "execution_count": null,
   "metadata": {},
   "outputs": [],
   "source": [
    "# Descomposicion de mas niveles\n",
    "coeffs = pywt.wavedec(ps, 'db2', level=3)\n",
    "print(np.shape(coeffs))"
   ]
  },
  {
   "cell_type": "code",
   "execution_count": null,
   "metadata": {},
   "outputs": [],
   "source": [
    "plt.figure(figsize=(12,8))\n",
    "titulos = ['Aproximación', 'Detalle 3', 'Detalle 2', 'Detalle 1']\n",
    "for i, c in enumerate(coeffs):\n",
    "    plt.subplot(len(coeffs), 1, i+1)\n",
    "    plt.title(titulos[i])\n",
    "    plt.plot(c)\n",
    "    "
   ]
  },
  {
   "cell_type": "code",
   "execution_count": null,
   "metadata": {},
   "outputs": [],
   "source": [
    "# Eliminar las ultimas componentes\n",
    "coeffs[3] *= 0\n",
    "# Reconstruir la señal con wavrec\n",
    "ps_rec = pywt.waverec(coeffs, 'db2')\n",
    "plt.plot(ps_rec)"
   ]
  },
  {
   "cell_type": "markdown",
   "metadata": {
    "collapsed": true
   },
   "source": [
    "## Filtrado\n",
    "\n",
    "La medición de una señal puede ser alterada debido a ruido proveniente de diversas fuentes (otras señales biológicas, estática, linea de alimentación (60 Hz)). Es por esto que se han desarrollado métodos para atenuar estas componentes no deseadas.\n",
    "\n",
    "Un filtro en frecuencia es una función lineal no variante en el tiempo que posee una respuesta dependiente de la frecuencia con la cual entra la señal. La respuesta del filtro a la frecuencia dependerá de:\n",
    "\n",
    "* Tipo de filtro:\n",
    "    * IIR: Posee feedback, pocos componentes, fase no lineal\n",
    "    * FIR: No requiere feedback, más componentes, fase lineal\n",
    "* Función:\n",
    "    * Pasa-bajas: Atenua las componentes de la señal con frecuencias después de su frecuencia de corte.\n",
    "    * Pasa-altas: Atenua las componentes de la señal con frecuencias antes de su frecuencia de corte.\n",
    "    * Pasa-banda: Atenua las componentes fuera de su banda de paso.\n",
    "* Orden:\n",
    "    * El orden de la atenuación del filtro. (Nota: Un filtro de alto orden puede eliminar las componentes fuera del rango, pero puede alterar la forma de la señal que se desea analizar)"
   ]
  },
  {
   "cell_type": "markdown",
   "metadata": {},
   "source": [
    "Algunos de los tipos de filtros disponibles para Python en Scipy son los siguientes:\n",
    "* IIR\n",
    "    * Butterworth\n",
    "    * Chebyshev I\n",
    "    * Chebyshev II\n",
    "    * Elíptico\n",
    "* FIR\n",
    "    * Mínimos cuadrados\n",
    "    * Ventana"
   ]
  },
  {
   "cell_type": "code",
   "execution_count": null,
   "metadata": {},
   "outputs": [],
   "source": [
    "order = 4\n",
    "freq = 100\n",
    "rs1 = 5\n",
    "rs2 = 40\n",
    "filters = [signal.butter(order, freq, analog=True),\n",
    "           signal.cheby1(order, rs1, freq, analog=True),\n",
    "           signal.cheby2(order, rs2, freq, analog=True),\n",
    "           signal.ellip(order, rs1, rs2, freq, analog=True)]\n",
    "titles = ['Buttterworth',\n",
    "         'Chebyshev 1',\n",
    "         'Chebyshev 2',\n",
    "         'Elíptico']\n",
    "\n",
    "plt.figure(figsize=(12,8))\n",
    "for i, c in enumerate(filters):\n",
    "    plt.subplot(2, 2, i+1)\n",
    "    b, a = filters[i]\n",
    "    w, h = signal.freqs(b, a, worN=1000)\n",
    "    plt.semilogx(w, 20 * np.log10(abs(h)))\n",
    "    #plt.xlabel('Frequency [radians / second]')\n",
    "    plt.ylabel('Amplitude [dB]')\n",
    "    #plt.margins(0, 0.1)\n",
    "    plt.xlim((10, 1000)) \n",
    "    plt.grid(which='both', axis='both')\n",
    "    plt.axvline(100, color='green') # cutoff frequency\n",
    "    plt.axhline(-rs1, color='green') # rp\n",
    "    plt.axhline(-rs2, color='green') # rp\n",
    "    plt.title(titles[i])\n",
    "\n",
    "plt.show()\n",
    "    \n"
   ]
  },
  {
   "cell_type": "code",
   "execution_count": null,
   "metadata": {},
   "outputs": [],
   "source": [
    "sn1 = pd.read_csv('Senales/100.csv')\n",
    "sn1.describe()"
   ]
  },
  {
   "cell_type": "code",
   "execution_count": null,
   "metadata": {},
   "outputs": [],
   "source": [
    "# Mostrar parte de la señal\n",
    "fs = 360\n",
    "T = 2\n",
    "t = np.linspace(0, 2-1/fs, fs * T)\n",
    "sn1_1 = sn1.as_matrix()\n",
    "# Seleccionar un canal\n",
    "sn1_1 = sn1_1[:,2]\n",
    "sn1_1\n",
    "plt.plot(t, sn1_1[:len(t)])"
   ]
  },
  {
   "cell_type": "code",
   "execution_count": null,
   "metadata": {},
   "outputs": [],
   "source": [
    "# Visualizar frecuencias con PSD\n",
    "psd = plt.psd(sn1_1, \n",
    "              Fs=fs)"
   ]
  },
  {
   "cell_type": "code",
   "execution_count": null,
   "metadata": {},
   "outputs": [],
   "source": [
    "# Crear filtro pasa-baja\n",
    "b, a = signal.butter(4, 70/(fs/2))"
   ]
  },
  {
   "cell_type": "code",
   "execution_count": null,
   "metadata": {},
   "outputs": [],
   "source": [
    "# Filtrar señal \n",
    "pasa_baja = signal.filtfilt(b, a, sn1_1)\n",
    "plt.subplot(211)\n",
    "plt.plot(t, pasa_baja[:len(t)])\n",
    "plt.subplot(212)\n",
    "psd = plt.psd(pasa_baja, Fs=fs)"
   ]
  },
  {
   "cell_type": "code",
   "execution_count": null,
   "metadata": {},
   "outputs": [],
   "source": [
    "# Pasa-alta\n",
    "b, a = signal.butter(2, 0.15/(fs/2), 'high')\n",
    "pasa_alta = signal.filtfilt(b, a, sn1_1)\n",
    "plt.subplot(211)\n",
    "plt.plot(t, pasa_alta[:len(t)])\n",
    "plt.subplot(212)\n",
    "psd = plt.psd(pasa_alta, Fs=fs)"
   ]
  },
  {
   "cell_type": "code",
   "execution_count": null,
   "metadata": {},
   "outputs": [],
   "source": [
    "# Pasa-banda\n",
    "b, a = signal.butter(4, [0.15/(fs/2), 70/(fs/2)], 'bandpass')\n",
    "pasa_banda = signal.filtfilt(b, a, sn1_1)\n",
    "plt.subplot(211)\n",
    "plt.plot(t, pasa_banda[:len(t)])\n",
    "plt.subplot(212)\n",
    "psd = plt.psd(pasa_banda, Fs=fs)"
   ]
  },
  {
   "cell_type": "code",
   "execution_count": null,
   "metadata": {},
   "outputs": [],
   "source": [
    "# Filtro Notch\n",
    "b, a = signal.butter(4, [59.8/(fs/2), 60.2/(fs/2)], 'bandstop')\n",
    "rechaza_banda = signal.filtfilt(b, a, pasa_banda)\n",
    "plt.subplot(211)\n",
    "plt.plot(t, rechaza_banda[:len(t)])\n",
    "plt.subplot(212)\n",
    "psd = plt.psd(rechaza_banda,\n",
    "       Fs=fs)"
   ]
  },
  {
   "cell_type": "code",
   "execution_count": null,
   "metadata": {
    "scrolled": true
   },
   "outputs": [],
   "source": [
    "titulos = ['Original', 'Pasa Baja', 'Pasa Alta', 'Pasa Banda', 'Pasa Banda + Rechaza Banda']\n",
    "senales =(sn1_1, pasa_baja, pasa_alta, pasa_banda, rechaza_banda)\n",
    "plt.figure(figsize=(18,12))\n",
    "for i, c in enumerate(senales):\n",
    "    plt.subplot(3, 2, i + 1)\n",
    "    plt.title(titulos[i])\n",
    "    plt.plot(t, c[:len(t)])"
   ]
  },
  {
   "cell_type": "markdown",
   "metadata": {},
   "source": [
    "# Filtro estadístico\n",
    "La función para los nuevos valores está dada por una función estadística que toma muestras de la señal e intenta crear un estimado de la señal sin ruido."
   ]
  },
  {
   "cell_type": "code",
   "execution_count": null,
   "metadata": {},
   "outputs": [],
   "source": [
    "# Filtro media de 7 muestras\n",
    "med = signal.medfilt(sn1_1, 7)\n",
    "plt.plot(t, med[:len(t)] - sn1_1.mean())\n",
    "plt.title('Filtro media')"
   ]
  },
  {
   "cell_type": "code",
   "execution_count": null,
   "metadata": {},
   "outputs": [],
   "source": [
    "# Filtro de Wiener\n",
    "wie = signal.wiener(sn1_1, 10)\n",
    "plt.plot(t, wie[:len(t)] - sn1_1.mean())\n",
    "plt.title('Filtro Wiener')"
   ]
  },
  {
   "cell_type": "markdown",
   "metadata": {},
   "source": [
    "### Audio\n",
    "\n",
    "Python tiene capacidades de cargar una señal de audio como un vector de numpy. Junto a esto se carga su frecuencia de muestreo a la cual fue tomada.\n"
   ]
  },
  {
   "cell_type": "code",
   "execution_count": null,
   "metadata": {},
   "outputs": [],
   "source": [
    "from scipy.io import wavfile\n",
    "from IPython.display import Audio\n",
    "\n",
    "fs, senal = wavfile.read('Another.wav')\n",
    "Audio(data=senal, rate=fs)"
   ]
  },
  {
   "cell_type": "code",
   "execution_count": null,
   "metadata": {},
   "outputs": [],
   "source": [
    "ps = plt.psd(senal, Fs=fs)"
   ]
  },
  {
   "cell_type": "markdown",
   "metadata": {},
   "source": [
    "## Procesamiento de Imágenes\n",
    "\n",
    "Una imagen en el concepto de programación es considerada como una matriz en la cual cada elemento representa el valor de un pixel. Así como en las señales la información se encuentra en su comportamiento en el tiempo, en el caso de las imágenes se pude suponer que la información se encuentra en su comportamiento espacial.\n",
    "\n",
    "Una imagen puede encontrarse en diversos formatos, para el caso en que la imagen se represente con una sola matriz se dice que está compuesta de una sola capa. En este caso la imagen por lo general se encuentra en escala de grises.\n",
    "\n",
    "En caso de que una imagen contenga más de una matriz se dice que lo componen canales, estos canales codifican de manera diferente la información de cada pixel. Existen diversos formatos para la codificación de imágenes, algunos de los más comunes son los siguientes:\n",
    "\n",
    "* RGB: Canales rojo, verde y azul.\n",
    "* HSV: Canales tono, saturación y brillo.\n",
    "* CMYK: Canales cyan, magenta, amarillo y negro."
   ]
  },
  {
   "cell_type": "code",
   "execution_count": null,
   "metadata": {},
   "outputs": [],
   "source": [
    "from scipy import ndimage"
   ]
  },
  {
   "cell_type": "code",
   "execution_count": null,
   "metadata": {},
   "outputs": [],
   "source": [
    "# Lectura de imagen en escala de grises\n",
    "ima_g = ndimage.imread('Class3D/canasta.jpg', flatten=True)\n",
    "print(np.shape(ima_g))"
   ]
  },
  {
   "cell_type": "code",
   "execution_count": null,
   "metadata": {},
   "outputs": [],
   "source": [
    "plt.figure(figsize=(12,8))\n",
    "plt.imshow(ima_g, cmap='gray')\n",
    "plt.axis('off')"
   ]
  },
  {
   "cell_type": "code",
   "execution_count": null,
   "metadata": {},
   "outputs": [],
   "source": [
    "# Lectura de imagen RGB\n",
    "ima = plt.imread('Class3D/canasta.jpg')\n",
    "print(np.shape(ima))"
   ]
  },
  {
   "cell_type": "code",
   "execution_count": null,
   "metadata": {},
   "outputs": [],
   "source": [
    "plt.figure(figsize=(12,8))\n",
    "plt.imshow(ima)\n",
    "plt.axis('off')"
   ]
  },
  {
   "cell_type": "code",
   "execution_count": null,
   "metadata": {},
   "outputs": [],
   "source": [
    "# Canales de la imagen\n",
    "titulos = ['Rojo', 'Verde', 'Azul']\n",
    "for i in range(3):\n",
    "    plt.subplots()\n",
    "    plt.title(titulos[i])\n",
    "    plt.imshow(ima[:, :, i], cmap='gray')\n",
    "    plt.axis('off')"
   ]
  },
  {
   "cell_type": "code",
   "execution_count": null,
   "metadata": {},
   "outputs": [],
   "source": [
    "# Representación en HSV\n",
    "\n",
    "from matplotlib import colors\n",
    "ima_hsv = colors.rgb_to_hsv(ima)\n",
    "print(np.shape(ima_hsv))"
   ]
  },
  {
   "cell_type": "code",
   "execution_count": null,
   "metadata": {},
   "outputs": [],
   "source": [
    "# Canales de la imagen\n",
    "titulos = ['Tono', 'Saturación', 'Brillo']\n",
    "for i in range(3):\n",
    "    plt.subplots()\n",
    "    plt.title(titulos[i])\n",
    "    plt.imshow(ima_hsv[:, :, i], cmap='gray')\n",
    "    plt.axis('off')"
   ]
  },
  {
   "cell_type": "markdown",
   "metadata": {},
   "source": [
    "### Histograma \n",
    "\n",
    "El histograma de una imagen dice muchos datos acerca de la distribución de pixeles en ella. A partir de esto podremos hacer correcciones y modificaciones para adaptarla a nuestras necesidades. "
   ]
  },
  {
   "cell_type": "code",
   "execution_count": null,
   "metadata": {},
   "outputs": [],
   "source": [
    "# Histograma para imagen en escala de grises\n",
    "histograma = plt.hist(ima_g.ravel(),\n",
    "                      bins=255,\n",
    "                      range=[0, 255], color='#2c3e50')"
   ]
  },
  {
   "cell_type": "code",
   "execution_count": null,
   "metadata": {},
   "outputs": [],
   "source": [
    "# Histograma por canal en RGB\n",
    "titulos = ['Rojo', 'Verde', 'Azul']\n",
    "colores = ['#c0392b', '#27ae60', '#3498db']\n",
    "for i in range(3):\n",
    "    plt.subplot(3, 1, i+1)\n",
    "    plt.title(titulos[i])\n",
    "    histograma = plt.hist(ima[:,:,i].ravel(),\n",
    "                      bins=255,\n",
    "                      range=[0, 255],\n",
    "                      color=colores[i])"
   ]
  },
  {
   "cell_type": "markdown",
   "metadata": {},
   "source": [
    "### Umbralizado \n",
    "\n",
    "La umbralización en procesamiento de imagenes establece un valor con el cual se binariza la imagen."
   ]
  },
  {
   "cell_type": "code",
   "execution_count": null,
   "metadata": {},
   "outputs": [],
   "source": [
    "# Cargar widgets para graficas interactivas\n",
    "import ipywidgets as widgets \n",
    "from IPython.display import display\n",
    "from skimage import data\n",
    "\n",
    "\n",
    "# Imagen a usar \n",
    "plt.figure(figsize=(12, 4))\n",
    "camera = data.camera()\n",
    "plt.subplot(121)\n",
    "plt.imshow(camera, cmap='gray')\n",
    "plt.axis('off')\n",
    "plt.subplot(122)\n",
    "plt.hist(camera.ravel(),bins=255,\n",
    "                      range=[0, 255] )\n",
    "plt.show()"
   ]
  },
  {
   "cell_type": "code",
   "execution_count": null,
   "metadata": {},
   "outputs": [],
   "source": [
    "def mod_umbral(umbral):\n",
    "    #thr = 60\n",
    "    #ax.clear()\n",
    "    plt.figure(1, figsize=(6,4))\n",
    "    ima_bw = camera > umbral\n",
    "    plt.imshow(ima_bw, cmap='gray')\n",
    "    plt.axis('off')\n",
    "    plt.show()\n",
    "\n",
    "interactive_plot = widgets.interactive(mod_umbral, umbral=(30, 210))\n",
    "output=interactive_plot.children[-1]\n",
    "interactive_plot\n"
   ]
  },
  {
   "cell_type": "code",
   "execution_count": null,
   "metadata": {},
   "outputs": [],
   "source": [
    "# Método automático de Otsu\n",
    "from skimage import filters\n",
    "val = filters.threshold_otsu(ima_g)\n",
    "ima_otsu = camera > val\n",
    "print(val)"
   ]
  },
  {
   "cell_type": "code",
   "execution_count": null,
   "metadata": {},
   "outputs": [],
   "source": [
    "ima_otsu = camera > val\n",
    "plt.imshow(ima_otsu, cmap='gray')\n",
    "plt.axis('off')\n",
    "plt.show()"
   ]
  },
  {
   "cell_type": "markdown",
   "metadata": {},
   "source": [
    "### Modificación de parámetros de la imagen\n",
    "\n",
    "Algunos de los parámetros para mejorar en una imagen son:\n",
    "* Brillo\n",
    "* Gamma\n",
    "\n",
    "Estas corresponden a operaciones matemáticas sobre toda la matriz de datos."
   ]
  },
  {
   "cell_type": "code",
   "execution_count": null,
   "metadata": {},
   "outputs": [],
   "source": [
    "# El parámetro brillo se puede modificar sumando o restando un valor a toda la imagen\n",
    "def mod_brillo(brillo):\n",
    "    #thr = 60\n",
    "    #ax.clear()\n",
    "    plt.figure(1, figsize=(6,4))\n",
    "    ima_brillo = np.int16(camera) + brillo\n",
    "    plt.imshow(ima_brillo, cmap='gray', \n",
    "               vmin=0, vmax=255)\n",
    "    plt.axis('off')\n",
    "    plt.show()\n",
    "\n",
    "interactive_plot = widgets.interactive(mod_brillo, brillo=(-70, 70))\n",
    "output=interactive_plot.children[-1]\n",
    "interactive_plot"
   ]
  },
  {
   "cell_type": "code",
   "execution_count": null,
   "metadata": {},
   "outputs": [],
   "source": [
    "# EL parámetro gamma se puede modificar elevando la imagen a una potencia ya sea mayor o menor a 1.\n",
    "def mod_gamma(gamma):\n",
    "    #thr = 60\n",
    "    #ax.clear()\n",
    "    plt.figure(1, figsize=(6,4))\n",
    "    ima_gamma = np.int16(camera) ** gamma\n",
    "    plt.imshow(ima_gamma, cmap='gray', \n",
    "               vmin=0, vmax=255)\n",
    "    plt.axis('off')\n",
    "    plt.show()\n",
    "\n",
    "interactive_plot = widgets.interactive(mod_gamma, gamma=(0.5, 1.5))\n",
    "output=interactive_plot.children[-1]\n",
    "interactive_plot"
   ]
  },
  {
   "cell_type": "markdown",
   "metadata": {},
   "source": [
    "### Ecualización de histograma\n",
    "\n",
    "La ecualización de histograma es un algoritmo que permite obtener un estimado de los valores que han de tener los pixeles en una nueva imagen de manera que su distribución sea lineal. \n",
    "Esto permite una mejora en el contraste logrando que se use completamente el rango de valores posibles para la imagen, mejorando el brillo y la gamma automáticamente."
   ]
  },
  {
   "cell_type": "code",
   "execution_count": null,
   "metadata": {},
   "outputs": [],
   "source": [
    "from skimage import exposure\n",
    "\n",
    "moon = data.moon()\n",
    "img_eq = exposure.equalize_hist(moon) * 255\n",
    "\n",
    "plt.figure(figsize=(12, 8))\n",
    "plt.subplot(221)\n",
    "plt.imshow(moon, cmap='gray')\n",
    "plt.axis('off')\n",
    "plt.subplot(222)\n",
    "plt.hist(moon.ravel(),bins=255,\n",
    "                      range=[0, 255] )\n",
    "\n",
    "plt.subplot(223)\n",
    "plt.imshow(img_eq, cmap='gray')\n",
    "plt.axis('off')\n",
    "plt.subplot(224)\n",
    "plt.hist(img_eq.ravel(),bins=255,\n",
    "                      range=[0, 255] )\n",
    "plt.show()"
   ]
  },
  {
   "cell_type": "markdown",
   "metadata": {},
   "source": [
    "## Filtros\n",
    "\n",
    "Una imagen también se puede entender como una señal bidimensional, como tal también se pueden aplicar filtros para generar nuevas visualizaciones de la imagen y resaltar elementos de interés para el usuario."
   ]
  },
  {
   "cell_type": "code",
   "execution_count": null,
   "metadata": {},
   "outputs": [],
   "source": [
    "# Representación en frecuencia de una imagen\n",
    "from scipy import fftpack\n",
    "\n",
    "# Transformada de Fourier bidimensional\n",
    "def mostrar_frecuencia(Ima):\n",
    "    F = fftpack.fft2(Ima)\n",
    "    F2 = fftpack.fftshift(F)\n",
    "    plt.figure(figsize=(12,12))\n",
    "    plt.subplot(121)\n",
    "    plt.imshow(Ima, cmap='gray',\n",
    "              vmin=0,\n",
    "              vmax=255)\n",
    "    plt.axis('off')\n",
    "    plt.title('Imagen')\n",
    "    plt.subplot(222)\n",
    "    plt.imshow(np.log(np.abs(F)+1))\n",
    "    plt.title('Espectro Frecuencia')\n",
    "    plt.subplot(224)\n",
    "    plt.imshow(np.log(np.abs(F2)+1))\n",
    "    plt.title('Espectro Centrado')\n",
    "    plt.show()\n",
    "\n",
    "mostrar_frecuencia(camera)"
   ]
  },
  {
   "cell_type": "markdown",
   "metadata": {},
   "source": [
    "### Operadores de convolución\n",
    "\n",
    "Para las tecnicas de filtrado se hacen uso de _kernels_ de convolución, el principio de su funcionamiento es que se puede recordar que par un sistema lineal la operación de convolución en el espacio del tiempo es igual a la de multiplicación en el espacio de frecuencia. \n",
    "\n",
    "Algunos operadores comunes son los siguientes:\n",
    "\n",
    "* Media\n",
    "* Blur\n",
    "* Sobel (horizontal y vertical)\n",
    "* Realce\n",
    "* Bordes\n",
    "* Énfasis\n",
    "* Gaussiano"
   ]
  },
  {
   "cell_type": "code",
   "execution_count": null,
   "metadata": {},
   "outputs": [],
   "source": [
    "# Tamaño del kernel\n",
    "sz = 3\n",
    "k_media = np.ones((sz, sz)) * 1/(sz*sz)\n",
    " \n",
    "media = ndimage.convolve(camera, k_media, output='int32')\n",
    "mostrar_frecuencia(media)"
   ]
  },
  {
   "cell_type": "code",
   "execution_count": null,
   "metadata": {},
   "outputs": [],
   "source": [
    "# Blur\n",
    "k_blur = [[0.0625, 0.125, 0.0625],\n",
    "         [0.125, 0.25, 0.125],\n",
    "         [0.0625, 0.125, 0.0625]]\n",
    "\n",
    "blur = ndimage.convolve(camera, k_blur, )\n",
    "mostrar_frecuencia(blur)"
   ]
  },
  {
   "cell_type": "code",
   "execution_count": null,
   "metadata": {},
   "outputs": [],
   "source": [
    "# Sobel horizontal\n",
    "k_sobel_h = [[1, 0, -1],\n",
    "             [2, 0, -2],\n",
    "             [1, 0, -1]]\n",
    "\n",
    "sobel_h = ndimage.convolve(camera, k_sobel_h, output='int32')\n",
    "mostrar_frecuencia(sobel_h)"
   ]
  },
  {
   "cell_type": "code",
   "execution_count": null,
   "metadata": {},
   "outputs": [],
   "source": [
    "# Sobel vertical\n",
    "k_sobel_v = [[1, 2, 1],\n",
    "             [0, 0, 0],\n",
    "             [-1, -2, -1]]\n",
    "\n",
    "sobel_v = ndimage.convolve(camera, k_sobel_v, output='int32')\n",
    "mostrar_frecuencia(sobel_v)"
   ]
  },
  {
   "cell_type": "code",
   "execution_count": null,
   "metadata": {
    "scrolled": true
   },
   "outputs": [],
   "source": [
    "# Realce\n",
    "k_realce = [[-2, -1, 0],\n",
    "           [-1, 1, 1],\n",
    "           [0, 1, 2]]\n",
    "\n",
    "realce = ndimage.convolve(camera, k_realce, output='int32')\n",
    "mostrar_frecuencia(realce)"
   ]
  },
  {
   "cell_type": "code",
   "execution_count": null,
   "metadata": {},
   "outputs": [],
   "source": [
    "# Diferencia\n",
    "k_bordes = [[-1, -1, -1],\n",
    "             [-1, 8, -1],\n",
    "             [-1, -1, -1]]\n",
    "\n",
    "bordes = ndimage.convolve(camera, k_bordes, output='int32')\n",
    "mostrar_frecuencia(np.abs(bordes))"
   ]
  },
  {
   "cell_type": "code",
   "execution_count": null,
   "metadata": {},
   "outputs": [],
   "source": [
    "k_enfasis = [[0, -1, 0],\n",
    "            [-1, 5, -1],\n",
    "            [0, -1, 0]]\n",
    "\n",
    "enfasis = ndimage.convolve(camera, k_enfasis, output='int32')\n",
    "mostrar_frecuencia(enfasis)"
   ]
  },
  {
   "cell_type": "code",
   "execution_count": null,
   "metadata": {},
   "outputs": [],
   "source": [
    "# Gaussiano\n",
    "k_gauss = [[1/16, 1/8, 1/16],\n",
    "              [1/8, 1/4, 1/8],\n",
    "              [1/16, 1/8, 1/16]]\n",
    "\n",
    "gauss = ndimage.convolve(camera, k_gauss, output='int32')\n",
    "mostrar_frecuencia(gauss)"
   ]
  },
  {
   "cell_type": "markdown",
   "metadata": {},
   "source": [
    "#### Filtros estadísticos\n",
    "Los filtros estadísticos sirven usando una función estadística sobre los valores de una localidad alrededor del pixel, este tamaño de ventana es definido por el usuario. "
   ]
  },
  {
   "cell_type": "code",
   "execution_count": null,
   "metadata": {},
   "outputs": [],
   "source": [
    "# Filtro mediana\n",
    "def filtro_mediana(sz):\n",
    "    #thr = 60\n",
    "    #ax.clear()\n",
    "    plt.figure(1, figsize=(6,4))\n",
    "    mediana = ndimage.median_filter(camera, size=sz)\n",
    "    plt.imshow(mediana, cmap='gray', \n",
    "               vmin=0, vmax=255)\n",
    "    plt.axis('off')\n",
    "    plt.show()\n",
    "\n",
    "interactive_plot = widgets.interactive(filtro_mediana, sz=(3, 11))\n",
    "output=interactive_plot.children[-1]\n",
    "interactive_plot"
   ]
  },
  {
   "cell_type": "code",
   "execution_count": null,
   "metadata": {},
   "outputs": [],
   "source": [
    "# Filtro maximo\n",
    "def filtro_maximo(sz):\n",
    "    #thr = 60\n",
    "    #ax.clear()\n",
    "    plt.figure(1, figsize=(6,4))\n",
    "    mediana = ndimage.maximum_filter(camera, size=sz)\n",
    "    plt.imshow(mediana, cmap='gray', \n",
    "               vmin=0, vmax=255)\n",
    "    plt.axis('off')\n",
    "    plt.show()\n",
    "\n",
    "interactive_plot = widgets.interactive(filtro_maximo, sz=(3, 11))\n",
    "output=interactive_plot.children[-1]\n",
    "interactive_plot"
   ]
  },
  {
   "cell_type": "code",
   "execution_count": null,
   "metadata": {},
   "outputs": [],
   "source": [
    "# Filtro maximo\n",
    "def filtro_minimo(sz):\n",
    "    #thr = 60\n",
    "    #ax.clear()\n",
    "    plt.figure(1, figsize=(6,4))\n",
    "    mediana = ndimage.minimum_filter(camera, size=sz)\n",
    "    plt.imshow(mediana, cmap='gray', \n",
    "               vmin=0, vmax=255)\n",
    "    plt.axis('off')\n",
    "    plt.show()\n",
    "\n",
    "interactive_plot = widgets.interactive(filtro_minimo, sz=(3, 11))\n",
    "output=interactive_plot.children[-1]\n",
    "interactive_plot"
   ]
  },
  {
   "cell_type": "markdown",
   "metadata": {},
   "source": [
    "### Operaciones Morfológicas\n",
    "\n",
    "Las operaciones morfológicas aplican una máscara local a la imagen sobre los pixeles, esta puede ser alpicada sobre imagenes binarias o en escala de grises. Algunas de las operaciones morfológicas son las siguientes:\n",
    "\n",
    "* Erosión: Borra contornos de las objetos en las imágenes.\n",
    "* Dilatación: Añade elementos a los contornos de las imágenes.\n",
    "* Cerradura: Dilatación seguida de erosión, completa agujeros en la imagen.\n",
    "* Apertura: Erosión seguida por dilatación, elimina pequeños elementos de la imagen."
   ]
  },
  {
   "cell_type": "code",
   "execution_count": null,
   "metadata": {},
   "outputs": [],
   "source": [
    "blobs = data.binary_blobs()\n",
    "plt.imshow(blobs, cmap='gray')\n",
    "plt.axis('off')"
   ]
  },
  {
   "cell_type": "code",
   "execution_count": null,
   "metadata": {},
   "outputs": [],
   "source": [
    "# Estructuras\n",
    "cruz = [[0,1,0],\n",
    "        [1,1,1],\n",
    "        [0,1,0]]\n",
    "\n",
    "bloque = np.ones((3,3))\n",
    "\n",
    "# Iteraciones\n",
    "iterations = 15\n",
    "\n",
    "operaciones = [ndimage.binary_erosion, ndimage.binary_dilation, \n",
    "               ndimage.binary_closing, ndimage.binary_opening]\n",
    "\n",
    "titulos = ['Erosión', 'Dilatación',\n",
    "          'Cerradura', 'Apertura']\n",
    "\n",
    "plt.figure(figsize=(12,8))\n",
    "for i, c in enumerate(operaciones):\n",
    "    plt.subplot(2, 2, i+1)\n",
    "    erosion = c(blobs, structure=bloque,\n",
    "                iterations=iterations)\n",
    "    plt.imshow(erosion, cmap='gray')\n",
    "    plt.title(titulos[i])\n",
    "    plt.axis('off')"
   ]
  },
  {
   "cell_type": "code",
   "execution_count": null,
   "metadata": {},
   "outputs": [],
   "source": [
    "moon = data.moon()\n",
    "\n",
    "sz = 7\n",
    "\n",
    "operaciones = [ndimage.grey_erosion, ndimage.grey_dilation, \n",
    "               ndimage.grey_closing, ndimage.grey_opening]\n",
    "\n",
    "titulos = ['Erosión', 'Dilatación',\n",
    "          'Cerradura', 'Apertura']\n",
    "\n",
    "plt.figure(figsize=(12,8))\n",
    "for i, c in enumerate(operaciones):\n",
    "    plt.subplot(2, 2, i+1)\n",
    "    mor = c(moon, size=sz,\n",
    "            output='int32')\n",
    "    plt.imshow(mor, cmap='gray',\n",
    "              vmin=0, vmax=255)\n",
    "    plt.title(titulos[i])\n",
    "    plt.axis('off')"
   ]
  },
  {
   "cell_type": "markdown",
   "metadata": {},
   "source": [
    "## Ejercicios I\n",
    "\n",
    "1. En el primer ejemplo se presentan 3 señales (senoidal, cuadrada y triangular). \n",
    "    Repite el ejemplo variando la frecuencia de muestreo \"fs\" a los siguientes valores: 5,10,100\n",
    "2. Aplica la transformada de Fourier a cada una de las senoides del ejercicio anterior.\n",
    "3. Abrir el archivo de audio another3.wav y reproducirlo.\n",
    "4. Aplica psd y fft al audio anterior, varia el parametro NFFT y ventana para psd; y varia el parametro n de fft .\n",
    "5. Descompón el audio en 4 niveles (3 detales y 1 aproximación) utilizando wavelets\n",
    "\n",
    "6. Diseña un filtro pasa altas de cualquier clase y analiza su respuesta en un diagrama de bode.    \n",
    "   Repite el procedimiento pero el parametro analog='True', retiralo o cambialo por 'False'.       \n",
    "   *Detalles del uso de filtros digitales*\n",
    "   Compara los coeficientes de ambos filtros\n",
    "7. Carga una imagen, cambia los valores de Tono en formato hsv    \n",
    "   (Cambiando todos por el mismo valor o el complemento del actual)       \n",
    "   Despliega la imagen en rgb\n",
    "8. Aplica una mascara para obtener los bordes de tu imagen.\n"
   ]
  },
  {
   "cell_type": "markdown",
   "metadata": {},
   "source": [
    "## Ejercicios II\n",
    "\n",
    "1. Empleando la información obtenida en los puntos 4 y 5 de la parte 1: \n",
    "    Decide que tipo de filtro usar para limpiar el ruido de la señal y   \n",
    "    limpia la señal de audio.\n",
    "2. El comando wavfile.write  nos permite guardar una señal de audio, sus argumentos son (variable tipo int16):\n",
    "> wavfile.write('Nombre_archivo.formato',frecuencia de muestreo,nombre de la variable)\n",
    "\n",
    "3. Abre el archivo del Class3d/robin_1.wav. Aplica un espectrograma para encontrar los tiempos y las frecuencias que corresponden al sónido del ave.  \n",
    "   Corrobora tu resultado aplicando fft sobre una sección recortada de la señal. (Aisla un pitido)\n",
    "   Aplica un filtro pasabandas para extraer la parte correspondiente al pitido del ave.\n",
    "   Aplica un filtro estádistico (Wiener o media) para predecir la señal.\n",
    "   Compara los resultados escuchando la señal antes y después de la aplicación de cada filtro.\n",
    "4. Abre la imagen de rayos X Calss3D/xray.jpeg.\n",
    "    * Usa primero los filtros visto y comprueba cómo cambia con cada uno de ellos y si mejora o empeora la calidad.\n",
    "    * Usando sucesivamente filtros, encuentra una combinación para mejorar la definición de los huesos (sugerencia: usar énfasis y mediana).\n",
    "    * Obtén el gradiente de la imagen al hacer la norma de las imágenes resultantes de los filtros Sobel. Es decir $G = \\sqrt{G_x(Ima)^2+G_y(Ima)^2}$\n",
    "5. Haz la binarización de la imagen _coins_, a la imagen resultante alpica operaciones morfológicas para dejar solo las monedas y que estas estén rellenas. (Sugerencia: aplicar corrección gamma al inicio)"
   ]
  },
  {
   "cell_type": "code",
   "execution_count": null,
   "metadata": {},
   "outputs": [],
   "source": []
  }
 ],
 "metadata": {
  "kernelspec": {
   "display_name": "Python 3",
   "language": "python",
   "name": "python3"
  },
  "language_info": {
   "codemirror_mode": {
    "name": "ipython",
    "version": 3
   },
   "file_extension": ".py",
   "mimetype": "text/x-python",
   "name": "python",
   "nbconvert_exporter": "python",
   "pygments_lexer": "ipython3",
   "version": "3.6.0"
  }
 },
 "nbformat": 4,
 "nbformat_minor": 2
}
