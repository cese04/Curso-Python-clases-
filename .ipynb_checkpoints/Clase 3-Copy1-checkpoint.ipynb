{
 "cells": [
  {
   "cell_type": "markdown",
   "metadata": {},
   "source": [
    "# Clase 3: SciPy\n",
    "---\n",
    "## ¿Qué es SciPy?\n",
    "* Scipy es un conjunto de algoritmos matematicos y funciones de utilidad construidas en Numpy, como una extensión de Python.\n",
    "* Empleandolas podemos acelerar la escritura de nuestro código y el entendimiento de las funcionas al desglosarlas.\n",
    "* El uso de Scipy para procesamiento de datos y prototipado de sistemas permite un entorno que compite con el presentado en MATLAB, IDL, Octave, R-Lab y SciLab.\n",
    "* En general, de aquí en adelante se supondra que las paqueterias (numpy, scipy y matplotlib) serán importadas de la siguiente forma:"
   ]
  },
  {
   "cell_type": "code",
   "execution_count": null,
   "metadata": {},
   "outputs": [],
   "source": [
    "import numpy as np\n",
    "import matplotlib as mpl\n",
    "import matplotlib.pyplot as plt"
   ]
  },
  {
   "cell_type": "markdown",
   "metadata": {},
   "source": [
    "\n",
    "## ¿Qué incluye SciPy?\n",
    "A continuación se enlistan las subpaqueterias que incluye Scipy. \n",
    "\n",
    "Remarcaremos aquellas que se consideran de interes para el curso.\n",
    "\n",
    "|Subpaqueteria|\tDescripción \n",
    "|---|---|\n",
    "|cluster\t|Clustering algorithms|\n",
    "|constants\t|Physical and mathematical constants|\n",
    "|fftpack\t|Fast Fourier Transform routines|\n",
    "|integrate\t|Integration and ordinary differential equation solvers|\n",
    "|interpolate|Interpolation and smoothing splines|\n",
    "|io\t        |Input and Output|\n",
    "|linalg\t    |Linear algebra|\n",
    "|ndimage    |N-dimensional image processing|\n",
    "|odr\t    |Orthogonal distance regression|\n",
    "|optimize   |Optimization and root-finding routines|\n",
    "|signal\t    |Signal processing|\n",
    "|sparse\t    |Sparse matrices and associated routines|\n",
    "|spatial    |Spatial data structures and algorithms|\n",
    "|special    |Special functions|\n",
    "|stats\t    |Statistical distributions and functions|\n",
    "\n",
    "Es necesario considerar que al llamar cada subpaquetería lo haremos por separado, por ejemplo:\n"
   ]
  },
  {
   "cell_type": "code",
   "execution_count": null,
   "metadata": {},
   "outputs": [],
   "source": [
    "from scipy import linalg, optimize"
   ]
  },
  {
   "cell_type": "markdown",
   "metadata": {},
   "source": [
    "Respecto a la instalación, se seguirán los siguentes comandos:\n",
    ">conda install scipy\n",
    "\n",
    ">conda install -c anaconda scipy \n",
    "\n",
    "Para profundizar sobre scipy se dejan los siguientes enlaces de interes:\n",
    "\n",
    "https://scipy.org/index.html\n",
    "\n",
    "https://scipy.org/install.html"
   ]
  },
  {
   "cell_type": "markdown",
   "metadata": {},
   "source": [
    "## Funciones Básicas\n",
    "---\n",
    "### Atajos de Indexado\n",
    "A continuación se verán las funciones:\n",
    "\n",
    "*np.mgrid , np.ogrid , np.r_ , np.c*\n",
    "\n",
    "que nos permiten indexar más cómodamente arreglos de Numpy"
   ]
  },
  {
   "cell_type": "code",
   "execution_count": null,
   "metadata": {},
   "outputs": [],
   "source": [
    "# La sentencia\n",
    "a = np.concatenate(([3], [0]*5, np.arange(-1, 1.002, 2/9.0)))\n",
    "# Equivale a\n",
    "print(\"Primer resultado de a:\\n\", a)\n",
    "a = np.r_[3,[0]*5,-1:1:10j]\n",
    "b=np.c_[-1:1:10j]\n",
    "print(\"\\n Resultados de a y b con concatenadores a:\\n\",a)\n",
    "print(\"\\n b:\", b)\n"
   ]
  },
  {
   "cell_type": "markdown",
   "metadata": {},
   "source": [
    "Dónde .r_ hace referencia a la palabra en inglés \"row\", concatenador de filas. \n",
    "\n",
    "De la misma forma tenemos .c_ , concatenador de columnas.\n",
    "\n",
    "En cuanto .mgrid y .ogrid retornan arreglos n-dimensionales con todos sus elementos de la misma dimensión y con una dimensión diferente a 1 respectivamente."
   ]
  },
  {
   "cell_type": "code",
   "execution_count": null,
   "metadata": {},
   "outputs": [],
   "source": [
    "#np.mgrid[0:2,0:3]  #Dimensiones combinadas, 2 elementos de 2x3\n",
    "#np.mgrid[0:1,0:3,0:2] #Dimensiones combinadas, 3 elementos de 1x2x3\n",
    "#np.mgrid[0:1,0:2,0:3] #Dimensiones combinadas, 3 elementos de 1x3x2\n",
    "np.mgrid[0:1,0:1,0:1,0:1] #Dimensiones combinadas, 4 elementos de 1x1x1x1\n"
   ]
  },
  {
   "cell_type": "code",
   "execution_count": null,
   "metadata": {},
   "outputs": [],
   "source": [
    "np.ogrid[0:4,0:3] #Arreglo de 1 fila de 4, 1 columna de 3. [agregar más elementos aumenta la dimensionalidad]"
   ]
  },
  {
   "cell_type": "markdown",
   "metadata": {},
   "source": [
    "### Polinomios\n",
    "La paquetería \"poly1d\" nos permite trabajar con una variable simbolica que arroja una ecuación polinomial. A la cual le ingresamos los coeficientes polinomiales.\n",
    "\n",
    "Esta ecuación puede ser integrada, derivada y evaluada.\n",
    "Además, es posible realizar algebra de polinomios siempre y cuando se cumplan las propiedades requeridas."
   ]
  },
  {
   "cell_type": "code",
   "execution_count": null,
   "metadata": {
    "scrolled": true
   },
   "outputs": [],
   "source": [
    "p = np.poly1d([3, -5, 5])\n",
    "print(p)\n",
    "#Evaluar\n",
    "p(2)"
   ]
  },
  {
   "cell_type": "code",
   "execution_count": null,
   "metadata": {},
   "outputs": [],
   "source": [
    "#Encontrar raices\n",
    "print(p.r)\n",
    "p(p.r)"
   ]
  },
  {
   "cell_type": "code",
   "execution_count": null,
   "metadata": {
    "scrolled": true
   },
   "outputs": [],
   "source": [
    "#Retorno de coeficientes, derivación e integración\n",
    "print(\"\\n\",p.c)\n",
    "print(\"\\n\",p.deriv())\n",
    "print(\"\\n\",p.integ())\n",
    "p.order"
   ]
  },
  {
   "cell_type": "markdown",
   "metadata": {},
   "source": [
    "### Miscelaneas \n",
    "* linspace\n",
    "* logspace\n",
    "* angle\n",
    "* absolute\n",
    "* factorial\n",
    "* comb"
   ]
  },
  {
   "cell_type": "code",
   "execution_count": null,
   "metadata": {},
   "outputs": [],
   "source": [
    "A = np.linspace(0.0, 3.0, num=5)\n",
    "B = np.logspace(0.0, 3.0, num=5)\n",
    "C = np.logspace(0.0, 3.0, num=5,base=2.0)\n",
    "print (\"Arreglos lineales y logaritmicos: \\n\", A)\n",
    "print (\"\\n\",B)\n",
    "print (\"\\n\",C)\n",
    "a = np.angle(1+1j)\n",
    "b = np.angle(1+1j, deg=True)  \n",
    "print (\"\\nResultados de la operación angulo: \\n\", a,b)\n",
    "\n",
    "a = np.absolute(1+1j)\n",
    "print(\"\\nResultados de la operación absoluto: \\n\",a)\n",
    "\n",
    "x = np.arange(9.).reshape(3, 3)\n",
    "c = np.where( x > 4 )\n",
    "print(x)\n",
    "print(\"\\nResultado de la busqueda:\\n\",c) #Tipo de dato\n",
    "print(x[np.where(x>4)])                  #Resultado siempre vector\n",
    "d=np.where(x < 5, x, -1)                   #Aquello que no cumpla es sustituido por el elemento señalado\n",
    "print(\"\\nResultado de la busqueda: \\n\",d)\n",
    "\n",
    "from scipy.special import factorial as fac\n",
    "#exact hace referencia a utilizar flotante o no en la precisión del resultado\n",
    "a=fac(4) \n",
    "b=fac(3.4)\n",
    "print(\"Resultados de la operación factorial:\",a,b)\n",
    " "
   ]
  },
  {
   "cell_type": "markdown",
   "metadata": {},
   "source": [
    "$n!=\\Gamma(n+1)=\\int_0^\\infty{x^{n}}e^{-x}dx$"
   ]
  },
  {
   "cell_type": "code",
   "execution_count": null,
   "metadata": {},
   "outputs": [],
   "source": [
    "from scipy.special import comb\n",
    "\n",
    "a=comb(10, 3, exact=True)\n",
    "b=comb(10, 3.2, exact=False, repetition=True)\n",
    "print(\"Resultado de combinatorias: \\n\",a,b)"
   ]
  },
  {
   "cell_type": "markdown",
   "metadata": {},
   "source": [
    "$ C^n_k =\\binom{n}{k} = \\dfrac{n!}{k!(n-k)!} \\ \\ y \\ \\  CR^n_k = \\binom{n+k-1}{k}= \\dfrac{(n+k-1)!}{k!(n-k)!}$"
   ]
  },
  {
   "cell_type": "markdown",
   "metadata": {},
   "source": [
    "## Funciones especiales\n",
    "---\n",
    "Paquetería con ciertas funciones especiales.\n",
    "\n",
    "Importación común:\n",
    ">from scipy import special\n",
    "\n",
    ">import scipy.special as sc\n",
    " \n",
    "Incluye las siguientes clasificaciones de funciones:\n",
    "* Error handling\n",
    "* Airy functions: $y''(x)=xy(x)$\n",
    "* Elliptic Functions and Integrals: $K(m)=\\int_{0}^{\\pi/2}[1-m \\sin(t)^2]^{-1/2} dt$\n",
    "* Bessel Functions: $x^2\\dfrac{d^2 y}{d x^2}+x\\dfrac{dy}{dx}+(x^2-\\alpha^2)y=0$\n",
    "* Sturve Functions: $H_v(x)=(z/2)^{v+1}\\Sigma_{n=0}^{\\infty}\\dfrac{(-1)^n(z/2)^{2n}}{\\Gamma(n+\\dfrac{3}{2})\\Gamma(n+v+\\dfrac{3}{2})}$\n",
    "* Raw Statistical Functions (Funciones de distribusión y distribusión acumulada, entre funciones de interés estádistico)\n",
    "* Information Theory Functions (entropia computacional, etc)\n",
    "* Gamma and Related Functions $\\Gamma$\n",
    "* ETC (Otras 13 categorias)\n",
    "\n",
    "Se puede encontrar un sumario de las funciones en: \n",
    "\n",
    "https://docs.scipy.org/doc/scipy/reference/special.html#module-scipy.special"
   ]
  },
  {
   "cell_type": "code",
   "execution_count": null,
   "metadata": {},
   "outputs": [],
   "source": [
    "#Uso de la función gamma y factorial\n",
    "import numpy as np\n",
    "import matplotlib.pyplot as plt\n",
    "from scipy.special import gamma,factorial \n",
    "\n",
    "x = np.linspace(-3.5, 5.5, 2251)\n",
    "y = gamma(x)\n",
    "\n",
    "plt.plot(x, y, 'K', alpha=0.8, label='$\\Gamma(x)$')\n",
    "k = np.arange(1, 7)\n",
    "plt.plot(k, factorial(k-1), 'b^', alpha=0.6,label='$(x-1)!, x = 1, 2, ...$')\n",
    "plt.xlim(-3.5, 5.5)\n",
    "plt.ylim(-10, 25)\n",
    "plt.grid()\n",
    "plt.xlabel('x')\n",
    "plt.legend(loc='lower right')\n",
    "plt.show()"
   ]
  },
  {
   "cell_type": "markdown",
   "metadata": {},
   "source": [
    "## Integracion\n",
    "---\n",
    "Paquetería dedicada a la integración númerica así como integrales relacionadas a ecuaciones diferenciales de primer orden.\n"
   ]
  },
  {
   "cell_type": "code",
   "execution_count": null,
   "metadata": {},
   "outputs": [],
   "source": [
    "from scipy import integrate\n",
    "#help(integrate)\n"
   ]
  },
  {
   "cell_type": "markdown",
   "metadata": {},
   "source": [
    "#### quad\n",
    "Integración númerica de una integral definida, esta puede ser una integral impropia"
   ]
  },
  {
   "cell_type": "code",
   "execution_count": null,
   "metadata": {},
   "outputs": [],
   "source": [
    "# Intrgración mediante quad\n",
    "import numpy as np\n",
    "import scipy.integrate as integrate\n",
    "x2 = lambda x: x**2\n",
    "r1 = integrate.quad(x2, 0, 4.5)\n",
    "\n",
    "x3 = lambda x: np.exp(-x)\n",
    "r2 = integrate.quad(x3,0, np.inf)\n",
    "\n",
    "x4 = lambda x: np.exp(-(x**2))\n",
    "r3 = integrate.quad(x4,-np.inf,np.inf)\n",
    "\n",
    "print(\"\\n\", r1)\n",
    "\n",
    "print(\"\\n\", r2 )\n",
    "\n",
    "print(\"\\n\", r3 )"
   ]
  },
  {
   "cell_type": "code",
   "execution_count": null,
   "metadata": {},
   "outputs": [],
   "source": [
    "np.sqrt(np.pi)"
   ]
  },
  {
   "cell_type": "markdown",
   "metadata": {},
   "source": [
    "\n",
    "$$ \\int_{0}^{4.5}{x^2} dx \\ \\ \\ \\ , \\ \\ \\ \\ \\int_{0}^{\\infty}{e^{-x}} dx \\ \\ \\ \\ , \\ \\ \\ \\ \\int_{-\\infty}^{\\infty}{e^{-x^{2}}} dx $$\n",
    " \n",
    "## Operador lambda $\\lambda$\n",
    " \n",
    "El operador/función lambda crea pequeñas funciones anonimas, es decir, funciones sin nombre. De forma que estas funciones serán empleadas solo dentro de una función y no otra vez. \n",
    "Su funcionamiento es equivalente a la creación de multiples variables simbolicas y la operación a realizar entre ellas.\n",
    "Su empleo general es:\n",
    "> lambda lista_de_argumentos: expresion\n",
    "\n",
    "Aunque también es posible asignarle un nombre a nuestra función para emplearla más adelante y evaluarla nuevamente. "
   ]
  },
  {
   "cell_type": "code",
   "execution_count": null,
   "metadata": {},
   "outputs": [],
   "source": [
    "import numpy as np\n",
    "Fun = lambda x,y,z: x**2+y**2-2*x*y*np.cos(z)\n",
    "print (Fun(1,2,0))\n",
    "\n",
    "#Ejemplo de uso único\n",
    "Celsius = [39.2, 36.5, 37.3, 37.8]\n",
    "Fahrenheit = map(lambda x: (float(9)/5)*x + 32, Celsius)\n",
    "print(Fahrenheit)\n"
   ]
  },
  {
   "cell_type": "markdown",
   "metadata": {},
   "source": [
    "#### dblquad y tplquad \n",
    "funciones que sirven para integrar sobre 4 y 6 argumentos, respectivamente. \n",
    "\n",
    "Los límites de las integrales internas deben ser declarados como funciones"
   ]
  },
  {
   "cell_type": "code",
   "execution_count": null,
   "metadata": {},
   "outputs": [],
   "source": [
    "from scipy.integrate import quad, dblquad\n",
    "def Inte(n):\n",
    "    return dblquad(lambda x, y: n*x*y, 0, 0.5, \n",
    "                   lambda x: 0, \n",
    "                   lambda x: 1-2*x)\n",
    "Inte(1)"
   ]
  },
  {
   "cell_type": "markdown",
   "metadata": {},
   "source": [
    "$$\\int_{y=0}^{1/2}{\\int_{x=0}^{1-2x}{nxy \\ dx \\ dy}} = n \\dfrac{1}{96}$$\n",
    "\n",
    "Como se intuye, dblquad tiene los argumentos:\n",
    "\n",
    "dblquad(\"función\",'limite inferior 1', 'limite superior 1','limite inferior 2', 'limite superior 2') \n",
    "\n",
    "de forma que cada vez son más internos los limites.\n",
    "\n",
    "La función tplquad funciona analogamente para integrales triples.\n",
    "\n",
    "#### nquad\n",
    "Función que sirve para n-integrales iteradas, a diferencia de las anteriores su estructura es:\n",
    ">integrate.nquad(funcion, [[limites más internos],[limites cada vez más externos]])\n",
    "\n",
    "Por ejemplo para la integral:\n",
    "$$ I_n = \\int_{1}^{\\infty}{\\int_{0}^{\\infty}{\\dfrac{e^{-xt}}{t^n}} } $$"
   ]
  },
  {
   "cell_type": "code",
   "execution_count": null,
   "metadata": {},
   "outputs": [],
   "source": [
    "import numpy as np\n",
    "from scipy import integrate\n",
    "\n",
    "N = 5\n",
    "def f(t, x):\n",
    "    return np.exp(-x*t) / t**N\n",
    "integrate.nquad(f, [[1, np.inf],[0, np.inf]])"
   ]
  },
  {
   "cell_type": "markdown",
   "metadata": {},
   "source": [
    "#### Ecuaciones diferenciales ordinarias [odeint]\n",
    "En este caso, la función odeint nos permitirá integrar un conjunto de ecuaciones ordinarias diferenciales dadas sus condiciones iniciales. De forma general tenemos:\n",
    "$$ \\dfrac{d \\textbf{y}}{dt} = \\textbf{f}(\\textbf{y},t); \\ \\ \\ con \\ \\ \\ \\textbf{y}(0)=y_0 \\ \\ \\ considerando: $$\n",
    "$ \\textbf{y}, $\n",
    "vector de N elementos.\n",
    "$\\textbf{f}, $\n",
    "funcion que mapea de $ \\textbf{R}^n$  a $ \\textbf{R}^n $\n",
    "\n",
    "Aplicando esto al problema del pendulo simple de ecuación: \n",
    "$$ \\theta''(t) + b*\\theta'(t) + c* \\sin{( \\theta(t) )}=0 $$\n",
    "\n",
    "Podemos reescribir el sistema como:\n",
    "$$\\theta'(t) = \\omega(t) $$\n",
    "$$\\omega'(t) = -b*\\omega(t) -c*\\sin{( \\theta(t))}  $$"
   ]
  },
  {
   "cell_type": "code",
   "execution_count": null,
   "metadata": {},
   "outputs": [],
   "source": [
    "import numpy as np\n",
    "import matplotlib.pyplot as plt\n",
    "from scipy.integrate import odeint\n",
    "\n",
    "\n",
    "def pend(y, t, b, c): #Declaración de simbolicas\n",
    "    theta, omega = y\n",
    "    dydt = [omega, -b*omega - c*np.sin(theta)]\n",
    "    return dydt\n",
    "#Variables númericas del modelo\n",
    "b=1;\n",
    "c=5;\n",
    "#Declaración de condiciones iniciales\n",
    "y01 = [np.pi/2, 0.0]     \n",
    "y02 = [np.pi, 0.0] #Eq. Inestable\n",
    "y03 = [np.pi, 0.1] #Eq. Inestable     \n",
    "y04 = [0.0 , 0.3]  #Eq. Estable   \n",
    "y0=[y01,y02,y03,y04];\n",
    "#Declaración del tiempo base para la solución\n",
    "t = np.linspace(0, 10, 1001) #10 segundos de simulación, con 1001 divisiones\n",
    "\n",
    "#Ejecutar odeint\n",
    "m=0;\n",
    "plt.figure(figsize=(15,10))\n",
    "for i in y0:\n",
    "    \n",
    "    sol = odeint(pend, i, t, args=(b, c)) \n",
    "    #Argumentos: Función simbolica, Condiciones iniciales, Tiempo de solución, argumentos internos\n",
    "    m=m+1;\n",
    "    plt.subplot(2,2,m)\n",
    "    plt.plot(t, sol[:, 0], 'b', label='$\\Theta(t)$')\n",
    "    plt.plot(t, sol[:, 1], 'r--', label='$\\omega(t)$')\n",
    "\n",
    "    plt.legend(loc='best') #Localización automatica\n",
    "    plt.xlabel('time (s)')   \n",
    "    plt.grid()\n",
    "    \n",
    "plt.show()"
   ]
  },
  {
   "cell_type": "markdown",
   "metadata": {},
   "source": [
    "La paquetería integral posee más funciones y elementos de útilidad, debido a que su matemática trasciende a lo esperado en este curso no serán contempladas.\n",
    "\n",
    "Se recomienda a los asistentes revisar la paquetaría directamente en: https://docs.scipy.org/doc/scipy/reference/integrate.html#module-scipy.integrate"
   ]
  },
  {
   "cell_type": "markdown",
   "metadata": {},
   "source": [
    "## Interpolar\n",
    "---\n",
    "La interpolación se define como obtener información caracteristica de una curva n-dimensional partiendo de los datos y caracteristicas propias de la curva. El calculo y los métodos suelen ser númericos y tratan de ajustar un cierto error o variable de control.\n",
    "\n",
    "Empezando con la clase \"interp1d\" que sirve para interpolar curvas de una dimensión a partir de un vector de datos\n",
    "\n",
    "Dada una curva $y=f(x)$\n",
    "> interp1d(x,y,'kind','axis','assume_sorted')\n",
    "\n",
    "* kind: (‘linear’, ‘nearest’, ‘zero’, ‘slinear’, ‘quadratic’, ‘cubic’, ‘previous’, ‘next’)\n",
    "* axis: (respecto a que eje va a interpolar, default 'y')\n",
    "* assume_sorted : (True/False) Asume o no que los valores están ordenados de forma creciente, sino entonces los ordena"
   ]
  },
  {
   "cell_type": "code",
   "execution_count": null,
   "metadata": {},
   "outputs": [],
   "source": [
    "import matplotlib.pyplot as plt\n",
    "from scipy.interpolate import interp1d\n",
    "\n",
    "x  = np.linspace(0, 10, num=15) \n",
    "y  = np.cos(-x**2/9.0)\n",
    "f  = interp1d(x, y)  \n",
    "f2 = interp1d(x, y, kind='cubic') #Declaración de clases como funciones\n",
    "f3 = interp1d(x, y, kind='next')  \n",
    "\n",
    "xnew = np.linspace(0, 10, num=50) #Resolución objetivo\n",
    "\n",
    "plt.figure(figsize=(9,5))\n",
    "plt.plot(x, y, 'o', \n",
    "         xnew, f(xnew), '-', \n",
    "         xnew, f2(xnew), '--', \n",
    "         xnew, f3(xnew),':')\n",
    "\n",
    "plt.legend(['data', 'linear', 'cubic', 'next'], loc='best')\n",
    "plt.show()"
   ]
  },
  {
   "cell_type": "markdown",
   "metadata": {},
   "source": [
    "Para la interpolación multivariable o n-dimensional necesitamos los valores a interpolar en el respectivo arreglo matricial.\n",
    "\n",
    "Así como definir la resolución de la interpolación de salida que buscamos.\n",
    "\n",
    "La clase a emplear es 'griddata'\n",
    "\n",
    ">griddata()\n",
    "\n",
    "* Lista de argumentos*"
   ]
  },
  {
   "cell_type": "code",
   "execution_count": null,
   "metadata": {
    "scrolled": true
   },
   "outputs": [],
   "source": [
    "import numpy as np\n",
    "import matplotlib.pyplot as plt\n",
    "from scipy.interpolate import griddata\n",
    "\n",
    "def func(x, y):\n",
    "      return np.sin(x**2+y**2)/(x**2+y**2)\n",
    "\n",
    "grid_x, grid_y = np.mgrid[-1:1:100j, -1:1:100j] #Declaración de la grid, con resolución de 100*100\n",
    "\n",
    "points = 2*(np.random.rand(50, 2)-0.5)\n",
    "values = func(points[:,0], points[:,1])\n",
    "\n",
    "#Métodos provados: near, linear, cubic\n",
    "\n",
    "grid_Or = func(grid_x, grid_y) #Función evaluada\n",
    "grid_z0 = griddata(points, values, (grid_x, grid_y), method='nearest')\n",
    "grid_z1 = griddata(points, values, (grid_x, grid_y), method='linear')\n",
    "grid_z2 = griddata(points, values, (grid_x, grid_y), method='cubic')\n",
    "# One can see that the exact result is reproduced by all of the methods to some degree,\n",
    "# but for this smooth function the piecewise cubic interpolant gives the best results:\n",
    "\n",
    "plt.figure(figsize=(15,10))\n",
    "methods = ['Original','Nearest','Linear','Cubic']\n",
    "graphs  = [grid_Or,grid_z0,grid_z1,grid_z2]\n",
    "count   = 1;\n",
    "for i in methods:\n",
    "    plt.subplot(2,2,count)\n",
    "    plt.imshow(graphs[count-1], extent=(-1,1,-1,1), origin='lower')\n",
    "    if(count==1): plt.plot(points[:,0], points[:,1], 'k.', ms=1)      #Colocar los puntos random sobre la primer figura\n",
    "    plt.title(i)\n",
    "    count=count+1\n",
    "plt.show()"
   ]
  },
  {
   "cell_type": "markdown",
   "metadata": {},
   "source": [
    "Interpolación por spline\n",
    "---\n",
    "Esta clase nos servirá para calcular derivadas de una trayectoria interpolada así como evaluar puntos sobre la misma.\n",
    "> interpolate.splrep: representación de la interpolación\n",
    "\n",
    "> interpolate.splev   : evaluación de la interpolación, permite obtener aproximacióndes de derivadas\n",
    "\n",
    "> interpolate.splroot : raíces de la función interpolada"
   ]
  },
  {
   "cell_type": "code",
   "execution_count": null,
   "metadata": {},
   "outputs": [],
   "source": [
    "import numpy as np\n",
    "import matplotlib.pyplot as plt\n",
    "from scipy import interpolate\n",
    "\n",
    "#Spline cubic\n",
    "\n",
    "x = np.arange(0, 2*np.pi+np.pi/4, np.pi/2)\n",
    "y = np.sin(x)\n",
    "tck = interpolate.splrep(x, y, s=0) # s: smoth, suavisa o no la función interpolada\n",
    "\n",
    "xnew = np.arange(0, 2*np.pi, np.pi/50)\n",
    "ynew = interpolate.splev(xnew, tck, der=0)\n",
    "\n",
    "plt.figure(figsize=(12,8))\n",
    "plt.plot(x, y, 'x',\n",
    "         xnew, ynew,\n",
    "         xnew, np.sin(xnew),\n",
    "         x, y, 'b')\n",
    "plt.legend(['Data', 'Linear', 'Cubic Spline', 'sin(x)'])\n",
    "plt.title('Interpolación de spline cubica')\n",
    "plt.show()\n",
    "\n",
    "#Derivada\n",
    "\n",
    "yder = interpolate.splev(xnew, tck, der=1)\n",
    "plt.figure()\n",
    "plt.plot(xnew, yder,\n",
    "         xnew,np.cos(xnew),'--')\n",
    "plt.legend(['Cubic Spline', 'cos(x)'])\n",
    "plt.title('Estimación de la derivada')\n",
    "plt.show()\n",
    "\n",
    "A   = interpolate.sproot(tck)\n",
    "    #Es necesario que las raices estén contenidad por ambos lados al momento de buscar sus raíces\n",
    "x   = np.linspace(-np.pi/4, 2.*np.pi + np.pi/4, 21)\n",
    "y   = np.sin(x)\n",
    "tck = interpolate.splrep(x, y, s=0)\n",
    "B   = interpolate.sproot(tck)\n",
    "\n",
    "print('Raices: \\n ',A)\n",
    "print('Raices: \\n ',B)"
   ]
  },
  {
   "cell_type": "markdown",
   "metadata": {},
   "source": [
    "## FT\n",
    "\n",
    "La transformada de fourier, TF o FT en inglés; es una transformación lineal que lleva de un espacio temporal a un espacio frecuencial o de repeticiones/muestras. \n",
    "\n",
    "La teoría mátematica entorno a transformaciones lineales, transformada de fourier, discretización de la misma y su algoritmo de optimización se dejan de lado en este curso por motivos de tiempo.\n",
    "\n",
    "Sin embargo se verá la transformada debido a su importancia en el analisis de datos, primordialmente para entender caracteristicas de una señal que no están presentes en su representación temporal.\n",
    "\n",
    "La transformada de fourier se define como:\n",
    "$$ F(\\tau) = \\int_{-\\infty}^{\\infty}f(x)e^{-2 \\pi i x \\tau} dx $$\n",
    "\n",
    "Pero la transformada rápida de fourier FFT que es el algoritmo computacional discreto, se define como:\n",
    "$$ y[k]= \\Sigma_{n=0}^{N-1}e^{-2 \\pi j x \\tfrac{kn}{N}} x[n] $$\n",
    "\n",
    "Las funciones relacionadas a esta transformación lineal se encuentran en la paquetería scipy.fftpack\n",
    "\n",
    "#### fft / ifft\n"
   ]
  },
  {
   "cell_type": "markdown",
   "metadata": {},
   "source": [
    "<img src='Class3D/FT.gif'>"
   ]
  },
  {
   "cell_type": "code",
   "execution_count": null,
   "metadata": {
    "scrolled": true
   },
   "outputs": [],
   "source": [
    "import matplotlib.pyplot as plt\n",
    "import numpy as np\n",
    "from scipy.fftpack import fft,ifft\n",
    "\n",
    "N = 600 # Puntos\n",
    "T = 1.0 / 800.0 #Periodo de muestreo / inv. Frecuencia de muestreo\n",
    "x = np.linspace(0.0, N*T, N) # vector de tiempo de 1 seg\n",
    "\n",
    "#Creación de señal del tipo: sin(2 Pi f t) \n",
    "y = np.cos(10.0 * 2.0*np.pi*x) + 0.5*np.cos(40.0 * 2.0*np.pi*x)\n",
    "yf = fft(y) #Transformada\n",
    "\n",
    "#Conversión del tiempo a espacio de frecuencias\n",
    "#      frec=0 a N con intervalos de 1/(2T)\n",
    "xf = np.linspace(0.0, 1.0/(2.0*T), N//2)\n",
    "plt.figure(figsize=(20,25))\n",
    "plt.subplot(4,1,1)\n",
    "plt.plot(x,y)\n",
    "plt.title('Señal original')\n",
    "plt.xlabel('Tiempo (s)')\n",
    "plt.ylabel('Amplitud')\n",
    "\n",
    "plt.subplot(4,1,2)\n",
    "plt.stem(xf, 2.0/N * np.abs(yf[0:N//2])) \n",
    "#Nota, la fft retorna valores complejos, sin embargo el absoluto y su fase nos dan información de la señal\n",
    "plt.grid()\n",
    "plt.title('Magnitud de la transformada')\n",
    "plt.xlabel('Frecuecia (Hz)')\n",
    "plt.ylabel('Magnitud')\n",
    "\n",
    "plt.subplot(4,1,3)\n",
    "plt.plot(xf,np.angle(yf[0:N//2]))\n",
    "plt.grid()\n",
    "plt.title('Fase de la transformada')\n",
    "plt.xlabel('Frecuencia (Hz)')\n",
    "plt.ylabel('Fase (rads)')\n",
    "\n",
    "plt.subplot(4,1,4)\n",
    "plt.plot(x,ifft(yf))\n",
    "plt.title('Inversa de la transformada')\n",
    "plt.xlabel('Tiempo (s)')\n",
    "plt.ylabel('Amplitud')\n",
    "plt.show()"
   ]
  },
  {
   "cell_type": "markdown",
   "metadata": {},
   "source": [
    "La transformada de Fourier, como otras transformadas se puede extender a n-dimensiones, funcionando así para señales que distribullen sus valores a lo aplio de un plano. Tal como es el caso de las imagenes, a continuación se muestra un ejemplo rápido de la transformación y la inversa"
   ]
  },
  {
   "cell_type": "code",
   "execution_count": null,
   "metadata": {},
   "outputs": [],
   "source": [
    "from scipy.fftpack import ifftn\n",
    "import matplotlib.pyplot as plt\n",
    "import matplotlib.cm as cm\n",
    "\n",
    "\n",
    "N = 31\n",
    "f, ((ax1, ax3, ax5), (ax2, ax4, ax6)) = plt.subplots(2, 3, sharex='col', sharey='row')\n",
    "\n",
    "\n",
    "xf = np.zeros((N,N))\n",
    "xf[0, 5] = 1\n",
    "xf[0, N-5] = 1\n",
    "Z = ifftn(xf)\n",
    "ax1.imshow(xf, cmap=cm.Reds)\n",
    "ax2.imshow(np.abs(Z), cmap=cm.gray)\n",
    "\n",
    "xf = np.zeros((N, N))\n",
    "xf[5, 0] = 1\n",
    "xf[N-5, 0] = 1\n",
    "Z = ifftn(xf)\n",
    "ax3.imshow(xf, cmap=cm.Reds)\n",
    "ax4.imshow(np.abs(Z), cmap=cm.gray)\n",
    "\n",
    "xf = np.zeros((N, N))\n",
    "xf[5, 5] = 1\n",
    "xf[N-5, N-5] = 1\n",
    "Z = ifftn(xf)\n",
    "ax5.imshow(xf, cmap=cm.Reds)\n",
    "ax6.imshow(np.abs(Z), cmap=cm.gray)\n",
    "\n"
   ]
  },
  {
   "cell_type": "markdown",
   "metadata": {},
   "source": [
    "## Estádistica\n",
    "La paquetería scipy.stats orientada a la estadistica nos ofrece un conjunto de funciones y herramientas para la estádistica en general. A continuación se nombrarán algunos métodos generales.\n",
    "\n",
    "Para una lista de todas las funciones disponibles en la paquetería recomendamos revisar la documentación en el siguiente enlace:\n",
    "https://docs.scipy.org/doc/scipy/reference/stats.html\n",
    "\n",
    "### Funciones elementales\n",
    "* Media\n",
    "* Varianza\n",
    "* Desviación Estandar\n",
    "\n",
    "> norm.mean(),  norm.var(), norm.std()\n",
    "\n",
    "$$ \\bar{X}=\\dfrac{ 1}{N}\\Sigma_{i=0}^N{x_i}, \\ \\ \\ \\ \\ \\sigma^2_n=\\dfrac{1}{n}{\\Sigma_{i=0}^{N}{(x_i-\\bar{X})^2}}, \\ \\ \\ \\ \\ \\sigma $$"
   ]
  },
  {
   "cell_type": "code",
   "execution_count": null,
   "metadata": {},
   "outputs": [],
   "source": [
    "from scipy.stats import norm #Importamos la distribución normal\n",
    "\n",
    "print (norm.mean())\n",
    "print(norm.var())\n",
    "print(norm.std())"
   ]
  },
  {
   "cell_type": "markdown",
   "metadata": {},
   "source": [
    "\n",
    "#### Repaso de propiedades estádisticas y distribución de probabilidad estandar \n",
    "---\n",
    "Función de probabilidad de masa\n",
    "\n",
    "$$p(x_k)=P[X=x_k] $$\n",
    "$$f(x) = \\sum_k \\ {p(x_k)\\delta (x-x_k)}$$\n",
    "\n",
    "Función acumulativa\n",
    "\n",
    "$$F(x)=P[X<x] $$\n",
    "\n",
    "Función superviviente\n",
    "\n",
    "$$S(x)=1-F(x)=P[X>x] $$\n",
    "\n",
    "Inversa de la función acumulativa\n",
    "\n",
    "$$ G(q)=F^{-1}(q) $$\n",
    "\n",
    "Inversa de la superviviente\n",
    "\n",
    "$$  Z(\\alpha)=S^{-1}(\\alpha)=G(1-\\alpha)$$\n",
    "\n",
    "Momentos Geneales\n",
    "\n",
    "$$ \\mu^{'}_m =\\sum_k{x_k^m p(x_k)} $$\n",
    "*Promedio*\n",
    "$$\\mu= \\mu^{'}_1 =\\sum_k{x_k p(x_k)}  $$\n",
    "*Varianza*\n",
    "$$\\sigma = \\mu^{'}_2 =\\sum_{x_k}{x_k^2 p(x_k)} - \\mu^2 $$\n",
    "*Asimetria*\n",
    "$$ \\gamma_1 = \\dfrac{\\mu_3}{\\mu_2^{3/2}} $$\n",
    "*Kurtosis de fisher*\n",
    "$$ \\gamma_2 = \\dfrac{\\mu_4}{\\mu_2^2}-3$$\n",
    "\n",
    "\n",
    "\n"
   ]
  },
  {
   "cell_type": "code",
   "execution_count": null,
   "metadata": {},
   "outputs": [],
   "source": [
    "from scipy.stats import skewnorm\n",
    "import matplotlib.pyplot as plt\n",
    "fig, ax = plt.subplots(1, 1)\n",
    "\n",
    "# Parametro de asimetria\n",
    "a = -0\n",
    "\n",
    "mean, var, skew, kurt = skewnorm.stats(a, moments='mvsk')\n",
    "x = np.linspace(skewnorm.ppf(0.01, a)-1,\n",
    "                 skewnorm.ppf(0.99, a)+1, 100)\n",
    "ax.plot(x, skewnorm.pdf(x, a),\n",
    "        'r-', lw=5, alpha=0.6, label='skewnorm pdf')\n",
    "\n",
    "# Generar muestras aleatorias\n",
    "r = skewnorm.rvs(a, size=1000)\n",
    "ax.hist(r, density=True, bins=10,\n",
    "        histtype='stepfilled', alpha=0.2)\n",
    "\n",
    "title = 'Asimetria=' + str(a) + '    Media=' + \"{0:.2f}\".format(mean)\n",
    "ax.axvline(x=mean)\n",
    "\n",
    "desEst = np.sqrt(var)\n",
    "ax.axvspan(xmin=mean-desEst, \n",
    "          xmax=mean+desEst,\n",
    "          alpha=0.3)\n",
    "\n",
    "plt.xticks([mean - desEst, mean, mean + desEst],\n",
    "          ['$\\mu-\\sigma$ \\n' + \"{0:.2f}\".format(mean - desEst),\n",
    "           '$\\mu$',\n",
    "           '$\\mu+\\sigma$ \\n' + \"{0:.2f}\".format(mean + desEst)])\n",
    "plt.title(title)\n",
    "plt.show()"
   ]
  },
  {
   "cell_type": "markdown",
   "metadata": {},
   "source": [
    "## Distribuciones de Probabilidad\n",
    "\n",
    "<img src='Class3D/distribution.png'>\n",
    "\n",
    "### Distribuciones Discretas\n",
    "---\n",
    "\n",
    "Las distribuciones discretas parametrizan y describen  el comportamiento de eventos en los cuales se obtiene la probabilidad de observar en elemento predefinido perteneciente a un conjunto.\n",
    "\n",
    "Ejemplo: Probabilidades de obtener un lado de una moneda, probabilidades de obtener un número al lanzar dados."
   ]
  },
  {
   "cell_type": "markdown",
   "metadata": {},
   "source": [
    "#### Todas las distribuciones de acontinuación poseen la siguiente lista de métodos\n",
    "---\n",
    "|Nombre|Escritura\n",
    "|---|---\n",
    "|Variables aleatorias | rvs(n, p, loc=0, size=1, random_state=None)\t\n",
    "|Función de probabilidad de masa| pmf(k, n, p, loc=0)\t\n",
    "|Logaritmo de pmf| logpmf(k, n, p, loc=0)\t\n",
    "|Función de distribución acumulativa| cdf(k, n, p, loc=0)\t\n",
    "|Logaritmo de cdf |logcdf(k, n, p, loc=0)\t\n",
    "|Función de supervivencia|sf(k, n, p, loc=0)\t\n",
    "|Logaritmo de sf|logsf(k, n, p, loc=0)\t\n",
    "|Inversa de sd | isf(q, n, p, loc=0)\t\n",
    "|Caracteristicas| stats(n, p, loc=0, moments=’mv’) \n",
    "|Retorna| Media, varianza, asimetria y kurtosis|\n",
    "|Entropia|entropy(n, p, loc=0)\t\n",
    "|Mediana|median(n, p, loc=0)\t\n",
    "|Media  |mean(n, p, loc=0)\t\n",
    "|Varianza |var(n, p, loc=0)\t\n",
    "|Derivación Estandar| std(n, p, loc=0)\t\n",
    "\n",
    "Donde las expresiones\n",
    "> k, q, n, p: son dependientes de cada una de las propiedades que calculamos\n",
    "\n",
    "> loc=0: Es referente a la centralización o centro de la distribución \n"
   ]
  },
  {
   "cell_type": "markdown",
   "metadata": {},
   "source": [
    "#### Distribuciones a ver\n",
    "* Bernoulli\n",
    "* Binomial\n",
    "\n",
    "Las siguentes distribuciones se encuentran presentes en la paquetería:\n",
    "    * Bernoulli\n",
    "    * Binomial\n",
    "    * Boltzman\n",
    "    * Plank\n",
    "    * Poisson\n",
    "    * Geometrica\n",
    "    * Binomial Negativa\n",
    "    * Hyper Geometrica\n",
    "    * Zipf\n",
    "    * Logaritmica\n",
    "    * Distribución laplaciana discreta\n",
    "    * Distribución discreta uniforme\n",
    "\n",
    "##### Bernoulli\n",
    "$$f(k)= \\Bigg\\{  \\begin{array}{cc}  1-p \\ si \\ k=0 \\\\ p \\ si \\ k=1 \\end{array}, donde \\ k \\in \\{0,1\\}$$"
   ]
  },
  {
   "cell_type": "code",
   "execution_count": null,
   "metadata": {},
   "outputs": [],
   "source": [
    "from scipy.stats import bernoulli\n",
    "import numpy as np\n",
    "import matplotlib.pyplot as plt\n",
    "fig, ax = plt.subplots(1, 1)\n",
    "\n",
    "p = 0.3\n",
    "mean, var, skew, kurt = bernoulli.stats(p, moments='mvsk')\n",
    "\n",
    "print(\"Valor medio: \", mean,\n",
    "      \"\\nVarianza:\", var,\n",
    "      \"\\nAsimetria:\",skew,\n",
    "      \"\\nKurtosis:\",kurt)\n",
    "\n",
    "x = np.arange(0,1.1,0.1)\n",
    "ax.plot(x, bernoulli.pmf(x, p), 'bo', ms=8)\n",
    "ax.vlines(x, 0, bernoulli.pmf(x, p), colors='b', lw=5, alpha=0.5)\n",
    "plt.title(\"Bernoulli\")\n",
    "plt.xlabel(\"Eventos\")\n",
    "plt.ylabel(\"Probabilidades\")\n",
    "\n",
    "plt.show()\n"
   ]
  },
  {
   "cell_type": "markdown",
   "metadata": {},
   "source": [
    "##### Binomial\n",
    "$$f(k)=\\binom{n}{k}p^k(1-p)^{n-k} , \\  donde \\ k \\in \\{0,1,2,3,...,n\\}$$"
   ]
  },
  {
   "cell_type": "code",
   "execution_count": null,
   "metadata": {},
   "outputs": [],
   "source": [
    "from scipy.stats import binom\n",
    "import numpy as np\n",
    "import matplotlib.pyplot as plt\n",
    "fig, ax = plt.subplots(1, 1)\n",
    "\n",
    "n, p = 4, 0.5\n",
    "mean, var, skew, kurt = binom.stats(n,p, moments='mvsk')\n",
    "\n",
    "print(\"Valor medio: \", mean, \"\\nVarianza:\", var,\"\\nAsimetria:\",skew,\"\\nKurtosis:\",kurt)\n",
    "\n",
    "x = np.arange(0,5.1,1)\n",
    "ax.plot(x, binom.cdf(x, n, p), 'bo', ms=8)\n",
    "ax.vlines(x, 0, binom.pmf(x, n, p), colors='b', lw=5, alpha=0.5)\n",
    "plt.title(\"Binomial\")\n",
    "plt.xlabel(\"Eventos\")\n",
    "plt.ylabel(\"Probabilidades\")\n",
    "\n",
    "plt.show()"
   ]
  },
  {
   "cell_type": "markdown",
   "metadata": {},
   "source": [
    "### Distribuciones Continuas\n",
    "---\n",
    "\n",
    "Las distribuciones continuas sirven para medir probabilidades sobre variables que pueden caer en un rango de valores dentro de los números reales.\n",
    "\n",
    "Distribuciones a ver:\n",
    "* Normal\n",
    "* Beta\n",
    "\n",
    "Las siguentes distribuciones se encuentran presentes en la paquetería:\n",
    "    * Alpha \n",
    "    * Beta\n",
    "    * Chi-cuadrada\n",
    "    * Coseno\n",
    "    * Exponencial\n",
    "    * Hiperbólica\n",
    "    * T-student\n",
    "    * Gauss asimétrica\n",
    "    * https://docs.scipy.org/doc/scipy-1.1.0/reference/tutorial/stats/continuous.html\n",
    "\n"
   ]
  },
  {
   "cell_type": "markdown",
   "metadata": {},
   "source": [
    "##### Normal\n",
    "\n",
    "$$f(x)=\\frac{1}{\\sqrt{2\\pi\\sigma}} * e^{-\\frac{(x-\\mu)^2}{2\\sigma^2}}$$\n"
   ]
  },
  {
   "cell_type": "code",
   "execution_count": null,
   "metadata": {},
   "outputs": [],
   "source": [
    "from scipy.stats import norm\n",
    "import matplotlib.pyplot as plt\n",
    "\n",
    "mean = 30\n",
    "std = 20\n",
    "\n",
    "x = np.linspace(norm.ppf(0.001, loc=mean, scale=std),\n",
    "               norm.ppf(0.999, loc=mean, scale=std),\n",
    "               1000)\n",
    "\n",
    "# Genrar muestras aleatorias\n",
    "r = norm.rvs(size=1000, loc=mean, scale=std)\n",
    "\n",
    "plt.plot(x, norm.pdf(x, loc=mean, scale=std),\n",
    "         'r-', lw=5, alpha=0.6,)\n",
    "plt.hist(r, density=True, \n",
    "         histtype='stepfilled', alpha=0.2)\n",
    "\n",
    "plt.axvline(x=mean)\n",
    "plt.show()"
   ]
  },
  {
   "cell_type": "code",
   "execution_count": null,
   "metadata": {},
   "outputs": [],
   "source": [
    "plt.plot(x, norm.cdf(x, loc=mean, scale=std),\n",
    "         'r-', lw=5, alpha=0.6,)\n",
    "plt.hist(r, density=True, histtype='stepfilled', \n",
    "         alpha=0.2, cumulative=True)\n",
    "plt.axvline(x=mean)\n",
    "plt.axhline(y=0.5)\n",
    "plt.show()"
   ]
  },
  {
   "cell_type": "markdown",
   "metadata": {},
   "source": [
    "##### Beta\n",
    "\n",
    "$$f(x)=\\frac{x^{\\alpha-1}(1-x)^{\\beta-1}}{B(a, b)}$$\n",
    "\n",
    "$$B(\\alpha, \\beta) = \\frac{\\Gamma(\\alpha) + \\Gamma(\\beta)}{\\Gamma(\\alpha+\\beta)}$$"
   ]
  },
  {
   "cell_type": "code",
   "execution_count": null,
   "metadata": {},
   "outputs": [],
   "source": [
    "from scipy.stats import beta\n",
    "\n",
    "a = 10\n",
    "b = 300\n",
    "\n",
    "mean = a/(a+b)\n",
    "\n",
    "x = np.linspace(beta.ppf(0.001, a, b),\n",
    "               beta.ppf(0.999, a, b),\n",
    "               1000)\n",
    "\n",
    "r = beta.rvs(a, b, size=1000)\n",
    "\n",
    "plt.plot(x, beta.pdf(x, a, b),\n",
    "         'r-', lw=5, alpha=0.6,)\n",
    "plt.hist(r, density=True, \n",
    "         histtype='stepfilled', alpha=0.2)\n",
    "\n",
    "plt.axvline(x=mean)\n",
    "plt.show()"
   ]
  },
  {
   "cell_type": "markdown",
   "metadata": {},
   "source": [
    "## Pruebas estadísticas\n",
    "Un factor importante a considerar en una investigación es la validez estadística que esta posee, esta está determinada por las muestras y las diferencias que presenten los fenómenos a estudiar."
   ]
  },
  {
   "cell_type": "code",
   "execution_count": null,
   "metadata": {},
   "outputs": [],
   "source": [
    "# Generar dos funciones normales\n",
    "\n",
    "puntos = 10\n",
    "media1 = 0.1\n",
    "media2 = 2\n",
    "\n",
    "des1 = 0.3\n",
    "des2 = 0.2\n",
    "\n",
    "x1 = norm.rvs(size=puntos, loc=media1)\n",
    "x2 = norm.rvs(size=puntos, loc=media2)\n",
    "plt.hist(x1,\n",
    "        alpha=0.3)\n",
    "plt.hist(x2,\n",
    "         alpha=0.3)\n",
    "plt.show()"
   ]
  },
  {
   "cell_type": "code",
   "execution_count": null,
   "metadata": {},
   "outputs": [],
   "source": [
    "# Prueba de t-student\n",
    "from scipy.stats import ttest_ind\n",
    "\n",
    "statistics, pvalue = ttest_ind(x1, x2, equal_var=False)\n",
    "print(\"El valor t de la prueba fue de: \", statistics)\n",
    "print(\"El valor p de la prueba fue de: \", pvalue)"
   ]
  },
  {
   "cell_type": "code",
   "execution_count": null,
   "metadata": {},
   "outputs": [],
   "source": [
    "# Prueba r de Pearson\n",
    "puntos = 100\n",
    "t = np.linspace(0, 1, puntos)\n",
    "x = np.sin(2 * np.pi *t)\n",
    "y = 1*x + np.random.randn(puntos)/10\n",
    "plt.plot(t, x,\n",
    "         alpha=0.3)\n",
    "plt.plot(t, y,\n",
    "         alpha=0.3)\n",
    "\n"
   ]
  },
  {
   "cell_type": "code",
   "execution_count": null,
   "metadata": {},
   "outputs": [],
   "source": [
    "from scipy.stats import pearsonr\n",
    "\n",
    "r, pvalue = pearsonr(x, y)\n",
    "print(\"El valor r de la prueba fue de: \", r)\n",
    "print(\"El valor p de la prueba fue de: \", pvalue)"
   ]
  },
  {
   "cell_type": "code",
   "execution_count": null,
   "metadata": {},
   "outputs": [],
   "source": [
    "x = (np.random.randn(100)) * 4 + 2\n",
    "\n",
    "mean, std = norm.fit(x)\n",
    "print(mean)\n",
    "print(std)"
   ]
  },
  {
   "cell_type": "markdown",
   "metadata": {},
   "source": [
    "## Pandas\n",
    "\n",
    "Pandas es una librería desarrollada para dar funcionalidades de manipulación de datos a Python. Está basado en las funciones de __R__ para procesamiento de datos."
   ]
  },
  {
   "cell_type": "code",
   "execution_count": null,
   "metadata": {},
   "outputs": [],
   "source": [
    "from __future__ import print_function\n",
    "import numpy as np\n",
    "import pandas as pd"
   ]
  },
  {
   "cell_type": "markdown",
   "metadata": {},
   "source": [
    "### Características\n",
    "* Objetos eficientes para manipulación de datos\n",
    "    * Serie\n",
    "    * DataFrame\n",
    "* Herramientas para lectura de archivos\n",
    "* Alineación de datos y manejo de datos faltantes\n",
    "* Múltiples de tipos de variables\n",
    "    * Objeto\n",
    "    * Int\n",
    "    * Float\n",
    "    * Bool\n",
    "    * datetime64\n",
    "    * timedelta\n",
    "    * Categoría\n",
    "* Graficación\n",
    "    * Histograma\n",
    "    * Dispersión\n",
    "    * Línea\n",
    "    * Pie\n",
    "    * Caja"
   ]
  },
  {
   "cell_type": "code",
   "execution_count": null,
   "metadata": {},
   "outputs": [],
   "source": [
    "df = pd.DataFrame((np.random.randn(1000, 4)) * np.array([1, 2, 0.5, 0.1]) + np.array([1, 3, 5, 7]),\n",
    "                  columns=['A', 'B', 'C', 'D'])"
   ]
  },
  {
   "cell_type": "code",
   "execution_count": null,
   "metadata": {},
   "outputs": [],
   "source": [
    "### Funciones para referencia"
   ]
  },
  {
   "cell_type": "code",
   "execution_count": null,
   "metadata": {},
   "outputs": [],
   "source": [
    "df.head()"
   ]
  },
  {
   "cell_type": "code",
   "execution_count": null,
   "metadata": {},
   "outputs": [],
   "source": [
    "df.describe()"
   ]
  },
  {
   "cell_type": "code",
   "execution_count": null,
   "metadata": {},
   "outputs": [],
   "source": [
    "df.info()"
   ]
  },
  {
   "cell_type": "markdown",
   "metadata": {},
   "source": [
    "### Manipulación de datos"
   ]
  },
  {
   "cell_type": "code",
   "execution_count": null,
   "metadata": {},
   "outputs": [],
   "source": [
    "# Accesar a las columnas\n",
    "print(df['A'])"
   ]
  },
  {
   "cell_type": "code",
   "execution_count": null,
   "metadata": {},
   "outputs": [],
   "source": [
    "print(df.A)"
   ]
  },
  {
   "cell_type": "code",
   "execution_count": null,
   "metadata": {},
   "outputs": [],
   "source": [
    "# Comparaciones\n",
    "print(df.A<0.5)"
   ]
  },
  {
   "cell_type": "code",
   "execution_count": null,
   "metadata": {},
   "outputs": [],
   "source": [
    "# Función loc\n",
    "df.loc[2:6, ['A', 'C']]"
   ]
  },
  {
   "cell_type": "code",
   "execution_count": null,
   "metadata": {},
   "outputs": [],
   "source": [
    "# Combinando funciones de manejo\n",
    "subset = df.loc[df['A']<0.1, ['A', 'B']]\n",
    "subset.describe()"
   ]
  },
  {
   "cell_type": "code",
   "execution_count": null,
   "metadata": {},
   "outputs": [],
   "source": [
    "# Usando query\n",
    "query1 = df.query('A<0.1 | B<0.2')\n",
    "query1.describe()"
   ]
  },
  {
   "cell_type": "code",
   "execution_count": null,
   "metadata": {},
   "outputs": [],
   "source": [
    "# Obtener un array de numpy\n",
    "print(df.query('A<0.1 & B<0.2').as_matrix())"
   ]
  },
  {
   "cell_type": "code",
   "execution_count": null,
   "metadata": {},
   "outputs": [],
   "source": [
    "# Funciones estadísticas\n",
    "print(\"Media de la columna A: \", df.A.mean())\n",
    "print(\"Desviación estándar de la columna A: \", df.A.std())\n",
    "print(\"Asimetría de la columna A: \", df.A.skew())\n",
    "print(\"Kurtosis de la columna A: \", df.A.kurt())\n",
    "print(\"Media de cada columna: \\n\", df.mean())"
   ]
  },
  {
   "cell_type": "markdown",
   "metadata": {},
   "source": [
    "# Lectura de datos\n",
    "Pandas permite la lectura de archivos csv, xlsx, txt, hdf5, entre otros.\n",
    "Para los ejemplos siguentes se usará el dataset _Iris_ (disponible en https://www.kaggle.com/jchen2186/machine-learning-with-iris-dataset)"
   ]
  },
  {
   "cell_type": "markdown",
   "metadata": {},
   "source": [
    "## Datset titanic\n",
    "\n",
    "El dataset de titanic muestra información sobre pasajeros de los cuales se tiene conocimiento de si sobrevivieron al accidente junto con datos personales. Algunos de estos datos sin embargo, son desconocidos para algunos pasajeros.\n"
   ]
  },
  {
   "cell_type": "code",
   "execution_count": null,
   "metadata": {},
   "outputs": [],
   "source": [
    "titanic = pd.read_csv('data/titanic-train.csv')\n",
    "titanic.head()"
   ]
  },
  {
   "cell_type": "code",
   "execution_count": null,
   "metadata": {},
   "outputs": [],
   "source": [
    "titanic.loc[titanic['Sex']=='male', ['Name']].head()"
   ]
  },
  {
   "cell_type": "code",
   "execution_count": null,
   "metadata": {},
   "outputs": [],
   "source": [
    "ordenado = titanic.sort_values('Age', ascending=False)\n",
    "ordenado.head()"
   ]
  },
  {
   "cell_type": "code",
   "execution_count": null,
   "metadata": {},
   "outputs": [],
   "source": [
    "# Función unique\n",
    "print(\"Valores posibles para la clase del pasajero: \", titanic['Pclass'].unique())\n",
    "print(\"Valores posibles para el género del pasajero: \", titanic['Sex'].unique())"
   ]
  },
  {
   "cell_type": "code",
   "execution_count": null,
   "metadata": {},
   "outputs": [],
   "source": [
    "print(\"Resumen de sobrevivientes: \\n\", titanic['Survived'].value_counts())"
   ]
  },
  {
   "cell_type": "code",
   "execution_count": null,
   "metadata": {},
   "outputs": [],
   "source": [
    "# Función de groupby\n",
    "titanic.groupby(['Pclass', 'Survived'])['PassengerId'].count()"
   ]
  },
  {
   "cell_type": "code",
   "execution_count": null,
   "metadata": {},
   "outputs": [],
   "source": [
    "titanic.pivot_table(index='Pclass',\n",
    "                   columns='Survived',\n",
    "                   values='PassengerId',\n",
    "                   aggfunc='count')"
   ]
  },
  {
   "cell_type": "code",
   "execution_count": null,
   "metadata": {},
   "outputs": [],
   "source": [
    "# Correlación\n",
    "corr_sobrevivir = titanic.corr()['Survived'].sort_values()\n",
    "corr_sobrevivir.plot.bar()"
   ]
  },
  {
   "cell_type": "markdown",
   "metadata": {},
   "source": [
    "### Funciones visualización"
   ]
  },
  {
   "cell_type": "code",
   "execution_count": null,
   "metadata": {},
   "outputs": [],
   "source": [
    "%matplotlib inline\n",
    "import matplotlib.pyplot as plt"
   ]
  },
  {
   "cell_type": "code",
   "execution_count": null,
   "metadata": {},
   "outputs": [],
   "source": [
    "df.plot(subplots=False)"
   ]
  },
  {
   "cell_type": "code",
   "execution_count": null,
   "metadata": {},
   "outputs": [],
   "source": [
    "df.plot.hist(alpha=0.4,\n",
    "            bins=100)"
   ]
  },
  {
   "cell_type": "code",
   "execution_count": null,
   "metadata": {},
   "outputs": [],
   "source": [
    "df.plot.kde()"
   ]
  },
  {
   "cell_type": "code",
   "execution_count": null,
   "metadata": {},
   "outputs": [],
   "source": [
    "df.plot.box()"
   ]
  },
  {
   "cell_type": "markdown",
   "metadata": {},
   "source": [
    "## Dataset Iris\n",
    "\n",
    "El dataset Iris contiene información sobre medidas de diversas flores. Es muy usado para ejemplificar modelos de clasificación y agrupamiento."
   ]
  },
  {
   "cell_type": "code",
   "execution_count": null,
   "metadata": {},
   "outputs": [],
   "source": [
    "iris = pd.read_csv('Data/Iris.csv')\n",
    "iris.head()"
   ]
  },
  {
   "cell_type": "code",
   "execution_count": null,
   "metadata": {},
   "outputs": [],
   "source": [
    "iris.describe()"
   ]
  },
  {
   "cell_type": "code",
   "execution_count": null,
   "metadata": {},
   "outputs": [],
   "source": [
    "iris.corr()"
   ]
  },
  {
   "cell_type": "code",
   "execution_count": null,
   "metadata": {},
   "outputs": [],
   "source": [
    "iris.plot.scatter(x='sepal_length', y='sepal_width',\n",
    "               alpha=0.4)"
   ]
  },
  {
   "cell_type": "code",
   "execution_count": null,
   "metadata": {},
   "outputs": [],
   "source": [
    "iris.plot.scatter(x='sepal_length', y='sepal_width',\n",
    "                c='petal_length')"
   ]
  },
  {
   "cell_type": "code",
   "execution_count": null,
   "metadata": {},
   "outputs": [],
   "source": [
    "from pandas.plotting import scatter_matrix\n",
    "scatter_matrix(iris, alpha=0.2, figsize=(8, 8), diagonal='hist')\n",
    "plt.show()"
   ]
  },
  {
   "cell_type": "markdown",
   "metadata": {},
   "source": [
    "## ggplot\n",
    "\n",
    "ggplot es una librería usada ampliamente para análisis de datos. Está basado en las reglas para visualizar información a través de gráficas en _The Grammar of Graphics_ https://www.springer.com/us/book/9780387245447\n",
    "\n",
    "Las gráficas de ggplot incorporan dos elementos principales:\n",
    "\n",
    "* aesthetics: Mapea los valores a características de la gráfica como ejes, colores, tamaño, etc.\n",
    "* geoms: Selecciona cuáles gráficas se generan con los datos, es posible sobreponerlas y modificarlas individualmente. Se añaden usando el símbolo de suma \"+\".\n",
    "\n",
    "Diversas implementaciones de ggplot han sido desarrolladas para Python.\n",
    "\n",
    "### Plotnine\n",
    "\n",
    "Implementación de ggplot2 en Python. Funciona con los mismos comandos que ggplot2 en R para facilitar la transición entre lenguajes.\n",
    "\n",
    "conda install -c conda-forge plotnine   \n",
    "pip3 install plotnine\n",
    "\n",
    "pip3 install ggplot\n",
    "\n",
    "\n",
    "#### Actualización de pip\n",
    "python -m pip install --upgrade pip"
   ]
  },
  {
   "cell_type": "code",
   "execution_count": null,
   "metadata": {},
   "outputs": [],
   "source": [
    "from plotnine import *\n",
    "#from plotnine import *"
   ]
  },
  {
   "cell_type": "code",
   "execution_count": null,
   "metadata": {},
   "outputs": [],
   "source": [
    "p = ggplot(aes(x='sepal_length',\n",
    "              color='species',\n",
    "              fill='species'), data=iris) + geom_density(alpha=0.5)# + geom_dotplot(bins=25, alpha=0.5)\n",
    "p"
   ]
  },
  {
   "cell_type": "code",
   "execution_count": null,
   "metadata": {},
   "outputs": [],
   "source": [
    "p = ggplot(aes(x='species', \n",
    "               y = 'sepal_length',\n",
    "               color='species',\n",
    "              fill='species'), data=iris) + geom_jitter() +  geom_violin(alpha=0.4)\n",
    "p"
   ]
  },
  {
   "cell_type": "code",
   "execution_count": null,
   "metadata": {},
   "outputs": [],
   "source": [
    "p = ggplot(aes(x='species', \n",
    "               y = 'sepal_length',\n",
    "               color='species',\n",
    "               fill='species'), data=iris) +  geom_boxplot(alpha=0.5) + geom_jitter()\n",
    "p"
   ]
  },
  {
   "cell_type": "code",
   "execution_count": null,
   "metadata": {},
   "outputs": [],
   "source": [
    "ggplot(aes(x='sepal_length', y='sepal_width'), data=iris) + geom_jitter()\n"
   ]
  },
  {
   "cell_type": "code",
   "execution_count": null,
   "metadata": {},
   "outputs": [],
   "source": [
    "ggplot(aes(x='sepal_length', y='sepal_width', \n",
    "           color='species', size='petal_length'), \n",
    "           data=iris) + geom_jitter()"
   ]
  },
  {
   "cell_type": "code",
   "execution_count": null,
   "metadata": {},
   "outputs": [],
   "source": [
    "ggplot(aes(x='sepal_length', y='sepal_width', \n",
    "           color='species', size='petal_length'), \n",
    "           data=iris) + geom_point()"
   ]
  },
  {
   "cell_type": "code",
   "execution_count": null,
   "metadata": {},
   "outputs": [],
   "source": [
    "ggplot(aes(x='sepal_length', y='sepal_width', \n",
    "           color='species', size='petal_length'), \n",
    "           data=iris) + geom_point() + \\\n",
    "           geom_hline(yintercept=[2.7, 4.5, 3.5], linetype='dashed') + \\\n",
    "           geom_vline(xintercept=[4.1, 6], linetype='dashed')"
   ]
  },
  {
   "cell_type": "code",
   "execution_count": null,
   "metadata": {},
   "outputs": [],
   "source": [
    "ggplot(aes(x='sepal_length', y='sepal_width', \n",
    "           color='species'), \n",
    "           data=iris) + geom_point() + facet_wrap('species')"
   ]
  },
  {
   "cell_type": "code",
   "execution_count": null,
   "metadata": {},
   "outputs": [],
   "source": [
    "ggplot(aes(x='sepal_length', y='sepal_width', \n",
    "           color='species'), \n",
    "           data=iris) + geom_point() + facet_wrap('species') + geom_quantile()"
   ]
  },
  {
   "cell_type": "code",
   "execution_count": null,
   "metadata": {},
   "outputs": [],
   "source": [
    "ggplot(aes(x='sepal_length', y='sepal_width', \n",
    "           color='species'), \n",
    "           data=iris) + geom_point() \\\n",
    "            + facet_wrap('species') \\\n",
    "            + geom_smooth(method='lm')"
   ]
  },
  {
   "cell_type": "code",
   "execution_count": null,
   "metadata": {},
   "outputs": [],
   "source": [
    "ggplot(aes(x='sepal_length',\n",
    "           y='sepal_width', \n",
    "           color='species'), \n",
    "           data=iris) + geom_point() \\\n",
    "            + facet_wrap('species', scales='free_x') \\\n",
    "            + geom_step()"
   ]
  },
  {
   "cell_type": "code",
   "execution_count": null,
   "metadata": {},
   "outputs": [],
   "source": [
    "ggplot(aes(x='sepal_length', y='sepal_width', \n",
    "           color='species', fill='species'), \n",
    "           data=iris) + geom_bin2d(alpha=0.5, binwidth = (0.3, 0.3))"
   ]
  },
  {
   "cell_type": "code",
   "execution_count": null,
   "metadata": {},
   "outputs": [],
   "source": [
    "trade = pd.read_csv('data/cansim.csv', skiprows=6,\n",
    "                 skipfooter=10)\n",
    "trade.Adjustments = pd.to_datetime(trade.Adjustments,  errors='coerce')\n",
    "trade.head()"
   ]
  },
  {
   "cell_type": "code",
   "execution_count": null,
   "metadata": {},
   "outputs": [],
   "source": [
    "ggplot(aes(x='Adjustments',\n",
    "           y='Unadjusted'), data=trade) + geom_line()"
   ]
  },
  {
   "cell_type": "code",
   "execution_count": null,
   "metadata": {},
   "outputs": [],
   "source": [
    "ggplot(aes(x='Adjustments', y='Unadjusted'), data=trade) + geom_line() \\\n",
    "    + geom_smooth(method='lm', level=0.9)"
   ]
  },
  {
   "cell_type": "code",
   "execution_count": null,
   "metadata": {},
   "outputs": [],
   "source": [
    "ggplot(aes(x='Adjustments', y='Unadjusted'), data=trade) + geom_line() \\\n",
    "    + geom_ribbon(alpha=0.3, ymax=trade.Unadjusted+3e6, ymin=trade.Unadjusted-3e6)"
   ]
  },
  {
   "cell_type": "code",
   "execution_count": null,
   "metadata": {},
   "outputs": [],
   "source": [
    "trade2 = pd.melt(trade, id_vars='Adjustments')\n",
    "trade2.head()"
   ]
  },
  {
   "cell_type": "code",
   "execution_count": null,
   "metadata": {},
   "outputs": [],
   "source": [
    "ggplot(aes(x='value', color='variable', fill='variable'), data=trade2) \\\n",
    "    + geom_density(alpha=0.8)"
   ]
  },
  {
   "cell_type": "code",
   "execution_count": null,
   "metadata": {},
   "outputs": [],
   "source": [
    "ggplot(aes(x='Adjustments', y='value', color='variable'), data=trade2) \\\n",
    "    + geom_line() + geom_point()"
   ]
  },
  {
   "cell_type": "code",
   "execution_count": null,
   "metadata": {},
   "outputs": [],
   "source": [
    "ggplot(aes(x='Adjustments', y='value', color='variable'), data=trade2) \\\n",
    "    + geom_line() + geom_point() + facet_wrap('variable', nrow=2, ncol=1)"
   ]
  },
  {
   "cell_type": "code",
   "execution_count": null,
   "metadata": {},
   "outputs": [],
   "source": [
    "air = pd.read_csv('data/international-airline-passengers.csv')\n",
    "air.Month = pd.to_datetime(air.Month)\n",
    "air.info()"
   ]
  },
  {
   "cell_type": "code",
   "execution_count": null,
   "metadata": {},
   "outputs": [],
   "source": [
    "ggplot(aes(x='Month', y='Thousand Passengers'), data=air) + geom_line()"
   ]
  },
  {
   "cell_type": "code",
   "execution_count": null,
   "metadata": {},
   "outputs": [],
   "source": [
    "ggplot(aes(x='Month', y='Thousand Passengers'), data=air) + geom_line() \\\n",
    "    + geom_smooth(method='lm')"
   ]
  },
  {
   "cell_type": "code",
   "execution_count": null,
   "metadata": {},
   "outputs": [],
   "source": [
    "ggplot(aes(x='Month', y='Thousand Passengers'), data=air) + geom_line() \\\n",
    "    + geom_area(alpha=0.3) + theme_bw()"
   ]
  },
  {
   "cell_type": "markdown",
   "metadata": {},
   "source": [
    "## Ejercicios\n",
    "* Abrir el dataset de peso y altura 'data/weight_height' y mostrar su información relevante.\n",
    "* Mostrar el histograma(ggplot) para cada uno de los valores de peso y altura.\n",
    "* Obtener el histograma(ggplot) de altura para cada género usando comandos de pandas.\n",
    "* Usando los datos de peso ajustar una distribución normal y obtener sus parámetros.\n",
    "* Mostrar la distribución cumulativa para la distribución resultante para un rango de valores a elegir.\n",
    "* Mostrar la correlación entre las variables.\n",
    "* Hacer una pivot table para el dataset de titanic usando como criterio el género del pasajero.\n",
    "* Hacer una prueba estadística para verificar si el género influye en la supervivencia."
   ]
  },
  {
   "cell_type": "code",
   "execution_count": null,
   "metadata": {},
   "outputs": [],
   "source": []
  }
 ],
 "metadata": {
  "kernelspec": {
   "display_name": "Python 3",
   "language": "python",
   "name": "python3"
  },
  "language_info": {
   "codemirror_mode": {
    "name": "ipython",
    "version": 3
   },
   "file_extension": ".py",
   "mimetype": "text/x-python",
   "name": "python",
   "nbconvert_exporter": "python",
   "pygments_lexer": "ipython3",
   "version": "3.6.0"
  }
 },
 "nbformat": 4,
 "nbformat_minor": 2
}
