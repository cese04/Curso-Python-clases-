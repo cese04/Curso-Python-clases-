{
 "cells": [
  {
   "cell_type": "markdown",
   "metadata": {},
   "source": [
    "# Temario Python\n",
    "------\n",
    "A continuación se enlistan los temas generales y lo que deben abarcar cada una de las clases de Python\n",
    "Este documento debe ser editable por lo que estará disponible en alguna carpeta compartida (dropbox)\n",
    "\n",
    "## Clase 1: Fundamentos de python\n",
    "    \n",
    "   * Entorno en el que se dará el curso\n",
    "        * Python 2.7 / 3.6 \n",
    "        * Ubuntu 11.10 o superior \n",
    "        * Jupyter /Anaconda  \n",
    "   * Diferencias con C\n",
    "        * \"Identación\"\n",
    "        * Interprete vs Compilador \n",
    "        * Variables dinámicas\n",
    "        * Paradigma \n",
    "        * Lenguaje estructurado\n",
    "        * Que necesita un cientifico\n",
    "   * Tipos de variables en Python\n",
    "   * Operadores elementales        \n",
    "   * Tupla, Lista y Diccionario\n",
    "   * Sentencias de control\n",
    "        * if/else\n",
    "        * elif\n",
    "        * while\n",
    "        * for \n",
    "   * Lenguaje Orientado a Objetos\n",
    "        * Funciones/Métodos\n",
    "        * Valores/Atributos/Caracteristicas\n",
    "        * Ejemplo de un objeto\n",
    "\n",
    "    \n",
    "## Clase 2: NumPy y graficación\n",
    "   * Algebra matricial repaso\n",
    "   * Decorator y time\n",
    "   * Numpy\n",
    "        * arrays\n",
    "        * dtype\n",
    "        * algebra lineal\n",
    "        * I/O\n",
    "   * Ploteo de funciones simples\n",
    "   * Matplotlib\n",
    "   * Seaborn\n",
    "   * Carga de imagenes\n",
    " \n",
    "## Clase 3: SciPy\n",
    "   * Scipy\n",
    "   * Cálculo\n",
    "   * Funciones $\\lambda$\n",
    "   * FFT\n",
    "   * Optimización\n",
    "   * Interpolación\n",
    "   * Integracion númerica\n",
    "## Clase 4: Procesamiento de Imagenes y Señales\n",
    "   * Señales:\n",
    "        * formas y tipos\n",
    "        * clasificaciones\n",
    "        * Criterio de Nyquist\n",
    "   * Convolución\n",
    "   * Wavelet continua\n",
    "   * Wavelet discreta\n",
    "   * Filtros\n",
    "        * Tipos y clasificacion de filtros\n",
    "   * Diagramas de Bode\n",
    "        * Respuesta en fase  \n",
    "        * Respuesta en magnitud\n",
    "    * Imagenes:\n",
    "        * Imagen como señal\n",
    "        * Histograma\n",
    "        * Filtros\n",
    "        * Umbralizado\n",
    "        * Convolucion\n",
    "        * TF      \n",
    "    * Filtros para imagenes\n",
    "        \n",
    "## Clase 5: Sci-kit Pandas\n",
    "    * Emiliano\n",
    "\n",
    "\n"
   ]
  },
  {
   "cell_type": "code",
   "execution_count": 1,
   "metadata": {},
   "outputs": [
    {
     "data": {
      "text/plain": [
       "5"
      ]
     },
     "execution_count": 1,
     "metadata": {},
     "output_type": "execute_result"
    }
   ],
   "source": [
    "#code\n",
    "2+3\n"
   ]
  },
  {
   "cell_type": "markdown",
   "metadata": {},
   "source": []
  }
 ],
 "metadata": {
  "kernelspec": {
   "display_name": "Python 3",
   "language": "python",
   "name": "python3"
  },
  "language_info": {
   "codemirror_mode": {
    "name": "ipython",
    "version": 3
   },
   "file_extension": ".py",
   "mimetype": "text/x-python",
   "name": "python",
   "nbconvert_exporter": "python",
   "pygments_lexer": "ipython3",
   "version": "3.6.4"
  }
 },
 "nbformat": 4,
 "nbformat_minor": 2
}
