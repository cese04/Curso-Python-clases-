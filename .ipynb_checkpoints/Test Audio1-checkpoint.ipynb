{
 "cells": [
  {
   "cell_type": "markdown",
   "metadata": {},
   "source": [
    "# Test de Pyaudio\n",
    "---\n",
    "Método de instalación\n",
    "::No disponible en Anaconda cloud ***\n",
    "\n",
    "## Windows:\n",
    "python -m pip install pyaudio\n",
    "\n",
    "## Mac:\n",
    "\n",
    "brew install portaudio \n",
    "pip install pyaudio\n",
    "\n",
    "Requiere instalar Homebrew como prerequisito, y usa ruby*\n",
    "/usr/bin/ruby -e \"$(curl -fsSL https://raw.githubusercontent.com/Homebrew/install/master/install)\"\n",
    "\n",
    "## Linux:\n",
    "\n",
    "sudo apt-get install python-pyaudio python3-pyaudio\n",
    "\n",
    "o\n",
    "\n",
    "pip install pyaudio"
   ]
  },
  {
   "cell_type": "code",
   "execution_count": 1,
   "metadata": {},
   "outputs": [
    {
     "ename": "ModuleNotFoundError",
     "evalue": "No module named 'pyaudio'",
     "output_type": "error",
     "traceback": [
      "\u001b[1;31m---------------------------------------------------------------------------\u001b[0m",
      "\u001b[1;31mModuleNotFoundError\u001b[0m                       Traceback (most recent call last)",
      "\u001b[1;32m<ipython-input-1-0adb68c2fb3b>\u001b[0m in \u001b[0;36m<module>\u001b[1;34m()\u001b[0m\n\u001b[0;32m      3\u001b[0m \u001b[1;32mimport\u001b[0m \u001b[0mmatplotlib\u001b[0m\u001b[1;33m.\u001b[0m\u001b[0mpyplot\u001b[0m \u001b[1;32mas\u001b[0m \u001b[0mplt\u001b[0m\u001b[1;33m\u001b[0m\u001b[0m\n\u001b[0;32m      4\u001b[0m \u001b[1;32mfrom\u001b[0m \u001b[0mscipy\u001b[0m\u001b[1;33m.\u001b[0m\u001b[0mio\u001b[0m \u001b[1;32mimport\u001b[0m \u001b[0mwavfile\u001b[0m\u001b[1;33m\u001b[0m\u001b[0m\n\u001b[1;32m----> 5\u001b[1;33m \u001b[1;32mimport\u001b[0m \u001b[0mpyaudio\u001b[0m\u001b[1;33m\u001b[0m\u001b[0m\n\u001b[0m\u001b[0;32m      6\u001b[0m \u001b[1;32mimport\u001b[0m \u001b[0mwave\u001b[0m\u001b[1;33m\u001b[0m\u001b[0m\n\u001b[0;32m      7\u001b[0m \u001b[1;33m\u001b[0m\u001b[0m\n",
      "\u001b[1;31mModuleNotFoundError\u001b[0m: No module named 'pyaudio'"
     ]
    }
   ],
   "source": [
    "\n",
    "import numpy as np\n",
    "import matplotlib.pyplot as plt\n",
    "from scipy.io import wavfile\n",
    "import pyaudio  \n",
    "import wave  \n",
    "\n",
    "#########################\n",
    "#Modificación del archivo, agregado del ruido\n",
    "\n",
    "fs, data = wavfile.read('Another.wav')\n",
    "L = len(data)\n",
    "\n",
    "Noise=np.int16(2000*(np.sin(2*np.pi*8000*np.linspace(0,1,L))))\n",
    "Noise=(data+Noise)/2\n",
    "wavfile.write('another3.wav',fs,Noise)\n",
    "\n",
    "#######################\n",
    "#Reproducir audio de entrada\n",
    "chunk = 1024  \n",
    "p = pyaudio.PyAudio()  \n",
    "#Abrir Stream\n",
    "#f = wave.open(\"Another.wav\",\"rb\")  \n",
    "f = wave.open(\"another3.wav\",\"rb\")  \n",
    "stream = p.open(format = p.get_format_from_width(f.getsampwidth()),  \n",
    "                channels = f.getnchannels(),  \n",
    "                rate = f.getframerate(),  \n",
    "                output = True)  \n",
    "#Leer información\n",
    "data = f.readframes(chunk)\n",
    "  \n",
    "#Reproducir Audio\n",
    "while data:  \n",
    "   stream.write(data)  \n",
    "   data = f.readframes(chunk)  \n",
    "#Cerrar Stream \n",
    "stream.stop_stream()  \n",
    "stream.close()    \n",
    "p.terminate() \n",
    "\n",
    "L = len(Noise)\n",
    "c = np.fft.fft(Noise) # create a list of complex number\n",
    "freq = np.fft.fftfreq(L)\n",
    "freq_en_hertz = abs(freq * fs)\n",
    "plt.plot(freq_en_hertz, abs(c))\n",
    "plt.show()"
   ]
  }
 ],
 "metadata": {
  "kernelspec": {
   "display_name": "Python 3",
   "language": "python",
   "name": "python3"
  },
  "language_info": {
   "codemirror_mode": {
    "name": "ipython",
    "version": 3
   },
   "file_extension": ".py",
   "mimetype": "text/x-python",
   "name": "python",
   "nbconvert_exporter": "python",
   "pygments_lexer": "ipython3",
   "version": "3.6.4"
  }
 },
 "nbformat": 4,
 "nbformat_minor": 2
}
