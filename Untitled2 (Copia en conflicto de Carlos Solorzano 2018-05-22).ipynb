{
 "cells": [
  {
   "cell_type": "markdown",
   "metadata": {},
   "source": [
    "# Clase 2 : Numpy y graficación\n",
    "---\n",
    "## Repaso de algebra maticial\n",
    "* Vector y matriz\n",
    "* Producto elemento a elemento\n",
    "* Producto de matrices\n",
    "* Producto punto y producto cruz de vectores\n",
    "* ? \n",
    "## ¿Qué es Numpy?\n",
    "---\n",
    "Numpy es una paquetería fundamental para la operación de arreglos númericos multidimencionales, además de operaciones rápidas con los mismos. \n",
    "Esta paquetería basa su funcionamiento en el objeto ndarray, que contiene arreglos n-dimensionales de datos de tipo homogeneo.\n",
    "Las principales caracteristicas que tiene son:\n",
    "\n",
    "* Tamaño ajustado, al cambiarlo se borra el objeto anterior y se crea uno nuevo en la memoria.\n",
    "* Tipo de dato homogeneo\n",
    "* Permite operaciones de forma eficiente, a comparación del uso de ciclos para las mismas.\n",
    "\n"
   ]
  },
  {
   "cell_type": "code",
   "execution_count": 4,
   "metadata": {
    "collapsed": false
   },
   "outputs": [
    {
     "name": "stdout",
     "output_type": "stream",
     "text": [
      "func:'producto_normal' args:[(array([[ 2.,  2.,  2., ...,  2.,  2.,  2.],\n",
      "       [ 2.,  2.,  2., ...,  2.,  2.,  2.],\n",
      "       [ 2.,  2.,  2., ...,  2.,  2.,  2.],\n",
      "       ..., \n",
      "       [ 2.,  2.,  2., ...,  2.,  2.,  2.],\n",
      "       [ 2.,  2.,  2., ...,  2.,  2.,  2.],\n",
      "       [ 2.,  2.,  2., ...,  2.,  2.,  2.]]), array([[ 3.,  3.,  3., ...,  3.,  3.,  3.],\n",
      "       [ 3.,  3.,  3., ...,  3.,  3.,  3.],\n",
      "       [ 3.,  3.,  3., ...,  3.,  3.,  3.],\n",
      "       ..., \n",
      "       [ 3.,  3.,  3., ...,  3.,  3.,  3.],\n",
      "       [ 3.,  3.,  3., ...,  3.,  3.,  3.],\n",
      "       [ 3.,  3.,  3., ...,  3.,  3.,  3.]])), {}] took: 0.008000 sec\n",
      "None\n",
      "func:'producto_numpy' args:[(array([[ 2.,  2.,  2., ...,  2.,  2.,  2.],\n",
      "       [ 2.,  2.,  2., ...,  2.,  2.,  2.],\n",
      "       [ 2.,  2.,  2., ...,  2.,  2.,  2.],\n",
      "       ..., \n",
      "       [ 2.,  2.,  2., ...,  2.,  2.,  2.],\n",
      "       [ 2.,  2.,  2., ...,  2.,  2.,  2.],\n",
      "       [ 2.,  2.,  2., ...,  2.,  2.,  2.]]), array([[ 3.,  3.,  3., ...,  3.,  3.,  3.],\n",
      "       [ 3.,  3.,  3., ...,  3.,  3.,  3.],\n",
      "       [ 3.,  3.,  3., ...,  3.,  3.,  3.],\n",
      "       ..., \n",
      "       [ 3.,  3.,  3., ...,  3.,  3.,  3.],\n",
      "       [ 3.,  3.,  3., ...,  3.,  3.,  3.],\n",
      "       [ 3.,  3.,  3., ...,  3.,  3.,  3.]])), {}] took: 0.001000 sec\n",
      "None\n"
     ]
    }
   ],
   "source": [
    "from __future__ import print_function, division\n",
    "import numpy as np\n",
    "from time import time\n",
    "from functools import wraps\n",
    "\n",
    "\n",
    "D=10000; #Probar con 1,10,1000\n",
    "\n",
    "a=2*np.ones((D,D));\n",
    "b=3*np.ones((D,D));\n",
    "\n",
    "\n",
    "#Z1=tm.clock()\n",
    "\n",
    "# Decorator para medir el tiempo\n",
    "def timing(f):\n",
    "    @wraps(f)\n",
    "    def wrap(*args, **kw):\n",
    "        ts = time()\n",
    "        result = f(*args, **kw)\n",
    "        te = time()\n",
    "        print('func:%r args:[%r, %r] took: %2.4f sec' % \\\n",
    "          (f.__name__, args, kw, te-ts))\n",
    "        return result\n",
    "    return wrap\n",
    "\n",
    "@timing\n",
    "def producto_normal(a, b, D):\n",
    "    c=np.zeros((D,D));\n",
    "    for i in range(len(b)):    \n",
    "        for j in range(len(b)):\n",
    "            c[i,j]=(a[i,j]*b[i,j])\n",
    "\n",
    "\n",
    "@timing\n",
    "def producto_numpy(a, b):\n",
    "    c = a * b\n",
    "\n",
    "print(producto_normal(a, b, D))\n",
    "print(producto_numpy(a, b))\n",
    "#print tm.clock()-Z1\n",
    "\n",
    "#Z2 =tm.clock()\n",
    "#print a*b\n",
    "#print tm.clock()-Z2\n"
   ]
  },
  {
   "cell_type": "code",
   "execution_count": null,
   "metadata": {
    "collapsed": true
   },
   "outputs": [],
   "source": []
  },
  {
   "cell_type": "markdown",
   "metadata": {},
   "source": [
    "### Instalando Numpy\n",
    "----\n",
    "Requerimos tener Python previamente. Anaconda ya cuenta con una paquetería de Numpy. Probar con: \"import Numpy as np\"\n",
    "Ante posibles complicaciones la página recopilatoria :https://scipy.org/install.html tiene información al respecto. Y dentro de anaconda ya viene instalada.\n",
    "\n",
    "### Instrucciones y funciones de numpy\n",
    "Los elementos dentro de un array de numpy están ordenados por ejes, o \"axes\".\n",
    "A continuación listaremos un conjunto de los atributos más importantes que tenemos en numpy.\n",
    "\n",
    "*ndarray.ndim* Número de ejes del arreglo.\n",
    "*ndarray.shape* Dimensiones del arreglo, retorna: (filas, columnas, etc).\n",
    "\n",
    "*ndarray.size*Total de elementos en el arreglo.\n",
    "*ndarray.dtype* \n",
    "*ndarray.data*  Localidad que contiene a los elementos del array. "
   ]
  },
  {
   "cell_type": "code",
   "execution_count": 62,
   "metadata": {
    "collapsed": false
   },
   "outputs": [
    {
     "name": "stdout",
     "output_type": "stream",
     "text": [
      "[[0 1]\n",
      " [2 3]\n",
      " [4 5]\n",
      " [6 7]\n",
      " [8 9]] (5L, 2L)\n",
      "[[1 2 3]\n",
      " [3 4 5]] (2L, 3L)\n",
      "\n",
      "6\n",
      "int32\n"
     ]
    }
   ],
   "source": [
    "import numpy as np\n",
    "\n",
    "a1=np.arange(10).reshape(5,2);\n",
    "a2=np.array([[1,2,3],[3,4,5]]);\n",
    "\n",
    "print a1, a1.shape\n",
    "print a2, a2.shape\n",
    "print\n",
    "\n",
    "print a2.size\n",
    "print a1.dtype "
   ]
  },
  {
   "cell_type": "markdown",
   "metadata": {},
   "source": [
    "### Formas de crear un array"
   ]
  },
  {
   "cell_type": "code",
   "execution_count": 72,
   "metadata": {
    "collapsed": false
   },
   "outputs": [
    {
     "name": "stdout",
     "output_type": "stream",
     "text": [
      "[1 2 3 4] 4\n",
      "\n",
      "[[ 1.+0.j  2.+0.j]\n",
      " [ 3.+0.j  4.+0.j]]\n"
     ]
    }
   ],
   "source": [
    "#a = np.array(1,2,3,4) # WRONG\n",
    "a = np.array([1,2,3,4]) # RIGHT\n",
    "b = np.array(4)\n",
    "print a,b\n",
    "print\n",
    "\n",
    "c = np.array( [ [1,2], [3,4] ], dtype=complex )\n",
    "print c\n"
   ]
  },
  {
   "cell_type": "markdown",
   "metadata": {},
   "source": [
    "### Funciones\n",
    "* .zeros((m,n))\n",
    "* .ones((m,n))\n",
    "* .empty((m,n))\n",
    "\n",
    "* .linspace('inicio','fin','cantidad')\n",
    "\n",
    "array, zeros, zeros_like, ones, ones_like, empty, empty_like, arange, linspace,\n",
    "numpy.random.rand, numpy.random.randn."
   ]
  },
  {
   "cell_type": "code",
   "execution_count": 47,
   "metadata": {
    "collapsed": false
   },
   "outputs": [
    {
     "name": "stdout",
     "output_type": "stream",
     "text": [
      "[ 0.    0.25  0.5   0.75  1.  ]\n",
      "[ 1.    0.75  0.5   0.25  0.  ]\n",
      "[ 0.          1.57079633  3.14159265  4.71238898  6.28318531]\n",
      "[  0.00000000e+00   1.00000000e+00   1.22464680e-16  -1.00000000e+00\n",
      "  -2.44929360e-16]\n",
      "[[ 0.3995223]]\n",
      "[[-1.07366017]]\n"
     ]
    }
   ],
   "source": [
    "import numpy as np\n",
    "\n",
    "print np.linspace(0,1,5)\n",
    "print np.linspace(1,0,5)\n",
    "\n",
    "x = np.linspace( 0, 2*np.pi, 5 )\n",
    "print   x\n",
    "print np.sin(x)\n",
    "#Funciones Universales: ufunc. \n",
    "\n",
    "print np.random.rand(1,1)\n",
    "print np.random.randn(1,1) #Random normal de varianza 1, media 0: \n",
    "                            # sigma*np.random.randn()+mu\n"
   ]
  },
  {
   "cell_type": "markdown",
   "metadata": {},
   "source": [
    "$$ N(\\mu,\\sigma^2)$$"
   ]
  },
  {
   "cell_type": "markdown",
   "metadata": {},
   "source": [
    "#### Suma, resta, producto, producto punto\n",
    "---\n",
    "    Es posible utilizar los signos +=, -=, etc. tal como en C"
   ]
  },
  {
   "cell_type": "code",
   "execution_count": 111,
   "metadata": {
    "collapsed": false
   },
   "outputs": [
    {
     "data": {
      "text/plain": [
       "array([[2, 0],\n",
       "       [0, 4]])"
      ]
     },
     "execution_count": 111,
     "metadata": {},
     "output_type": "execute_result"
    }
   ],
   "source": [
    "A = np.array( [[1,1],\n",
    "               [0,1]] )\n",
    "B = np.array( [[2,0],\n",
    "               [3,4]] )\n",
    "\n",
    "A*B # elementwise product"
   ]
  },
  {
   "cell_type": "code",
   "execution_count": 109,
   "metadata": {
    "collapsed": false
   },
   "outputs": [
    {
     "data": {
      "text/plain": [
       "array([[5, 4],\n",
       "       [3, 4]])"
      ]
     },
     "execution_count": 109,
     "metadata": {},
     "output_type": "execute_result"
    }
   ],
   "source": [
    "A.dot(B) # matrix product"
   ]
  },
  {
   "cell_type": "code",
   "execution_count": 110,
   "metadata": {
    "collapsed": false
   },
   "outputs": [
    {
     "data": {
      "text/plain": [
       "array([[5, 4],\n",
       "       [3, 4]])"
      ]
     },
     "execution_count": 110,
     "metadata": {},
     "output_type": "execute_result"
    }
   ],
   "source": [
    "np.dot(A, B) # another matrix product"
   ]
  },
  {
   "cell_type": "markdown",
   "metadata": {},
   "source": [
    "#### suma, mínimo, máximo, reshape\n",
    "#### cumsum, sqrt,e\n"
   ]
  },
  {
   "cell_type": "code",
   "execution_count": 30,
   "metadata": {
    "collapsed": false
   },
   "outputs": [
    {
     "name": "stdout",
     "output_type": "stream",
     "text": [
      "[[ 0  1  2  3]\n",
      " [ 4  5  6  7]\n",
      " [ 8  9 10 11]]\n",
      "[12 15 18 21]\n",
      "[0 4 8]\n",
      "11\n",
      "[[ 0  1  3  6]\n",
      " [ 4  9 15 22]\n",
      " [ 8 17 27 38]]\n",
      "2.0\n"
     ]
    }
   ],
   "source": [
    "import numpy as np\n",
    "b = np.arange(12).reshape(3,4)\n",
    "print b\n",
    "print b.sum(axis=0) # suma de columna\n",
    "print b.min(axis=1) # minimo de fila\n",
    "print b.max()       # maximo total\n",
    "#b.max(axis=2) ?\n",
    "\n",
    "print b.cumsum(axis=1) # suma acumulada por filas\n",
    "#b.cumsum() ?\n",
    "\n",
    "T=np.exp(1) \n",
    "#T=np.sqrt(2)\n",
    "#T=np.sqrt(4)\n",
    "print T"
   ]
  },
  {
   "cell_type": "markdown",
   "metadata": {},
   "source": [
    "#### Insertar datos, cortar e iterar\n",
    "Igual, que otras listar y arreglos de Python es posible insertar, cortar e iterar datos"
   ]
  },
  {
   "cell_type": "code",
   "execution_count": 51,
   "metadata": {
    "collapsed": false
   },
   "outputs": [
    {
     "data": {
      "text/plain": [
       "array([  0,   1,   8,  27,  64, 125, 216, 343, 512, 729])"
      ]
     },
     "execution_count": 51,
     "metadata": {},
     "output_type": "execute_result"
    }
   ],
   "source": [
    "a = np.arange(10)**3\n",
    "a"
   ]
  },
  {
   "cell_type": "code",
   "execution_count": 53,
   "metadata": {
    "collapsed": false
   },
   "outputs": [
    {
     "data": {
      "text/plain": [
       "8"
      ]
     },
     "execution_count": 53,
     "metadata": {},
     "output_type": "execute_result"
    }
   ],
   "source": [
    "a[2]\n"
   ]
  },
  {
   "cell_type": "code",
   "execution_count": 54,
   "metadata": {
    "collapsed": false
   },
   "outputs": [
    {
     "data": {
      "text/plain": [
       "array([ 8, 27, 64])"
      ]
     },
     "execution_count": 54,
     "metadata": {},
     "output_type": "execute_result"
    }
   ],
   "source": [
    "a[2:5] #El limite superior es excluyente \"[a,b)\" para b>1 \n"
   ]
  },
  {
   "cell_type": "code",
   "execution_count": 58,
   "metadata": {
    "collapsed": false
   },
   "outputs": [
    {
     "data": {
      "text/plain": [
       "array([-100,    1, -100,   27, -100,  125,  216,  343,  512,  729])"
      ]
     },
     "execution_count": 58,
     "metadata": {},
     "output_type": "execute_result"
    }
   ],
   "source": [
    "a[0:6:2]=-100 # Del 0 al 6, de 2 en 2\n",
    "a"
   ]
  },
  {
   "cell_type": "code",
   "execution_count": 59,
   "metadata": {
    "collapsed": false
   },
   "outputs": [
    {
     "data": {
      "text/plain": [
       "array([ 729,  512,  343,  216,  125, -100,   27, -100,    1, -100])"
      ]
     },
     "execution_count": 59,
     "metadata": {},
     "output_type": "execute_result"
    }
   ],
   "source": [
    "a[: :-1] #Revertir"
   ]
  },
  {
   "cell_type": "code",
   "execution_count": null,
   "metadata": {
    "collapsed": true
   },
   "outputs": [],
   "source": [
    "\n",
    "#a[-1]  #ultimo elemento"
   ]
  },
  {
   "cell_type": "code",
   "execution_count": null,
   "metadata": {
    "collapsed": true
   },
   "outputs": [],
   "source": []
  },
  {
   "cell_type": "code",
   "execution_count": null,
   "metadata": {
    "collapsed": true
   },
   "outputs": [],
   "source": [
    "\n",
    "## Ploteo de graficas simples\n",
    "---\n",
    "\n",
    "## Matplotlib\n",
    "\n",
    "## Dash Plot\n",
    "\n",
    "## Ejemplo de ***otro plot ***\n"
   ]
  }
 ],
 "metadata": {
  "kernelspec": {
   "display_name": "Python 2",
   "language": "python",
   "name": "python2"
  },
  "language_info": {
   "codemirror_mode": {
    "name": "ipython",
    "version": 2
   },
   "file_extension": ".py",
   "mimetype": "text/x-python",
   "name": "python",
   "nbconvert_exporter": "python",
   "pygments_lexer": "ipython2",
   "version": "2.7.13"
  }
 },
 "nbformat": 4,
 "nbformat_minor": 2
}
