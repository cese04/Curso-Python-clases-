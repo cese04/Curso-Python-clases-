{
 "cells": [
  {
   "cell_type": "markdown",
   "metadata": {},
   "source": [
    "chchchhc\n",
    "\n",
    "$$3^4 $$\n",
    "\n",
    "## Hola\n",
    "\n"
   ]
  },
  {
   "cell_type": "code",
   "execution_count": 9,
   "metadata": {},
   "outputs": [
    {
     "name": "stdout",
     "output_type": "stream",
     "text": [
      "2\n",
      "\n",
      "\n",
      "1\n",
      "\n",
      "\n",
      "2\n",
      "3\n"
     ]
    }
   ],
   "source": [
    "if(1<2):\n",
    "    print(2)\n",
    "print(\"\\n\")\n",
    "for I in range(1,2):\n",
    "    print(I)\n",
    "print(\"\\n\"  )    \n",
    "while(I<3):\n",
    "    I=I+1\n",
    "    print(I)"
   ]
  }
 ],
 "metadata": {
  "kernelspec": {
   "display_name": "Python 3",
   "language": "python",
   "name": "python3"
  },
  "language_info": {
   "codemirror_mode": {
    "name": "ipython",
    "version": 3
   },
   "file_extension": ".py",
   "mimetype": "text/x-python",
   "name": "python",
   "nbconvert_exporter": "python",
   "pygments_lexer": "ipython3",
   "version": "3.6.4"
  }
 },
 "nbformat": 4,
 "nbformat_minor": 2
}
